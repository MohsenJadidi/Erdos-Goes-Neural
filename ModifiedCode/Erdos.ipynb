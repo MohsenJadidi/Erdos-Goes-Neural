{
  "nbformat": 4,
  "nbformat_minor": 0,
  "metadata": {
    "accelerator": "GPU",
    "colab": {
      "name": "Erdos.ipynb",
      "provenance": [],
      "collapsed_sections": [],
      "authorship_tag": "ABX9TyPNOmqmF5EWSY4nWmnXsMw8",
      "include_colab_link": true
    },
    "kernelspec": {
      "display_name": "Python 3",
      "name": "python3"
    }
  },
  "cells": [
    {
      "cell_type": "markdown",
      "metadata": {
        "id": "view-in-github",
        "colab_type": "text"
      },
      "source": [
        "<a href=\"https://colab.research.google.com/github/MohsenJadidi/Erdos-Goes-Neural/blob/main/ModifiedCode/Erdos.ipynb\" target=\"_parent\"><img src=\"https://colab.research.google.com/assets/colab-badge.svg\" alt=\"Open In Colab\"/></a>"
      ]
    },
    {
      "cell_type": "code",
      "metadata": {
        "colab": {
          "base_uri": "https://localhost:8080/"
        },
        "id": "WXR2JFkArVDW",
        "outputId": "5e50a705-144e-4b74-f168-e4d393dd56f5"
      },
      "source": [
        "!pip install torch_scatter\r\n",
        "!pip install torch_sparse\r\n",
        "!pip install torch_geometric\r\n"
      ],
      "execution_count": 1,
      "outputs": [
        {
          "output_type": "stream",
          "text": [
            "Collecting torch_scatter\n",
            "  Downloading https://files.pythonhosted.org/packages/01/45/cd93ed3227248773ba8bc4b3beaa04e8bddb127a793a41bad875369951b3/torch_scatter-2.0.5.tar.gz\n",
            "Building wheels for collected packages: torch-scatter\n",
            "  Building wheel for torch-scatter (setup.py) ... \u001b[?25l\u001b[?25hdone\n",
            "  Created wheel for torch-scatter: filename=torch_scatter-2.0.5-cp37-cp37m-linux_x86_64.whl size=11780555 sha256=dd003388a6789dbd7a4a3e182b2ab690e6f90908dcf615572e234f68212c89ef\n",
            "  Stored in directory: /root/.cache/pip/wheels/42/59/d3/9866e4fd8e1fe9260740acfe22322c428bc0dc064d3ebc456c\n",
            "Successfully built torch-scatter\n",
            "Installing collected packages: torch-scatter\n",
            "Successfully installed torch-scatter-2.0.5\n",
            "Collecting torch_sparse\n",
            "  Downloading https://files.pythonhosted.org/packages/3c/dd/f34dce6512a3922948c3ac0cf50cceb2eeafeedd34a278d502eb77d07dc0/torch_sparse-0.6.8.tar.gz\n",
            "Requirement already satisfied: scipy in /usr/local/lib/python3.7/dist-packages (from torch_sparse) (1.4.1)\n",
            "Requirement already satisfied: numpy>=1.13.3 in /usr/local/lib/python3.7/dist-packages (from scipy->torch_sparse) (1.19.5)\n",
            "Building wheels for collected packages: torch-sparse\n",
            "  Building wheel for torch-sparse (setup.py) ... \u001b[?25l\u001b[?25hdone\n",
            "  Created wheel for torch-sparse: filename=torch_sparse-0.6.8-cp37-cp37m-linux_x86_64.whl size=23331304 sha256=e00936fc378f32efc7aa53969a7dec4427f3bb39a4abd612d471d4c3bbe4eb13\n",
            "  Stored in directory: /root/.cache/pip/wheels/31/d3/94/e2560941994bebe665b1dccc69faf33d33aeee2bca353c9bcc\n",
            "Successfully built torch-sparse\n",
            "Installing collected packages: torch-sparse\n",
            "Successfully installed torch-sparse-0.6.8\n",
            "Collecting torch_geometric\n",
            "\u001b[?25l  Downloading https://files.pythonhosted.org/packages/59/5c/3e95b76321fb14f24cc2ace392075717f645c4632e796ee0db1bc7d17231/torch_geometric-1.6.3.tar.gz (186kB)\n",
            "\u001b[K     |████████████████████████████████| 194kB 6.1MB/s \n",
            "\u001b[?25hRequirement already satisfied: torch in /usr/local/lib/python3.7/dist-packages (from torch_geometric) (1.7.0+cu101)\n",
            "Requirement already satisfied: numpy in /usr/local/lib/python3.7/dist-packages (from torch_geometric) (1.19.5)\n",
            "Requirement already satisfied: tqdm in /usr/local/lib/python3.7/dist-packages (from torch_geometric) (4.41.1)\n",
            "Requirement already satisfied: scipy in /usr/local/lib/python3.7/dist-packages (from torch_geometric) (1.4.1)\n",
            "Requirement already satisfied: networkx in /usr/local/lib/python3.7/dist-packages (from torch_geometric) (2.5)\n",
            "Requirement already satisfied: python-louvain in /usr/local/lib/python3.7/dist-packages (from torch_geometric) (0.15)\n",
            "Requirement already satisfied: scikit-learn in /usr/local/lib/python3.7/dist-packages (from torch_geometric) (0.22.2.post1)\n",
            "Requirement already satisfied: numba in /usr/local/lib/python3.7/dist-packages (from torch_geometric) (0.51.2)\n",
            "Requirement already satisfied: requests in /usr/local/lib/python3.7/dist-packages (from torch_geometric) (2.23.0)\n",
            "Requirement already satisfied: pandas in /usr/local/lib/python3.7/dist-packages (from torch_geometric) (1.1.5)\n",
            "Collecting rdflib\n",
            "\u001b[?25l  Downloading https://files.pythonhosted.org/packages/d0/6b/6454aa1db753c0f8bc265a5bd5c10b5721a4bb24160fb4faf758cf6be8a1/rdflib-5.0.0-py3-none-any.whl (231kB)\n",
            "\u001b[K     |████████████████████████████████| 235kB 35.0MB/s \n",
            "\u001b[?25hRequirement already satisfied: h5py in /usr/local/lib/python3.7/dist-packages (from torch_geometric) (2.10.0)\n",
            "Requirement already satisfied: googledrivedownloader in /usr/local/lib/python3.7/dist-packages (from torch_geometric) (0.4)\n",
            "Collecting ase\n",
            "\u001b[?25l  Downloading https://files.pythonhosted.org/packages/a5/36/de17e79f29e06d9a92746d0dd9ec4636487ab03f6af10e78586aae533f7a/ase-3.21.1-py3-none-any.whl (2.2MB)\n",
            "\u001b[K     |████████████████████████████████| 2.2MB 41.8MB/s \n",
            "\u001b[?25hRequirement already satisfied: jinja2 in /usr/local/lib/python3.7/dist-packages (from torch_geometric) (2.11.3)\n",
            "Requirement already satisfied: dataclasses in /usr/local/lib/python3.7/dist-packages (from torch->torch_geometric) (0.6)\n",
            "Requirement already satisfied: future in /usr/local/lib/python3.7/dist-packages (from torch->torch_geometric) (0.16.0)\n",
            "Requirement already satisfied: typing-extensions in /usr/local/lib/python3.7/dist-packages (from torch->torch_geometric) (3.7.4.3)\n",
            "Requirement already satisfied: decorator>=4.3.0 in /usr/local/lib/python3.7/dist-packages (from networkx->torch_geometric) (4.4.2)\n",
            "Requirement already satisfied: joblib>=0.11 in /usr/local/lib/python3.7/dist-packages (from scikit-learn->torch_geometric) (1.0.1)\n",
            "Requirement already satisfied: llvmlite<0.35,>=0.34.0.dev0 in /usr/local/lib/python3.7/dist-packages (from numba->torch_geometric) (0.34.0)\n",
            "Requirement already satisfied: setuptools in /usr/local/lib/python3.7/dist-packages (from numba->torch_geometric) (53.0.0)\n",
            "Requirement already satisfied: urllib3!=1.25.0,!=1.25.1,<1.26,>=1.21.1 in /usr/local/lib/python3.7/dist-packages (from requests->torch_geometric) (1.24.3)\n",
            "Requirement already satisfied: idna<3,>=2.5 in /usr/local/lib/python3.7/dist-packages (from requests->torch_geometric) (2.10)\n",
            "Requirement already satisfied: certifi>=2017.4.17 in /usr/local/lib/python3.7/dist-packages (from requests->torch_geometric) (2020.12.5)\n",
            "Requirement already satisfied: chardet<4,>=3.0.2 in /usr/local/lib/python3.7/dist-packages (from requests->torch_geometric) (3.0.4)\n",
            "Requirement already satisfied: python-dateutil>=2.7.3 in /usr/local/lib/python3.7/dist-packages (from pandas->torch_geometric) (2.8.1)\n",
            "Requirement already satisfied: pytz>=2017.2 in /usr/local/lib/python3.7/dist-packages (from pandas->torch_geometric) (2018.9)\n",
            "Requirement already satisfied: six in /usr/local/lib/python3.7/dist-packages (from rdflib->torch_geometric) (1.15.0)\n",
            "Requirement already satisfied: pyparsing in /usr/local/lib/python3.7/dist-packages (from rdflib->torch_geometric) (2.4.7)\n",
            "Collecting isodate\n",
            "\u001b[?25l  Downloading https://files.pythonhosted.org/packages/9b/9f/b36f7774ff5ea8e428fdcfc4bb332c39ee5b9362ddd3d40d9516a55221b2/isodate-0.6.0-py2.py3-none-any.whl (45kB)\n",
            "\u001b[K     |████████████████████████████████| 51kB 7.1MB/s \n",
            "\u001b[?25hRequirement already satisfied: matplotlib>=2.0.0 in /usr/local/lib/python3.7/dist-packages (from ase->torch_geometric) (3.2.2)\n",
            "Requirement already satisfied: MarkupSafe>=0.23 in /usr/local/lib/python3.7/dist-packages (from jinja2->torch_geometric) (1.1.1)\n",
            "Requirement already satisfied: kiwisolver>=1.0.1 in /usr/local/lib/python3.7/dist-packages (from matplotlib>=2.0.0->ase->torch_geometric) (1.3.1)\n",
            "Requirement already satisfied: cycler>=0.10 in /usr/local/lib/python3.7/dist-packages (from matplotlib>=2.0.0->ase->torch_geometric) (0.10.0)\n",
            "Building wheels for collected packages: torch-geometric\n",
            "  Building wheel for torch-geometric (setup.py) ... \u001b[?25l\u001b[?25hdone\n",
            "  Created wheel for torch-geometric: filename=torch_geometric-1.6.3-cp37-none-any.whl size=322719 sha256=f5b6528512cecaf7940416066eab181840d96d5eee7e58959ed1132d0f72e9ee\n",
            "  Stored in directory: /root/.cache/pip/wheels/6d/47/1e/0af8ce3e21783c3e584c22502011a3367c091694eebc50a971\n",
            "Successfully built torch-geometric\n",
            "Installing collected packages: isodate, rdflib, ase, torch-geometric\n",
            "Successfully installed ase-3.21.1 isodate-0.6.0 rdflib-5.0.0 torch-geometric-1.6.3\n"
          ],
          "name": "stdout"
        }
      ]
    },
    {
      "cell_type": "code",
      "metadata": {
        "colab": {
          "base_uri": "https://localhost:8080/"
        },
        "id": "EMQuP5ut4An3",
        "outputId": "d348cf5a-db3d-42b8-cd3f-bfc7cdc73636"
      },
      "source": [
        "!apt-get install python3-dev graphviz libgraphviz-dev pkg-config\r\n",
        "!pip install graphviz\r\n",
        "!pip install pygraphviz\r\n",
        "\r\n"
      ],
      "execution_count": 3,
      "outputs": [
        {
          "output_type": "stream",
          "text": [
            "Reading package lists... Done\n",
            "Building dependency tree       \n",
            "Reading state information... Done\n",
            "pkg-config is already the newest version (0.29.1-0ubuntu2).\n",
            "graphviz is already the newest version (2.40.1-2).\n",
            "python3-dev is already the newest version (3.6.7-1~18.04).\n",
            "python3-dev set to manually installed.\n",
            "The following additional packages will be installed:\n",
            "  libgail-common libgail18 libgtk2.0-0 libgtk2.0-bin libgtk2.0-common\n",
            "  libgvc6-plugins-gtk libxdot4\n",
            "Suggested packages:\n",
            "  gvfs\n",
            "The following NEW packages will be installed:\n",
            "  libgail-common libgail18 libgraphviz-dev libgtk2.0-0 libgtk2.0-bin\n",
            "  libgtk2.0-common libgvc6-plugins-gtk libxdot4\n",
            "0 upgraded, 8 newly installed, 0 to remove and 13 not upgraded.\n",
            "Need to get 2,120 kB of archives.\n",
            "After this operation, 7,128 kB of additional disk space will be used.\n",
            "Get:1 http://archive.ubuntu.com/ubuntu bionic/main amd64 libgtk2.0-common all 2.24.32-1ubuntu1 [125 kB]\n",
            "Get:2 http://archive.ubuntu.com/ubuntu bionic/main amd64 libgtk2.0-0 amd64 2.24.32-1ubuntu1 [1,769 kB]\n",
            "Get:3 http://archive.ubuntu.com/ubuntu bionic/main amd64 libgail18 amd64 2.24.32-1ubuntu1 [14.2 kB]\n",
            "Get:4 http://archive.ubuntu.com/ubuntu bionic/main amd64 libgail-common amd64 2.24.32-1ubuntu1 [112 kB]\n",
            "Get:5 http://archive.ubuntu.com/ubuntu bionic/universe amd64 libxdot4 amd64 2.40.1-2 [15.7 kB]\n",
            "Get:6 http://archive.ubuntu.com/ubuntu bionic/universe amd64 libgvc6-plugins-gtk amd64 2.40.1-2 [18.2 kB]\n",
            "Get:7 http://archive.ubuntu.com/ubuntu bionic/universe amd64 libgraphviz-dev amd64 2.40.1-2 [57.3 kB]\n",
            "Get:8 http://archive.ubuntu.com/ubuntu bionic/main amd64 libgtk2.0-bin amd64 2.24.32-1ubuntu1 [7,536 B]\n",
            "Fetched 2,120 kB in 3s (817 kB/s)\n",
            "Selecting previously unselected package libgtk2.0-common.\n",
            "(Reading database ... 149406 files and directories currently installed.)\n",
            "Preparing to unpack .../0-libgtk2.0-common_2.24.32-1ubuntu1_all.deb ...\n",
            "Unpacking libgtk2.0-common (2.24.32-1ubuntu1) ...\n",
            "Selecting previously unselected package libgtk2.0-0:amd64.\n",
            "Preparing to unpack .../1-libgtk2.0-0_2.24.32-1ubuntu1_amd64.deb ...\n",
            "Unpacking libgtk2.0-0:amd64 (2.24.32-1ubuntu1) ...\n",
            "Selecting previously unselected package libgail18:amd64.\n",
            "Preparing to unpack .../2-libgail18_2.24.32-1ubuntu1_amd64.deb ...\n",
            "Unpacking libgail18:amd64 (2.24.32-1ubuntu1) ...\n",
            "Selecting previously unselected package libgail-common:amd64.\n",
            "Preparing to unpack .../3-libgail-common_2.24.32-1ubuntu1_amd64.deb ...\n",
            "Unpacking libgail-common:amd64 (2.24.32-1ubuntu1) ...\n",
            "Selecting previously unselected package libxdot4.\n",
            "Preparing to unpack .../4-libxdot4_2.40.1-2_amd64.deb ...\n",
            "Unpacking libxdot4 (2.40.1-2) ...\n",
            "Selecting previously unselected package libgvc6-plugins-gtk.\n",
            "Preparing to unpack .../5-libgvc6-plugins-gtk_2.40.1-2_amd64.deb ...\n",
            "Unpacking libgvc6-plugins-gtk (2.40.1-2) ...\n",
            "Selecting previously unselected package libgraphviz-dev.\n",
            "Preparing to unpack .../6-libgraphviz-dev_2.40.1-2_amd64.deb ...\n",
            "Unpacking libgraphviz-dev (2.40.1-2) ...\n",
            "Selecting previously unselected package libgtk2.0-bin.\n",
            "Preparing to unpack .../7-libgtk2.0-bin_2.24.32-1ubuntu1_amd64.deb ...\n",
            "Unpacking libgtk2.0-bin (2.24.32-1ubuntu1) ...\n",
            "Setting up libgtk2.0-common (2.24.32-1ubuntu1) ...\n",
            "Setting up libxdot4 (2.40.1-2) ...\n",
            "Setting up libgtk2.0-0:amd64 (2.24.32-1ubuntu1) ...\n",
            "Setting up libgail18:amd64 (2.24.32-1ubuntu1) ...\n",
            "Setting up libgail-common:amd64 (2.24.32-1ubuntu1) ...\n",
            "Setting up libgvc6-plugins-gtk (2.40.1-2) ...\n",
            "Setting up libgraphviz-dev (2.40.1-2) ...\n",
            "Setting up libgtk2.0-bin (2.24.32-1ubuntu1) ...\n",
            "Processing triggers for man-db (2.8.3-2ubuntu0.1) ...\n",
            "Processing triggers for libc-bin (2.27-3ubuntu1.4) ...\n",
            "/sbin/ldconfig.real: /usr/local/lib/python3.7/dist-packages/ideep4py/lib/libmkldnn.so.0 is not a symbolic link\n",
            "\n",
            "Requirement already satisfied: graphviz in /usr/local/lib/python3.7/dist-packages (0.10.1)\n",
            "Collecting pygraphviz\n",
            "\u001b[?25l  Downloading https://files.pythonhosted.org/packages/3a/d6/2c56f09ee83dbebb62c40487e4c972135661b9984fec9b30b77fb497090c/pygraphviz-1.7.zip (118kB)\n",
            "\u001b[K     |████████████████████████████████| 122kB 4.1MB/s \n",
            "\u001b[?25hBuilding wheels for collected packages: pygraphviz\n",
            "  Building wheel for pygraphviz (setup.py) ... \u001b[?25l\u001b[?25hdone\n",
            "  Created wheel for pygraphviz: filename=pygraphviz-1.7-cp37-cp37m-linux_x86_64.whl size=166109 sha256=8c14fc2b222d598ba60bc618f79bb0a13879c37bf59aa331db8949d4b2ac6647\n",
            "  Stored in directory: /root/.cache/pip/wheels/32/59/00/14934a4292c4359eeabcdbf90f33d309b55d0f1be8a1262523\n",
            "Successfully built pygraphviz\n",
            "Installing collected packages: pygraphviz\n",
            "Successfully installed pygraphviz-1.7\n",
            "Collecting visdom\n",
            "\u001b[?25l  Downloading https://files.pythonhosted.org/packages/c9/75/e078f5a2e1df7e0d3044749089fc2823e62d029cc027ed8ae5d71fafcbdc/visdom-0.1.8.9.tar.gz (676kB)\n",
            "\u001b[K     |████████████████████████████████| 686kB 4.1MB/s \n",
            "\u001b[?25hRequirement already satisfied: numpy>=1.8 in /usr/local/lib/python3.7/dist-packages (from visdom) (1.19.5)\n",
            "Requirement already satisfied: scipy in /usr/local/lib/python3.7/dist-packages (from visdom) (1.4.1)\n",
            "Requirement already satisfied: requests in /usr/local/lib/python3.7/dist-packages (from visdom) (2.23.0)\n",
            "Requirement already satisfied: tornado in /usr/local/lib/python3.7/dist-packages (from visdom) (5.1.1)\n",
            "Requirement already satisfied: pyzmq in /usr/local/lib/python3.7/dist-packages (from visdom) (22.0.3)\n",
            "Requirement already satisfied: six in /usr/local/lib/python3.7/dist-packages (from visdom) (1.15.0)\n",
            "Collecting jsonpatch\n",
            "  Downloading https://files.pythonhosted.org/packages/40/d5/6640ac6d1bdd20f44bb6b3c6e6f2f1c525bf0b7595f99c4f38917f995d6b/jsonpatch-1.28-py2.py3-none-any.whl\n",
            "Collecting torchfile\n",
            "  Downloading https://files.pythonhosted.org/packages/91/af/5b305f86f2d218091af657ddb53f984ecbd9518ca9fe8ef4103a007252c9/torchfile-0.1.0.tar.gz\n",
            "Collecting websocket-client\n",
            "\u001b[?25l  Downloading https://files.pythonhosted.org/packages/4c/5f/f61b420143ed1c8dc69f9eaec5ff1ac36109d52c80de49d66e0c36c3dfdf/websocket_client-0.57.0-py2.py3-none-any.whl (200kB)\n",
            "\u001b[K     |████████████████████████████████| 204kB 34.5MB/s \n",
            "\u001b[?25hRequirement already satisfied: pillow in /usr/local/lib/python3.7/dist-packages (from visdom) (7.0.0)\n",
            "Requirement already satisfied: urllib3!=1.25.0,!=1.25.1,<1.26,>=1.21.1 in /usr/local/lib/python3.7/dist-packages (from requests->visdom) (1.24.3)\n",
            "Requirement already satisfied: chardet<4,>=3.0.2 in /usr/local/lib/python3.7/dist-packages (from requests->visdom) (3.0.4)\n",
            "Requirement already satisfied: certifi>=2017.4.17 in /usr/local/lib/python3.7/dist-packages (from requests->visdom) (2020.12.5)\n",
            "Requirement already satisfied: idna<3,>=2.5 in /usr/local/lib/python3.7/dist-packages (from requests->visdom) (2.10)\n",
            "Collecting jsonpointer>=1.9\n",
            "  Downloading https://files.pythonhosted.org/packages/18/b0/a80d29577c08eea401659254dfaed87f1af45272899e1812d7e01b679bc5/jsonpointer-2.0-py2.py3-none-any.whl\n",
            "Building wheels for collected packages: visdom, torchfile\n",
            "  Building wheel for visdom (setup.py) ... \u001b[?25l\u001b[?25hdone\n",
            "  Created wheel for visdom: filename=visdom-0.1.8.9-cp37-none-any.whl size=655251 sha256=8d21d72296a215e920fc832ebb954a0a87dcf304e1212c56c8bf3def5f2c8c1a\n",
            "  Stored in directory: /root/.cache/pip/wheels/70/19/a7/6d589ed967f4dfefd33bc166d081257bd4ed0cb618dccfd62a\n",
            "  Building wheel for torchfile (setup.py) ... \u001b[?25l\u001b[?25hdone\n",
            "  Created wheel for torchfile: filename=torchfile-0.1.0-cp37-none-any.whl size=5713 sha256=2f84b65b2d086ee6065a9370b775e10696a53ab02ccfbf12f69b81ce9c4fe12a\n",
            "  Stored in directory: /root/.cache/pip/wheels/b1/c3/d6/9a1cc8f3a99a0fc1124cae20153f36af59a6e683daca0a0814\n",
            "Successfully built visdom torchfile\n",
            "Installing collected packages: jsonpointer, jsonpatch, torchfile, websocket-client, visdom\n",
            "Successfully installed jsonpatch-1.28 jsonpointer-2.0 torchfile-0.1.0 visdom-0.1.8.9 websocket-client-0.57.0\n",
            "\u001b[31mERROR: Could not find a version that satisfies the requirement GPUtill==1.4.0 (from versions: none)\u001b[0m\n",
            "\u001b[31mERROR: No matching distribution found for GPUtill==1.4.0\u001b[0m\n"
          ],
          "name": "stdout"
        }
      ]
    },
    {
      "cell_type": "code",
      "metadata": {
        "id": "ielFx5sjJDhg"
      },
      "source": [
        "!pip install visdom\r\n",
        "!pip install GPUtil"
      ],
      "execution_count": null,
      "outputs": []
    },
    {
      "cell_type": "code",
      "metadata": {
        "colab": {
          "base_uri": "https://localhost:8080/"
        },
        "id": "d6rldKktrQgQ",
        "outputId": "bf683666-64c7-4d84-cfe7-544a098ba19e"
      },
      "source": [
        "from google.colab import drive\r\n",
        "drive.mount('/content/drive/')\r\n",
        "\r\n",
        "import sys\r\n",
        "sys.path.append('/content/drive/My Drive/ISLR Course - Fall 2020/Project')"
      ],
      "execution_count": 2,
      "outputs": [
        {
          "output_type": "stream",
          "text": [
            "Mounted at /content/drive/\n"
          ],
          "name": "stdout"
        }
      ]
    },
    {
      "cell_type": "code",
      "metadata": {
        "id": "zxezMd9Hq-tg"
      },
      "source": [
        "import os\r\n",
        "os.environ[\"CUDA_DEVICE_ORDER\"]=\"PCI_BUS_ID\"   # see issue #152\r\n",
        "os.environ[\"CUDA_VISIBLE_DEVICES\"]=\"0\"#imports\r\n",
        "#imports\r\n",
        "import torch\r\n",
        "import torch.nn.functional as F\r\n",
        "\r\n",
        "from torch.nn import Linear\r\n",
        "\r\n",
        "\r\n",
        "#from kernel.datasets import get_dataset\r\n",
        "from itertools import product\r\n",
        "\r\n",
        "import time\r\n",
        "\r\n",
        "\r\n",
        "from torch import tensor\r\n",
        "from torch.optim import Adam\r\n",
        "from torch.optim import SGD\r\n",
        "\r\n",
        "\r\n",
        "\r\n",
        "from sklearn.model_selection import StratifiedKFold\r\n",
        "from torch_geometric.data import DataLoader, DenseDataLoader as DenseLoader\r\n",
        "\r\n",
        "\r\n",
        "\r\n",
        "from math import ceil\r\n",
        "\r\n",
        "from torch.nn import Linear\r\n",
        "\r\n",
        "from torch.distributions import categorical\r\n",
        "from torch.distributions import Bernoulli\r\n",
        "\r\n",
        "import torch.nn\r\n",
        "\r\n",
        "%matplotlib inline\r\n",
        "from matplotlib import pyplot as plt\r\n",
        "\r\n",
        "#import pygraphviz as pgv\r\n",
        "\r\n",
        "from torch_geometric.utils import convert as cnv\r\n",
        "from torch_geometric.utils import sparse as sp\r\n",
        "\r\n",
        "from torch_geometric.data import Data\r\n",
        "\r\n",
        "#import pygraphviz as pgv\r\n",
        "\r\n",
        "from networkx.drawing.nx_agraph import graphviz_layout\r\n",
        "\r\n",
        "import networkx as nx\r\n",
        "\r\n",
        "\r\n",
        "from torch.utils.data.sampler import RandomSampler\r\n",
        "\r\n",
        "from torch.nn.functional import gumbel_softmax\r\n",
        "\r\n",
        "\r\n",
        "from torch.distributions import relaxed_categorical\r\n",
        "\r\n",
        "#import myfuncs #-----------------\r\n",
        "\r\n",
        "#from tensorboardX import SummaryWriter\r\n",
        "\r\n",
        "from torch_geometric.nn.inits import uniform\r\n",
        "from torch_geometric.nn.inits import glorot, zeros\r\n",
        "\r\n",
        "\r\n",
        "from torch.nn import Parameter\r\n",
        "\r\n",
        "from torch.nn import Sequential as Seq, Linear, ReLU\r\n",
        "from torch_geometric.nn import MessagePassing\r\n",
        "\r\n",
        "from torch_geometric.utils import degree\r\n",
        "\r\n",
        "from torch_geometric.nn import GINConv, GATConv, global_mean_pool, NNConv, GCNConv\r\n",
        "\r\n",
        "\r\n",
        "\r\n",
        "from torch.nn import Parameter\r\n",
        "\r\n",
        "from torch.nn import Sequential as Seq, Linear, ReLU, LeakyReLU\r\n",
        "from torch_geometric.nn import MessagePassing\r\n",
        "\r\n",
        "import torch\r\n",
        "import torch.nn.functional as F\r\n",
        "from torch.nn import Linear, Sequential, ReLU, BatchNorm1d as BN\r\n",
        "from torch_geometric.nn import GINConv, global_mean_pool\r\n",
        "\r\n",
        "\r\n",
        "from torch_geometric.data import Batch \r\n",
        "\r\n",
        "\r\n",
        "from torch_scatter import scatter_min, scatter_max, scatter_add, scatter_mean\r\n",
        "\r\n",
        "\r\n",
        "from torch import autograd\r\n",
        "\r\n",
        "from torch_geometric.utils import to_dense_batch, to_dense_adj\r\n",
        "\r\n",
        "\r\n",
        "from torch_geometric.utils import softmax, add_self_loops, remove_self_loops, segregate_self_loops, remove_isolated_nodes, contains_isolated_nodes, add_remaining_self_loops\r\n",
        "\r\n",
        "\r\n",
        "from torch_geometric.utils import dropout_adj, to_undirected, to_networkx\r\n",
        "from torch_geometric.utils import is_undirected\r\n",
        "\r\n",
        "from cut_utils import get_diracs\r\n",
        "\r\n",
        "import scipy\r\n",
        "\r\n",
        "import scipy.io\r\n",
        "\r\n",
        "from matplotlib.lines import Line2D\r\n",
        "\r\n",
        "from torch_geometric.utils.convert import from_scipy_sparse_matrix\r\n",
        "\r\n",
        "# import GPUtil #-----------!!!!!????\r\n",
        "\r\n",
        "\r\n",
        "from networkx.algorithms.approximation import max_clique\r\n",
        "\r\n",
        "\r\n",
        "import pickle\r\n",
        "\r\n",
        "\r\n",
        "from torch_geometric.nn import SplineConv, global_mean_pool, DataParallel\r\n",
        "\r\n",
        "from torch_geometric.data import DataListLoader\r\n",
        "from random import shuffle\r\n",
        "\r\n",
        "\r\n",
        "from networkx.algorithms.approximation import max_clique\r\n",
        "from networkx.algorithms import graph_clique_number\r\n",
        "\r\n",
        "from networkx.algorithms import find_cliques\r\n",
        "\r\n",
        "from torch_geometric.nn.norm import graph_size_norm"
      ],
      "execution_count": 4,
      "outputs": []
    },
    {
      "cell_type": "code",
      "metadata": {
        "id": "4wmkSoPG7MKP"
      },
      "source": [
        "import visdom \r\n",
        "from visdom import Visdom \r\n",
        "import numpy as np\r\n",
        "import matplotlib.pyplot as plt\r\n",
        "\r\n",
        "\r\n",
        "def plot_grad_flow( named_parameters):\r\n",
        "    ave_grads = []\r\n",
        "    layers = []\r\n",
        "    for n, p in named_parameters:\r\n",
        "        if(p.requires_grad) and (\"bias\" not in n):\r\n",
        "            layers.append(n)\r\n",
        "            ave_grads.append(p.grad.abs().mean())\r\n",
        "            \r\n",
        "    plt.plot(ave_grads, alpha=0.3, color=\"b\")\r\n",
        "    plt.yscale('log')\r\n",
        "    plt.xticks(range(0,len(ave_grads), 1), layers, rotation=\"vertical\")\r\n",
        "    plt.xlim(xmin=0, xmax=len(ave_grads))\r\n",
        "    plt.xlabel(\"Layers\")\r\n",
        "    plt.ylabel(\"average gradient\")\r\n",
        "    plt.title(\"Gradient flow\")\r\n",
        "    plt.grid(True)\r\n",
        "    \r\n",
        "\r\n",
        "class VisdomLinePlotter(object):\r\n",
        "    \"\"\"Plots to Visdom\"\"\"\r\n",
        "    def __init__(self, env_name='main'):\r\n",
        "        self.viz = Visdom(port=8097)\r\n",
        "        self.env = env_name\r\n",
        "        self.plots = {}\r\n",
        "    def plot(self, var_name, split_name, title_name, x, y):\r\n",
        "        if title_name not in self.plots:\r\n",
        "            self.plots[title_name] = self.viz.line(X=np.array([x,x]), Y=np.array([y,y]), env=self.env, opts=dict(\r\n",
        "                legend=[split_name],\r\n",
        "                title=title_name,\r\n",
        "                xlabel='Epochs',\r\n",
        "                ylabel=var_name\r\n",
        "            ))\r\n",
        "        else:\r\n",
        "            self.viz.line(X=np.array([x]), Y=np.array([y]), env=self.env, win=self.plots[title_name], name=split_name, update = 'append')\r\n",
        "    \r\n",
        "\r\n",
        "    def histog(self,title_name,vals):\r\n",
        "        if title_name not in self.plots:\r\n",
        "            self.plots[title_name] = self.viz.histogram(X=vals,env=self.env,opts=dict(title=title_name,numbins=20))\r\n",
        "        else:\r\n",
        "            self.viz.histogram(X=vals,env=self.env,win=self.plots[title_name],opts=dict(title=title_name,numbins=20, update = 'replace'))\r\n",
        "  \r\n",
        "    def gradflow(self, model, title_name):\r\n",
        "                    title_name = \"Gradflow\"\r\n",
        "                    layers = []\r\n",
        "                    ave_grads = []\r\n",
        "                    for n, p in net.named_parameters():\r\n",
        "                            if(p.requires_grad) and (\"bias\" not in n):\r\n",
        "                                     layers.append(str(n))\r\n",
        "                                     ave_grads.append(p.grad.abs().mean().cpu().numpy())\r\n",
        "                    if title_name not in self.plots:\r\n",
        "                        self.plots[title_name]= self.viz.line(X= list(range(len(layers))),Y= np.array(ave_grads),  env = self.env,  opts=dict(fillarea=True, title = title_name, xtick = True,\r\n",
        "        xtickmin=0, xtickmax=len(layers), xtickvals = list(range(len(layers))), xtickstep=1/len(layers), xticklabels = layers) )    \r\n",
        "                    else:\r\n",
        "                        self.viz.line(X= list(range(len(layers))), Y=ave_grads, env = self.env ,win=self.plots[title_name], opts=dict(fillarea=True, title = title_name, xtick = True,\r\n",
        "        xtickmin=0, xtickmax=len(layers), xtickvals = list(range(len(layers))), xtickstep=1/len(layers), xticklabels = layers, update=\"append\"))"
      ],
      "execution_count": 5,
      "outputs": []
    },
    {
      "cell_type": "code",
      "metadata": {
        "id": "84TPany58um-"
      },
      "source": [
        "class GCNConv2(MessagePassing):\r\n",
        "    r\"\"\"The graph convolutional operator from the `\"Semi-supervised\r\n",
        "    Classfication with Graph Convolutional Networks\"\r\n",
        "    <https://arxiv.org/abs/1609.02907>`_ paper\r\n",
        "\r\n",
        "    .. math::\r\n",
        "        \\mathbf{X}^{\\prime} = \\mathbf{\\hat{D}}^{-1/2} \\mathbf{\\hat{A}}\r\n",
        "        \\mathbf{\\hat{D}}^{-1/2} \\mathbf{X} \\mathbf{\\Theta},\r\n",
        "\r\n",
        "    where :math:`\\mathbf{\\hat{A}} = \\mathbf{A} + \\mathbf{I}` denotes the\r\n",
        "    adjacency matrix with inserted self-loops and\r\n",
        "    :math:`\\hat{D}_{ii} = \\sum_{j=0} \\hat{A}_{ij}` its diagonal degree matrix.\r\n",
        "\r\n",
        "    Args:\r\n",
        "        in_channels (int): Size of each input sample.\r\n",
        "        out_channels (int): Size of each output sample.\r\n",
        "        improved (bool, optional): If set to :obj:`True`, the layer computes\r\n",
        "            :math:`\\mathbf{\\hat{A}}` as :math:`\\mathbf{A} + 2\\mathbf{I}`.\r\n",
        "            (default: :obj:`False`)\r\n",
        "        cached (bool, optional): If set to :obj:`True`, the layer will cache\r\n",
        "            the computation of :math:`{\\left(\\mathbf{\\hat{D}}^{-1/2}\r\n",
        "            \\mathbf{\\hat{A}} \\mathbf{\\hat{D}}^{-1/2} \\right)}`.\r\n",
        "            (default: :obj:`False`)\r\n",
        "        bias (bool, optional): If set to :obj:`False`, the layer will not learn\r\n",
        "            an additive bias. (default: :obj:`True`)\r\n",
        "    \"\"\"\r\n",
        "\r\n",
        "    def __init__(self,\r\n",
        "                 in_channels,\r\n",
        "                 out_channels,\r\n",
        "                 improved=False,\r\n",
        "                 cached=False,\r\n",
        "                 bias=True):\r\n",
        "        super(GCNConv2, self).__init__('add')\r\n",
        "\r\n",
        "        self.in_channels = in_channels\r\n",
        "        self.out_channels = out_channels\r\n",
        "        self.improved = improved\r\n",
        "        self.cached = cached\r\n",
        "        self.cached_result = None\r\n",
        "\r\n",
        "        self.weight = Parameter(torch.Tensor(in_channels, out_channels))\r\n",
        "\r\n",
        "        if bias:\r\n",
        "            self.bias = Parameter(torch.Tensor(out_channels))\r\n",
        "        else:\r\n",
        "            self.register_parameter('bias', None)\r\n",
        "\r\n",
        "        self.reset_parameters()\r\n",
        "\r\n",
        "    def reset_parameters(self):\r\n",
        "        glorot(self.weight)\r\n",
        "        zeros(self.bias)\r\n",
        "        self.cached_result = None\r\n",
        "\r\n",
        "    @staticmethod\r\n",
        "    def norm(edge_index, num_nodes, edge_weight, improved=False, dtype=None):\r\n",
        "        if edge_weight is None:\r\n",
        "            edge_weight = torch.ones((edge_index.size(1), ),\r\n",
        "                                     dtype=dtype,\r\n",
        "                                     device=edge_index.device)\r\n",
        "        edge_weight = edge_weight.view(-1)\r\n",
        "        assert edge_weight.size(0) == edge_index.size(1)\r\n",
        "\r\n",
        "#         print(\"before: \")\r\n",
        "#         print(edge_weight.shape)\r\n",
        "#         print(edge_index.shape)\r\n",
        "        \r\n",
        "        #edge_index, edge_weight = remove_self_loops(edge_index, edge_weight)\r\n",
        "        #edge_index = add_self_loops(edge_index, num_nodes)\r\n",
        "#         loop_weight = torch.full((num_nodes, ),\r\n",
        "#                                  1 if not improved else 2,\r\n",
        "#                                  dtype=edge_weight.dtype,\r\n",
        "#                                  device=edge_weight.device)\r\n",
        "        #edge_weight = torch.cat([edge_weight, loop_weight], dim=0)\r\n",
        "#         print(\"after: \")\r\n",
        "#         print(edge_weight.shape)\r\n",
        "#         print(edge_index.shape)\r\n",
        "        row, col = edge_index\r\n",
        "        deg = scatter_add(edge_weight, row, dim=0, dim_size=num_nodes)\r\n",
        "        deg_inv_sqrt = deg.pow(-0.5)\r\n",
        "        deg_inv_sqrt[deg_inv_sqrt == float('inf')] = 0\r\n",
        "\r\n",
        "        return edge_index, deg_inv_sqrt[row] * edge_weight * deg_inv_sqrt[col]\r\n",
        "\r\n",
        "    def forward(self, x, edge_index, edge_weight=None):\r\n",
        "        \"\"\"\"\"\"\r\n",
        "        x = torch.matmul(x, self.weight)\r\n",
        "\r\n",
        "        if not self.cached or self.cached_result is None:\r\n",
        "            edge_index, norm = self.norm(edge_index, x.size(0), edge_weight,\r\n",
        "                                         self.improved, x.dtype)\r\n",
        "            self.cached_result = edge_index, norm\r\n",
        "        edge_index, norm = self.cached_result\r\n",
        "\r\n",
        "        return self.propagate(edge_index, x=x, norm=norm)\r\n",
        "\r\n",
        "    def message(self, x_j, norm):\r\n",
        "        return norm.view(-1, 1) * x_j\r\n",
        "\r\n",
        "    def update(self, aggr_out):\r\n",
        "        if self.bias is not None:\r\n",
        "            aggr_out = aggr_out + self.bias\r\n",
        "        return aggr_out\r\n",
        "\r\n",
        "    def __repr__(self):\r\n",
        "        return '{}({}, {})'.format(self.__class__.__name__, self.in_channels,\r\n",
        "                                   self.out_channels)"
      ],
      "execution_count": 6,
      "outputs": []
    },
    {
      "cell_type": "code",
      "metadata": {
        "id": "6nMuqavr8x1V"
      },
      "source": [
        "def propagate(x, edge_index):\r\n",
        "        row, col = edge_index\r\n",
        "        out = scatter_add(x[col], row, dim=0)\r\n",
        "        return out\r\n",
        "\r\n",
        "def get_mask(x, edge_index, hops):\r\n",
        "        for k in range(hops):\r\n",
        "            x = propagate(x, edge_index)\r\n",
        "        mask = (x>0).float()\r\n",
        "        return mask\r\n",
        "\r\n",
        "\r\n",
        "def total_var(x, edge_index, batch, undirected = True):\r\n",
        "        row, col = edge_index\r\n",
        "        if undirected:\r\n",
        "            tv = (torch.abs(x[row]-x[col])) * 0.5\r\n",
        "        else:\r\n",
        "            tv = (torch.abs(x[row]-x[col]))\r\n",
        "        \r\n",
        "        tv = scatter_add(tv, batch[row], dim=0)\r\n",
        "        return  tv"
      ],
      "execution_count": 7,
      "outputs": []
    },
    {
      "cell_type": "code",
      "metadata": {
        "id": "uMFYTU6H-c6j"
      },
      "source": [
        "#from pytorch_memlab import profile, mem_reporter\r\n",
        "#@profile\r\n",
        "class cliqueMPNN_hindsight_earlyGAT(torch.nn.Module):\r\n",
        "    def __init__(self, dataset, num_layers, hidden1, hidden2, deltas, elasticity=0.01, num_iterations = 30):\r\n",
        "        super(cliqueMPNN_hindsight_earlyGAT, self).__init__()\r\n",
        "        self.hidden1 = hidden1\r\n",
        "        self.hidden2 = hidden2\r\n",
        "        self.momentum = 0.1\r\n",
        "        #self.nns = Sequential(\r\n",
        "                #Linear(2*hidden, hidden*hidden),\r\n",
        "                #LeakyReLU(0.1))\r\n",
        "        self.num_iterations = num_iterations\r\n",
        "        self.convs = torch.nn.ModuleList()\r\n",
        "        self.deltas = deltas\r\n",
        "        self.numlayers = num_layers\r\n",
        "        self.elasticity = elasticity\r\n",
        "        self.heads = 8\r\n",
        "        self.concat = True\r\n",
        "        \r\n",
        "        self.bns = torch.nn.ModuleList()\r\n",
        "        for i in range(num_layers-1):\r\n",
        "            self.bns.append(BN(self.heads*self.hidden1, momentum=self.momentum))\r\n",
        "\r\n",
        "        \r\n",
        "#         self.nns = torch.nn.ModuleList()\r\n",
        "#         for i in range(num_layers-1):\r\n",
        "#             self.nns.append(Sequential(\r\n",
        "#                 Linear(2*hidden, hidden*hidden),\r\n",
        "#                 LeakyReLU(0.1)))\r\n",
        "        \r\n",
        "        self.convs = torch.nn.ModuleList()        \r\n",
        "        for i in range(num_layers - 1):\r\n",
        "                #self.convs.append(GATAConv(self.heads*self.hidden1, self.hidden1, concat=self.concat ,heads=self.heads))\r\n",
        "                self.convs.append(GINConv(Sequential(\r\n",
        "            Linear( self.heads*self.hidden1,  self.heads*self.hidden1),\r\n",
        "            ReLU(),\r\n",
        "            Linear( self.heads*self.hidden1,  self.heads*self.hidden1),\r\n",
        "            ReLU(),\r\n",
        "            BN(self.heads*self.hidden1, momentum=self.momentum),\r\n",
        "        ),train_eps=True))\r\n",
        "                #self.convs.append(GCNConv2(self.heads*self.hidden1, self.heads*self.hidden1))\r\n",
        "        self.bn1 = BN(self.heads*self.hidden1)\r\n",
        "        #self.conv1 = GATAConv(self.hidden2, self.hidden1, concat=self.concat ,heads=self.heads)\r\n",
        "       \r\n",
        "        self.conv1 = GINConv(Sequential(Linear(self.hidden2,  self.heads*self.hidden1),\r\n",
        "            ReLU(),\r\n",
        "            Linear( self.heads*self.hidden1,  self.heads*self.hidden1),\r\n",
        "            ReLU(),\r\n",
        "            BN(self.heads*self.hidden1, momentum=self.momentum),\r\n",
        "        ),train_eps=True)\r\n",
        "\r\n",
        "        if self.concat:\r\n",
        "            self.lin1 = Linear(self.heads*self.hidden1, self.hidden1)\r\n",
        "        else:\r\n",
        "            self.lin1 = Linear(self.hidden1, self.hidden1)\r\n",
        "\r\n",
        "        #self.bn2 = BN(self.hidden1, momentum=self.momentum)\r\n",
        "        self.lin2 = Linear(self.hidden1, 1)\r\n",
        "        self.gnorm = graph_size_norm.GraphSizeNorm()\r\n",
        "\r\n",
        "                    \r\n",
        "\r\n",
        "\r\n",
        "    def reset_parameters(self):\r\n",
        "        self.conv1.reset_parameters()\r\n",
        "        #self.conv2.reset_parameters()\r\n",
        "        \r\n",
        "        for conv in self.convs:\r\n",
        "            conv.reset_parameters()\r\n",
        "            \r\n",
        "        for bn in self.bns:\r\n",
        "            bn.reset_parameters()\r\n",
        "            \r\n",
        "        self.bn1.reset_parameters()\r\n",
        "        self.lin1.reset_parameters()\r\n",
        "        #self.bn2.reset_parameters()\r\n",
        "        self.lin2.reset_parameters()\r\n",
        "\r\n",
        "\r\n",
        "\r\n",
        "\r\n",
        "\r\n",
        "\r\n",
        "    def forward(self, data, edge_dropout = None, penalty_coefficient = 0.25):\r\n",
        "        x = data.x\r\n",
        "        edge_index = data.edge_index\r\n",
        "        batch = data.batch\r\n",
        "        num_graphs = batch.max().item() + 1\r\n",
        "        row, col = edge_index     \r\n",
        "        total_num_edges = edge_index.shape[1]\r\n",
        "        N_size = x.shape[0]\r\n",
        "\r\n",
        "        \r\n",
        "        if edge_dropout is not None:\r\n",
        "            edge_index = dropout_adj(edge_index, edge_attr = (torch.ones(edge_index.shape[1], device=device)).long(), p = edge_dropout, force_undirected=True)[0]\r\n",
        "            edge_index = add_remaining_self_loops(edge_index, num_nodes = batch.shape[0])[0]\r\n",
        "                \r\n",
        "        reduced_num_edges = edge_index.shape[1]\r\n",
        "        current_edge_percentage = (reduced_num_edges/total_num_edges)\r\n",
        "        no_loop_index,_ = remove_self_loops(edge_index)  \r\n",
        "        no_loop_row, no_loop_col = no_loop_index\r\n",
        "\r\n",
        "        xinit= x.clone()\r\n",
        "\r\n",
        "        #x = torch.cat([x.unsqueeze(-1),torch.rand((x.shape[0],self.hidden2-1),device=device)], dim=1)\r\n",
        "        #x = torch.rand((x.shape[0],self.hidden2),device=device)\r\n",
        "        #\r\n",
        "        x = x.unsqueeze(-1)\r\n",
        "        #mask = get_mask(x,edge_index,1).to(x.dtype)\r\n",
        "        \r\n",
        "#         print(\"xbefore:\",x.shape)\r\n",
        "\r\n",
        "        mask = get_mask(x,edge_index,1).to(x.dtype)\r\n",
        "        x = F.leaky_relu(self.conv1(x, edge_index))# +x\r\n",
        "        x = x*mask\r\n",
        "\r\n",
        "#         print(\"xshape:\",x.shape)\r\n",
        "#         print(\"mask: \", mask.shape)\r\n",
        "        \r\n",
        "        #x = F.leaky_relu(self.conv1(x, edge_index)) + x\r\n",
        "        #x = self.conv1(x, edge_index)\r\n",
        "        #print(x.shape)\r\n",
        "        x = self.gnorm(x)\r\n",
        "        x = self.bn1(x)\r\n",
        "        \r\n",
        "\r\n",
        "        \r\n",
        "        #print(x.shape)\r\n",
        "            \r\n",
        "        for conv, bn in zip(self.convs, self.bns):\r\n",
        "            if(x.dim()>1):\r\n",
        "                x =  x+F.leaky_relu(conv(x, edge_index))\r\n",
        "                mask = get_mask(mask,edge_index,1).to(x.dtype)\r\n",
        "                x = x*mask\r\n",
        "                x = self.gnorm(x)\r\n",
        "                x = bn(x)\r\n",
        "\r\n",
        "\r\n",
        "#         x = self.conv2(x, edge_index)\r\n",
        "#         mask = get_mask(mask,edge_index,1).to(x.dtype)\r\n",
        "#         x = x*mask\r\n",
        "        xpostconvs = x.detach()\r\n",
        "        #\r\n",
        "        x = F.leaky_relu(self.lin1(x)) \r\n",
        "        x = x*mask\r\n",
        "        #x = self.gnorm(x)\r\n",
        "        #x = self.bn2(x)\r\n",
        "\r\n",
        "\r\n",
        "        xpostlin1 = x.detach()\r\n",
        "        #x = F.dropout(x, p=0.0, training=self.training)\r\n",
        "        x = F.leaky_relu(self.lin2(x)) \r\n",
        "       # x = self.gnorm(x)\r\n",
        "\r\n",
        "        x = x*mask\r\n",
        "\r\n",
        "\r\n",
        "        #xprethresh = x.detach()\r\n",
        "\r\n",
        "        #x = x/scatter_add(torch.abs(x), batch,0)[batch]\r\n",
        "\r\n",
        "        \r\n",
        "        #calculate min and max\r\n",
        "        batch_max = scatter_max(x, batch, 0, dim_size= N_size)[0]\r\n",
        "        batch_max = torch.index_select(batch_max, 0, batch)        \r\n",
        "        batch_min = scatter_min(x, batch, 0, dim_size= N_size)[0]\r\n",
        "        batch_min = torch.index_select(batch_min, 0, batch)\r\n",
        "\r\n",
        "                \r\n",
        "        x = (x-batch_min)/(batch_max+1e-6-batch_min)\r\n",
        "        #x = x*mask + mask*1e-6\r\n",
        "        \r\n",
        "\r\n",
        "        probs=x\r\n",
        "        \r\n",
        "        #print(probs.shape)\r\n",
        "        \r\n",
        "        x2 = x.detach()              \r\n",
        "        deg = degree(row).unsqueeze(-1) \r\n",
        "        totalvol = scatter_add(deg.detach()*torch.ones_like(x, device=device), batch, 0)+1e-6\r\n",
        "        totalcard = scatter_add(torch.ones_like(x, device=device), batch, 0)+1e-6\r\n",
        "        \r\n",
        "                \r\n",
        "        #volume within receptive field\r\n",
        "        #recvol_hard = scatter_add(deg*mask.float(), batch, 0, dim_size = num_graphs)+1e-6 \r\n",
        "        #reccard_hard = scatter_add(mask.float(), batch, 0, dim_size = num_graphs)+1e-6 \r\n",
        "        \r\n",
        "        #assert recvol_hard.mean()/totalvol.mean() <=1, \"Something went wrong! Receptive field is larger than total volume.\"\r\n",
        "\r\n",
        "        \r\n",
        "        \r\n",
        "        x2 =  ((x2 - torch.rand_like(x, device = device))>0).float()\r\n",
        "        \r\n",
        "        vol_1 = scatter_add(probs*deg, batch, 0)+1e-6\r\n",
        "        card_1 = scatter_add(probs, batch,0)            \r\n",
        "        #rec_field = scatter_add(mask, batch, 0)+1e-6\r\n",
        "        set_size = scatter_add(x2, batch, 0)\r\n",
        "#         tv_hard = total_var(x2, edge_index, batch)\r\n",
        "        vol_hard = scatter_add(deg*x2, batch, 0, dim_size = batch.max().item()+1)+1e-6 \r\n",
        "#         conduct_hard = tv_hard/vol_hard\r\n",
        "            \r\n",
        "#         rec_field_ratio = set_size/rec_field\r\n",
        "#         rec_field_volratio = vol_hard/recvol_hard\r\n",
        "        total_vol_ratio = vol_hard/totalvol\r\n",
        "        \r\n",
        "        #volume within receptive field\r\n",
        "        #recvol_hard = scatter_add(deg*mask.float(), batch, 0, dim_size = num_graphs)+1e-6 \r\n",
        "        #reccard_hard = scatter_add(mask.float(), batch, 0, dim_size = num_graphs)+1e-6 \r\n",
        "        \r\n",
        "        \r\n",
        "        #calculating the terms for the expected distance between clique and graph\r\n",
        "        pairwise_prodsums = torch.zeros(num_graphs, device = device)\r\n",
        "        for graph in range(num_graphs):\r\n",
        "            batch_graph = (batch==graph)\r\n",
        "            pairwise_prodsums[graph] = (torch.conv1d(probs[batch_graph].unsqueeze(-1), probs[batch_graph].unsqueeze(-1))).sum()/2\r\n",
        "        \r\n",
        "        \r\n",
        "        ##############CAREFUL\r\n",
        "        self_sums = scatter_add((probs*probs), batch, 0, dim_size = num_graphs)/2.\r\n",
        "\r\n",
        "        #self_sums = scatter_add((probs*probs), batch, 0, dim_size = num_graphs)/1.\r\n",
        "        \r\n",
        "        #expected_weight_G = scatter_add(probs[no_loop_row]*probs[no_loop_col], batch[no_loop_row], 0, dim_size = num_graphs)/2\r\n",
        "        \r\n",
        "        expected_weight_G = scatter_add(probs[no_loop_row]*probs[no_loop_col], batch[no_loop_row], 0, dim_size = num_graphs)/2.\r\n",
        "        expected_clique_weight = (pairwise_prodsums.unsqueeze(-1) - self_sums)/1.\r\n",
        "        expected_distance = (expected_clique_weight - expected_weight_G)\r\n",
        "        \r\n",
        "        \r\n",
        "        #lambda_factors = (torch.rand((30,1), device=device))*penalty_coefficient-0.10\r\n",
        "        \r\n",
        "        \r\n",
        "        #hindsight = torch.ones_like(lambda_factors)*expected_distance.unsqueeze(-1)*0.5 - lambda_factors*expected_weight_G.unsqueeze(-1)\r\n",
        "        \r\n",
        "\r\n",
        "       # print(expected_clique_weight.shape)\r\n",
        "        #print(self_sums.shape)\r\n",
        "\r\n",
        "       # expected_loss =  #torch.median(hindsight, 1)[0]\r\n",
        "        #print(expected_loss.shape)\r\n",
        "        \r\n",
        "        max_set_weight = (scatter_add(torch.ones_like(x)[no_loop_row], batch[no_loop_row], 0, dim_size = num_graphs)/2).squeeze(-1)\r\n",
        "        \r\n",
        "        #print(\"how many:\", (data.batch==0).sum())\r\n",
        "        \r\n",
        "        set_weight = (scatter_add(x2[no_loop_row]*x2[no_loop_col], batch[no_loop_row], 0, dim_size = num_graphs)/2)+1e-6\r\n",
        "        clique_edges_hard = (set_size*(set_size-1)/2) +1e-6\r\n",
        "        clique_dist_hard = set_weight/clique_edges_hard\r\n",
        "        \r\n",
        "        \r\n",
        "#          print(\"cardinalities: \", cardinalities)\r\n",
        "#         print(\"max_set_weight:\", max_set_weight)\r\n",
        "#        print(\"max possible weight: \", max_possible_weight)\r\n",
        "        #print(max_set_weight.shape)\r\n",
        "        #print(max_possible_weight.shape)\r\n",
        "        cardinalities =  scatter_add(torch.ones_like(data.batch),data.batch,dim=0).float()\r\n",
        "        max_possible_weight = (cardinalities*(cardinalities-1)/2)\r\n",
        "#         diff = (max_possible_weight - max_set_weight) \r\n",
        "        penalty_coefficient =   (max_set_weight/max_possible_weight) * penalty_coefficient\r\n",
        "        #penalty_coefficient =  penalty_coefficient*(clique_dist_hard/(1-clique_dist_hard))\r\n",
        "                \r\n",
        "        #penalty_coefficient[clique_dist_hard>0.95] = 1.\r\n",
        "\r\n",
        "        #print(\"pen coeff:\", penalty_coefficient)\r\n",
        "#         print(\"Diff: \", diff)\r\n",
        "#         print(\"penalties:\", penalties.shape)\r\n",
        "#         print(\"exp dist:\", expected_distance.shape)\r\n",
        "        \r\n",
        "        #assert ((max_possible_weight<max_set_weight).sum())<=1e-6, \"Invalid calculation\"\r\n",
        "        expected_ratio = expected_weight_G/expected_distance\r\n",
        "        expected_ratio = expected_ratio.detach()\r\n",
        "        #penalty_coefficient = expected_ratio*penalty_coefficient\r\n",
        "       # print(expected_ratio.shape)\r\n",
        "                               \r\n",
        "        #expected_loss = (penalty_coefficient)*expected_distance*0.5*expected_weight_G - 0.5*expected_weight_G\r\n",
        "        #expected_loss = expected_clique_weight/expected_weight_G\r\n",
        "        expected_loss = (penalty_coefficient)*expected_distance*0.5 - 0.5*expected_weight_G\r\n",
        "        #expected_loss = (penalty_coefficient)*expected_clique_weight*0.5- 1.*expected_weight_G\r\n",
        "        \r\n",
        "#         print(\"pen coeff: \", penalty_coefficient)\r\n",
        "#         print(\"loss: \", expected_loss)\r\n",
        "    \r\n",
        "    \r\n",
        "#         for iter_graph in range(num_graphs):\r\n",
        "#             if clique_dist_hard[iter_graph]<0.5:\r\n",
        "#                 print(\"problematic graph exp distance: \", expected_distance[iter_graph])\r\n",
        "#                 print(\"problematic graph exp cardinality : \", card_1[iter_graph])\r\n",
        "\r\n",
        "#                 print(\"problematic graph num nodes: \", totalcard[iter_graph])\r\n",
        "                \r\n",
        "        clique_check = ((clique_edges_hard != clique_edges_hard))\r\n",
        "        \r\n",
        "        \r\n",
        "        setedge_check  = ((set_weight != set_weight))\r\n",
        "        \r\n",
        "        \r\n",
        "        \r\n",
        "        assert ((clique_dist_hard>=1.1).sum())<=1e-6, \"Invalid set vol/clique vol ratio.\"\r\n",
        "        \r\n",
        "#        print(expected_loss.shape)\r\n",
        "        \r\n",
        "       # normalize = cardinalities.max()/cardinalities\r\n",
        "        #print(f\"normalize: {normalize}\")\r\n",
        "        loss = expected_loss#*normalize\r\n",
        "        #loss = expected_loss*(1/(clique_dist_hard+0.1))\r\n",
        "\r\n",
        "\r\n",
        "        retdict = {}\r\n",
        "        \r\n",
        "        retdict[\"output\"] = [probs.squeeze(-1),\"hist\"]   #output\r\n",
        "        #retdict[\"clique_check\"] = [clique_edges_hard, \"hist\"]\r\n",
        "        #retdict[\"set_weight_check\"] = [set_weight, \"hist\"]\r\n",
        "        #retdict[\"|Expected_vol - Target|\"]= [targetcheck.squeeze(-1), \"hist\"] #absolute distance from targetvol\r\n",
        "        #retdict[\"Expected_volume\"] = [vol_1.mean(),\"sequence\"] #volume\r\n",
        "        retdict[\"Expected_cardinality\"] = [card_1.mean(),\"sequence\"]\r\n",
        "        retdict[\"Expected_cardinality_hist\"] = [card_1,\"hist\"]\r\n",
        "        retdict[\"losses histogram\"] = [loss.squeeze(-1),\"hist\"]\r\n",
        "        retdict[\"Set sizes\"] = [set_size.squeeze(-1),\"hist\"]\r\n",
        "        retdict[\"volume_hard\"] = [vol_hard.mean(),\"aux\"] #volume2\r\n",
        "        retdict[\"cardinality_hard\"] = [set_size[0],\"sequence\"] #volumeq\r\n",
        "        retdict[\"Expected weight(G)\"]= [expected_weight_G.mean(), \"sequence\"]\r\n",
        "        retdict[\"Expected maximum weight\"] = [expected_clique_weight.mean(),\"sequence\"]\r\n",
        "        retdict[\"Expected distance\"]= [expected_distance.mean(), \"sequence\"]\r\n",
        "        #retdict[\"cut1\"] = [tv.mean(),\"sequence\"] #cut1\r\n",
        "        #retdict[\"cut_hard\"] = [tv_hard.mean(),\"sequence\"] #cut1\r\n",
        "        #retdict[\"Average cardinality ratio of receptive field \"] = [rec_field_ratio.mean(),\"sequence\"] \r\n",
        "        #retdict[\"Recfield volume/Total volume\"] = [recvol_hard.mean()/totalvol.mean(), \"sequence\"]\r\n",
        "        #retdict[\"Average ratio of receptive field volume\"]= [rec_field_volratio.mean(),'sequence']\r\n",
        "        retdict[\"Currvol/Cliquevol\"] = [clique_dist_hard.mean(),'sequence']\r\n",
        "        retdict[\"Currvol/Cliquevol all graphs in batch\"] = [clique_dist_hard.squeeze(-1),'hist']\r\n",
        "        retdict[\"Average ratio of total volume\"]= [total_vol_ratio.mean(),'sequence']\r\n",
        "        #retdict[\"penalty coffs\"] = [penalty_coefficient.squeeze(-1),\"hist\"]\r\n",
        "        retdict[\"cardinalities\"] = [cardinalities.squeeze(-1),\"hist\"]\r\n",
        "        retdict[\"Current edge percentage\"] = [torch.tensor(current_edge_percentage),'sequence']\r\n",
        "        #retdict[\"Clique Weight hard\"] = [clique_edges_hard[0], 'sequence']\r\n",
        "        #retdict[\"Set weight\"] = [set_weight[0], 'sequence']\r\n",
        "        #retdict[\"mask\"] = [mask, \"aux\"] #mask\r\n",
        "        #retdict[\"xinit\"] = [xinit,\"hist\"] #layer input diracs\r\n",
        "        #retdict[\"xpostlin1\"] = [xpostlin1.mean(1),\"hist\"] #after first linear layer\r\n",
        "        #retdict[\"xprethresh\"] = [xprethresh.mean(1),\"hist\"] #pre thresholding activations 195 x 1\r\n",
        "        #retdict[\"xsoftbin\"] = [xsoftbin.mean(1),\"hist\"] #soft binarized output\r\n",
        "        #retdict[\"lossvol\"] = [lossvol.mean(),\"sequence\"] #volume constraint\r\n",
        "        #retdict[\"losscard\"] = [losscard.mean(),\"sequence\"] #cardinality constraint\r\n",
        "        retdict[\"loss\"] = [loss.mean().squeeze(),\"sequence\"] #final loss\r\n",
        "\r\n",
        "        return retdict\r\n",
        "    \r\n",
        "    def __repr__(self):\r\n",
        "        return self.__class__.__name__"
      ],
      "execution_count": 8,
      "outputs": []
    },
    {
      "cell_type": "code",
      "metadata": {
        "id": "aRgZdod5_dh8"
      },
      "source": [
        "def predict(model, data_loader, recfield):\r\n",
        "    model.train()\r\n",
        "    avg_loss = 0\r\n",
        "    avg_cliqdist = 0\r\n",
        "    exp_cardinalities = torch.tensor(0)\r\n",
        "    for data in data_loader:\r\n",
        "        optimizer.zero_grad()\r\n",
        "        data = data.to(device)\r\n",
        "        #print(\"data  batchsum: \",(data.batch==1).sum())\r\n",
        "        data = get_diracs(data, 1, sparse = True, effective_volume_range=0.15, receptive_field = recfield)\r\n",
        "        data = data.to(device)\r\n",
        "        #print(\"data prime batchsum: \",(data.batch==1).sum())\r\n",
        "        retdict = model(data)\r\n",
        "        avg_loss += retdict['loss'][0].item()/len(data_loader)\r\n",
        "        avg_cliqdist += retdict[\"Currvol/Cliquevol\"][0].item()/len(data_loader)\r\n",
        "        exp_cardinalities = [retdict[\"Expected_cardinality_hist\"][0]]\r\n",
        "    #print(\"retdict: \", retdict[\"Expected_cardinality_hist\"][0] )\r\n",
        "    return avg_loss, avg_cliqdist, exp_cardinalities"
      ],
      "execution_count": 9,
      "outputs": []
    },
    {
      "cell_type": "code",
      "metadata": {
        "colab": {
          "base_uri": "https://localhost:8080/",
          "height": 370
        },
        "id": "a36HZarZBVDm",
        "outputId": "f42cb6c4-9eec-4508-b677-19c04d86795c"
      },
      "source": [
        "datasets = [\"TWITTER_SNAP\", \"COLLAB\", \"IMDB-BINARY\"]\r\n",
        "dataset_name = datasets[2]\r\n",
        "#datasetname = \"COLLAB_shuffle_1\"\r\n",
        "#datasetname = \"TWITTER_SNAP\"\r\n",
        "#dataset_name = \"IMDB-BINARY\"\r\n",
        "\r\n",
        "if dataset_name == \"TWITTER_SNAP\":\r\n",
        "    stored_dataset = open('datasets/TWITTER_SNAP.p', 'rb')        \r\n",
        "elif dataset_name == \"COLLAB\":\r\n",
        "    stored_dataset = open('datasets/dataset_shuffle_1'+'.p', 'rb')\r\n",
        "elif dataset_name == \"IMDB-BINARY\":\r\n",
        "    stored_dataset = open('/content/drive/My Drive/ISLR Course - Fall 2020/Project/IMDB_BINARY.p', 'rb')\r\n",
        "\r\n",
        "dataset = pickle.load(stored_dataset)\r\n",
        "\r\n",
        "dataset_scale = 1\r\n",
        "# total_samples = int(np.floor(len(dataset)*dataset_scale))\r\n",
        "total_samples = int(np.floor(dataset.len()*dataset_scale))\r\n",
        "# dataset = dataset[:total_samples]\r\n",
        "\r\n",
        "# num_trainpoints = int(np.floor(0.6*len(dataset)))\r\n",
        "# num_valpoints = int(np.floor(num_trainpoints/3))\r\n",
        "# num_testpoints = len(dataset) - (num_trainpoints + num_valpoints)\r\n",
        "\r\n",
        "num_trainpoints = int(np.floor(0.6*dataset.len()))\r\n",
        "num_valpoints = int(np.floor(num_trainpoints/3))\r\n",
        "num_testpoints = dataset.len() - (num_trainpoints + num_valpoints)\r\n",
        "\r\n",
        "traindata= dataset[0:num_trainpoints]\r\n",
        "# valdata = dataset[num_trainpoints:num_trainpoints + num_valpoints]\r\n",
        "# testdata = dataset[num_trainpoints + num_valpoints:]\r\n",
        "\r\n",
        "# batch_size = 32\r\n",
        "\r\n",
        "# train_loader = DataLoader(traindata, batch_size, shuffle=True)\r\n",
        "# test_loader = DataLoader(testdata, batch_size, shuffle=False)\r\n",
        "# val_loader =  DataLoader(valdata, batch_size, shuffle=False)\r\n",
        "\r\n",
        "\r\n",
        "# #set up random seeds \r\n",
        "# torch.manual_seed(1)\r\n",
        "# np.random.seed(2)   \r\n",
        "# torch.backends.cudnn.deterministic = True\r\n",
        "# torch.backends.cudnn.benchmark = False"
      ],
      "execution_count": 48,
      "outputs": [
        {
          "output_type": "error",
          "ename": "AttributeError",
          "evalue": "ignored",
          "traceback": [
            "\u001b[0;31m---------------------------------------------------------------------------\u001b[0m",
            "\u001b[0;31mAttributeError\u001b[0m                            Traceback (most recent call last)",
            "\u001b[0;32m<ipython-input-48-587aafd6b244>\u001b[0m in \u001b[0;36m<module>\u001b[0;34m()\u001b[0m\n\u001b[1;32m     27\u001b[0m \u001b[0mnum_testpoints\u001b[0m \u001b[0;34m=\u001b[0m \u001b[0mdataset\u001b[0m\u001b[0;34m.\u001b[0m\u001b[0mlen\u001b[0m\u001b[0;34m(\u001b[0m\u001b[0;34m)\u001b[0m \u001b[0;34m-\u001b[0m \u001b[0;34m(\u001b[0m\u001b[0mnum_trainpoints\u001b[0m \u001b[0;34m+\u001b[0m \u001b[0mnum_valpoints\u001b[0m\u001b[0;34m)\u001b[0m\u001b[0;34m\u001b[0m\u001b[0;34m\u001b[0m\u001b[0m\n\u001b[1;32m     28\u001b[0m \u001b[0;34m\u001b[0m\u001b[0m\n\u001b[0;32m---> 29\u001b[0;31m \u001b[0mtraindata\u001b[0m\u001b[0;34m=\u001b[0m \u001b[0mdataset\u001b[0m\u001b[0;34m[\u001b[0m\u001b[0;36m0\u001b[0m\u001b[0;34m:\u001b[0m\u001b[0mnum_trainpoints\u001b[0m\u001b[0;34m]\u001b[0m\u001b[0;34m\u001b[0m\u001b[0;34m\u001b[0m\u001b[0m\n\u001b[0m\u001b[1;32m     30\u001b[0m \u001b[0;31m# valdata = dataset[num_trainpoints:num_trainpoints + num_valpoints]\u001b[0m\u001b[0;34m\u001b[0m\u001b[0;34m\u001b[0m\u001b[0;34m\u001b[0m\u001b[0m\n\u001b[1;32m     31\u001b[0m \u001b[0;31m# testdata = dataset[num_trainpoints + num_valpoints:]\u001b[0m\u001b[0;34m\u001b[0m\u001b[0;34m\u001b[0m\u001b[0;34m\u001b[0m\u001b[0m\n",
            "\u001b[0;32m/usr/local/lib/python3.7/dist-packages/torch_geometric/data/dataset.py\u001b[0m in \u001b[0;36m__getitem__\u001b[0;34m(self, idx)\u001b[0m\n\u001b[1;32m    189\u001b[0m             \u001b[0;32mreturn\u001b[0m \u001b[0mdata\u001b[0m\u001b[0;34m\u001b[0m\u001b[0;34m\u001b[0m\u001b[0m\n\u001b[1;32m    190\u001b[0m         \u001b[0;32melse\u001b[0m\u001b[0;34m:\u001b[0m\u001b[0;34m\u001b[0m\u001b[0;34m\u001b[0m\u001b[0m\n\u001b[0;32m--> 191\u001b[0;31m             \u001b[0;32mreturn\u001b[0m \u001b[0mself\u001b[0m\u001b[0;34m.\u001b[0m\u001b[0mindex_select\u001b[0m\u001b[0;34m(\u001b[0m\u001b[0midx\u001b[0m\u001b[0;34m)\u001b[0m\u001b[0;34m\u001b[0m\u001b[0;34m\u001b[0m\u001b[0m\n\u001b[0m\u001b[1;32m    192\u001b[0m \u001b[0;34m\u001b[0m\u001b[0m\n\u001b[1;32m    193\u001b[0m     \u001b[0;32mdef\u001b[0m \u001b[0mindex_select\u001b[0m\u001b[0;34m(\u001b[0m\u001b[0mself\u001b[0m\u001b[0;34m,\u001b[0m \u001b[0midx\u001b[0m\u001b[0;34m)\u001b[0m\u001b[0;34m:\u001b[0m\u001b[0;34m\u001b[0m\u001b[0;34m\u001b[0m\u001b[0m\n",
            "\u001b[0;32m/usr/local/lib/python3.7/dist-packages/torch_geometric/data/dataset.py\u001b[0m in \u001b[0;36mindex_select\u001b[0;34m(self, idx)\u001b[0m\n\u001b[1;32m    192\u001b[0m \u001b[0;34m\u001b[0m\u001b[0m\n\u001b[1;32m    193\u001b[0m     \u001b[0;32mdef\u001b[0m \u001b[0mindex_select\u001b[0m\u001b[0;34m(\u001b[0m\u001b[0mself\u001b[0m\u001b[0;34m,\u001b[0m \u001b[0midx\u001b[0m\u001b[0;34m)\u001b[0m\u001b[0;34m:\u001b[0m\u001b[0;34m\u001b[0m\u001b[0;34m\u001b[0m\u001b[0m\n\u001b[0;32m--> 194\u001b[0;31m         \u001b[0mindices\u001b[0m \u001b[0;34m=\u001b[0m \u001b[0mself\u001b[0m\u001b[0;34m.\u001b[0m\u001b[0mindices\u001b[0m\u001b[0;34m(\u001b[0m\u001b[0;34m)\u001b[0m\u001b[0;34m\u001b[0m\u001b[0;34m\u001b[0m\u001b[0m\n\u001b[0m\u001b[1;32m    195\u001b[0m \u001b[0;34m\u001b[0m\u001b[0m\n\u001b[1;32m    196\u001b[0m         \u001b[0;32mif\u001b[0m \u001b[0misinstance\u001b[0m\u001b[0;34m(\u001b[0m\u001b[0midx\u001b[0m\u001b[0;34m,\u001b[0m \u001b[0mslice\u001b[0m\u001b[0;34m)\u001b[0m\u001b[0;34m:\u001b[0m\u001b[0;34m\u001b[0m\u001b[0;34m\u001b[0m\u001b[0m\n",
            "\u001b[0;32m/usr/local/lib/python3.7/dist-packages/torch_geometric/data/dataset.py\u001b[0m in \u001b[0;36mindices\u001b[0;34m(self)\u001b[0m\n\u001b[1;32m     93\u001b[0m \u001b[0;34m\u001b[0m\u001b[0m\n\u001b[1;32m     94\u001b[0m     \u001b[0;32mdef\u001b[0m \u001b[0mindices\u001b[0m\u001b[0;34m(\u001b[0m\u001b[0mself\u001b[0m\u001b[0;34m)\u001b[0m\u001b[0;34m:\u001b[0m\u001b[0;34m\u001b[0m\u001b[0;34m\u001b[0m\u001b[0m\n\u001b[0;32m---> 95\u001b[0;31m         \u001b[0;32mif\u001b[0m \u001b[0mself\u001b[0m\u001b[0;34m.\u001b[0m\u001b[0m__indices__\u001b[0m \u001b[0;32mis\u001b[0m \u001b[0;32mnot\u001b[0m \u001b[0;32mNone\u001b[0m\u001b[0;34m:\u001b[0m\u001b[0;34m\u001b[0m\u001b[0;34m\u001b[0m\u001b[0m\n\u001b[0m\u001b[1;32m     96\u001b[0m             \u001b[0;32mreturn\u001b[0m \u001b[0mself\u001b[0m\u001b[0;34m.\u001b[0m\u001b[0m__indices__\u001b[0m\u001b[0;34m\u001b[0m\u001b[0;34m\u001b[0m\u001b[0m\n\u001b[1;32m     97\u001b[0m         \u001b[0;32melse\u001b[0m\u001b[0;34m:\u001b[0m\u001b[0;34m\u001b[0m\u001b[0;34m\u001b[0m\u001b[0m\n",
            "\u001b[0;31mAttributeError\u001b[0m: 'TUDataset' object has no attribute '__indices__'"
          ]
        }
      ]
    },
    {
      "cell_type": "markdown",
      "metadata": {
        "id": "nK-q0sSIq_rK"
      },
      "source": [
        "## Other dataset"
      ]
    },
    {
      "cell_type": "code",
      "metadata": {
        "id": "0DMI9CGZrDQZ"
      },
      "source": [
        "from torch_geometric.datasets import TUDataset\r\n",
        "\r\n",
        "dataset = TUDataset(root='/tmp/ENZYMES', name='ENZYMES')\r\n",
        "\r\n",
        "\r\n",
        "dataset_scale = 1\r\n",
        "total_samples = int(np.floor(len(dataset)*dataset_scale))\r\n",
        "dataset = dataset[:total_samples]\r\n",
        "\r\n",
        "num_trainpoints = int(np.floor(0.6*len(dataset)))\r\n",
        "num_valpoints = int(np.floor(num_trainpoints/3))\r\n",
        "num_testpoints = len(dataset) - (num_trainpoints + num_valpoints)\r\n",
        "\r\n",
        "\r\n",
        "traindata= dataset[0:num_trainpoints]\r\n",
        "valdata = dataset[num_trainpoints:num_trainpoints + num_valpoints]\r\n",
        "testdata = dataset[num_trainpoints + num_valpoints:]\r\n",
        "\r\n",
        "batch_size = 32\r\n",
        "\r\n",
        "train_loader = DataLoader(traindata, batch_size, shuffle=True)\r\n",
        "test_loader = DataLoader(testdata, batch_size, shuffle=False)\r\n",
        "val_loader =  DataLoader(valdata, batch_size, shuffle=False)\r\n",
        "\r\n",
        "\r\n",
        "#set up random seeds \r\n",
        "torch.manual_seed(1)\r\n",
        "np.random.seed(2)   \r\n",
        "torch.backends.cudnn.deterministic = True\r\n",
        "torch.backends.cudnn.benchmark = False"
      ],
      "execution_count": 50,
      "outputs": []
    },
    {
      "cell_type": "code",
      "metadata": {
        "id": "4QbQQPB1DMIS"
      },
      "source": [
        "#### epochs=1000\r\n",
        "#number of propagation layers\r\n",
        "numlayers=5\r\n",
        "elasticity = 0.2\r\n",
        "\r\n",
        "#number of propagation layers + attention\r\n",
        "receptive_field= numlayers + 1\r\n",
        "\r\n",
        "\r\n",
        "val_losses = []\r\n",
        "cliq_dists = []\r\n",
        "\r\n",
        "net =  cliqueMPNN_hindsight_earlyGAT(dataset,numlayers, 32, 32,1, elasticity = elasticity)\r\n",
        "#net =  cutTMPNN(dataset,numlayers, 64,1)\r\n",
        "\r\n",
        "#envname = \"Hard instance experiments\" + str(net)+ 'PROTOTYPING_' + datasetname + '_seed: '+ str(r_seed) +\"_width1: \"+ str(hidden_1) + \"_batch size : \" + str(batch_size) + \"Finalize_Samples_new_code_GCAT\" + \"_LR: \" +str(learning_rate) + \"_PenaltyCoeff:  \"+ str(penalty_coeff)+ \"_Layers: \"+ str(numlayers) \r\n",
        "\r\n",
        "#net =  DataParallel(net)\r\n",
        "\r\n",
        "device = torch.device('cuda' if torch.cuda.is_available() else 'cpu')\r\n",
        "\r\n",
        "lr_decay_step_size = 5\r\n",
        "lr_decay_factor = 0.95\r\n",
        "\r\n",
        "net.to(device).reset_parameters()\r\n",
        "#net = net.to(device)\r\n",
        "\r\n",
        "optimizer = Adam(net.parameters(), lr=0.001, weight_decay=0.00)"
      ],
      "execution_count": 52,
      "outputs": []
    },
    {
      "cell_type": "code",
      "metadata": {
        "colab": {
          "base_uri": "https://localhost:8080/"
        },
        "id": "pajCpLJFaqCc",
        "outputId": "3ae417e1-763f-4fd6-e37f-d3298a135295"
      },
      "source": [
        "! npm install -g localtunnel\r\n",
        "get_ipython().system_raw('python3 -m pip install visdom')\r\n",
        "get_ipython().system_raw('python3 -m visdom.server -port 6006 >> visdomlog.txt 2>&1 &')\r\n",
        "get_ipython().system_raw('lt --port 6006 >> url.txt 2>&1 &')\r\n",
        "import time\r\n",
        "time.sleep(5)\r\n",
        "! cat url.txt\r\n",
        "import visdom\r\n",
        "time.sleep(5)\r\n",
        "vis = visdom.Visdom(port='6006')\r\n",
        "print(vis)\r\n",
        "time.sleep(3)\r\n",
        "vis.text('testing')\r\n",
        "! cat visdomlog.txt"
      ],
      "execution_count": 77,
      "outputs": [
        {
          "output_type": "stream",
          "text": [
            "[Errno 99] Cannot assign requested address\n",
            "[Errno 99] Cannot assign requested address\n",
            "[Errno 99] Cannot assign requested address\n"
          ],
          "name": "stderr"
        },
        {
          "output_type": "stream",
          "text": [
            ""
          ],
          "name": "stdout"
        },
        {
          "output_type": "stream",
          "text": [
            "[Errno 99] Cannot assign requested address\n",
            "[Errno 99] Cannot assign requested address\n"
          ],
          "name": "stderr"
        },
        {
          "output_type": "stream",
          "text": [
            "\u001b[K\u001b[?25h/tools/node/bin/lt -> /tools/node/lib/node_modules/localtunnel/bin/lt.js\n",
            "+ localtunnel@2.0.1\n",
            "added 22 packages from 22 contributors in 1.64s\n"
          ],
          "name": "stdout"
        },
        {
          "output_type": "stream",
          "text": [
            "[Errno 99] Cannot assign requested address\n",
            "[Errno 99] Cannot assign requested address\n",
            "[Errno 99] Cannot assign requested address\n",
            "[Errno 99] Cannot assign requested address\n",
            "[Errno 99] Cannot assign requested address\n",
            "[Errno 99] Cannot assign requested address\n",
            "[Errno 99] Cannot assign requested address\n",
            "[Errno 99] Cannot assign requested address\n",
            "[Errno 99] Cannot assign requested address\n",
            "[Errno 99] Cannot assign requested address\n",
            "[Errno 99] Cannot assign requested address\n",
            "[Errno 99] Cannot assign requested address\n",
            "[Errno 99] Cannot assign requested address\n",
            "[Errno 99] Cannot assign requested address\n",
            "[Errno 99] Cannot assign requested address\n",
            "[Errno 99] Cannot assign requested address\n",
            "[Errno 99] Cannot assign requested address\n",
            "[Errno 99] Cannot assign requested address\n",
            "[Errno 99] Cannot assign requested address\n"
          ],
          "name": "stderr"
        },
        {
          "output_type": "stream",
          "text": [
            "your url is: https://great-dingo-96.loca.lt\n"
          ],
          "name": "stdout"
        },
        {
          "output_type": "stream",
          "text": [
            "[Errno 99] Cannot assign requested address\n",
            "[Errno 99] Cannot assign requested address\n",
            "[Errno 99] Cannot assign requested address\n",
            "[Errno 99] Cannot assign requested address\n",
            "[Errno 99] Cannot assign requested address\n",
            "[Errno 99] Cannot assign requested address\n",
            "[Errno 99] Cannot assign requested address\n",
            "[Errno 99] Cannot assign requested address\n",
            "[Errno 99] Cannot assign requested address\n",
            "[Errno 99] Cannot assign requested address\n",
            "[Errno 99] Cannot assign requested address\n",
            "[Errno 99] Cannot assign requested address\n",
            "[Errno 99] Cannot assign requested address\n",
            "Setting up a new session...\n",
            "[Errno 99] Cannot assign requested address\n"
          ],
          "name": "stderr"
        },
        {
          "output_type": "stream",
          "text": [
            "<visdom.Visdom object at 0x7fa8ee1a7fd0>\n"
          ],
          "name": "stdout"
        },
        {
          "output_type": "stream",
          "text": [
            "[Errno 99] Cannot assign requested address\n",
            "[Errno 99] Cannot assign requested address\n",
            "[Errno 99] Cannot assign requested address\n",
            "[Errno 99] Cannot assign requested address\n",
            "[Errno 99] Cannot assign requested address\n",
            "[Errno 99] Cannot assign requested address\n",
            "[Errno 99] Cannot assign requested address\n"
          ],
          "name": "stderr"
        },
        {
          "output_type": "stream",
          "text": [
            "/usr/local/lib/python3.7/dist-packages/visdom/server.py:29: DeprecationWarning: zmq.eventloop.ioloop is deprecated in pyzmq 17. pyzmq now works with default tornado and asyncio eventloops.\n",
            "  ioloop.install()  # Needs to happen before any tornado imports!\n",
            "INFO:root:Application Started\n",
            "ERROR:tornado.application:Uncaught exception POST /env/main (127.0.0.1)\n",
            "HTTPServerRequest(protocol='http', host='localhost:6006', method='POST', uri='/env/main', version='HTTP/1.1', remote_ip='127.0.0.1')\n",
            "Traceback (most recent call last):\n",
            "  File \"/usr/local/lib/python3.7/dist-packages/tornado/web.py\", line 1590, in _execute\n",
            "    result = method(*self.path_args, **self.path_kwargs)\n",
            "  File \"/usr/local/lib/python3.7/dist-packages/visdom/server.py\", line 804, in post\n",
            "    )['sid']\n",
            "KeyError: 'sid'\n",
            "ERROR:root:ERROR: 500: {'exc_info': (<class 'KeyError'>, KeyError('sid'), <traceback object at 0x7fa9190d2aa0>)}\n",
            "ERROR:tornado.access:500 POST /env/main (127.0.0.1) 6.18ms\n",
            "INFO:tornado.access:101 GET /vis_socket (127.0.0.1) 0.45ms\n",
            "INFO:root:Opened visdom socket from ip: 127.0.0.1\n",
            "INFO:tornado.access:200 POST /events (127.0.0.1) 724.60ms\n"
          ],
          "name": "stdout"
        }
      ]
    },
    {
      "cell_type": "code",
      "metadata": {
        "colab": {
          "base_uri": "https://localhost:8080/"
        },
        "id": "DyznbogCGKtP",
        "outputId": "4718ac3a-01dd-4ebb-ff8d-5e69a942d790"
      },
      "source": [
        "#THEEEEEEEEEEEEEEEEEESEEEEEEEEEEEEE ONES WWWWWWWWWWWWWWWWOOOOOOOOOOOOORKKKKKKKKKKK\r\n",
        "# epochs = 200\r\n",
        "# net.train()\r\n",
        "# retdict = {}\r\n",
        "# edge_drop_p = 0.0\r\n",
        "# edge_dropout_decay = 0.90\r\n",
        "# penalty_coeff = 9.00\r\n",
        "# penalty_increase = -0.00\r\n",
        "# validation_timeout = 500\r\n",
        "\r\n",
        "b_sizes = [32]\r\n",
        "l_rates = [0.001]\r\n",
        "depths = [4]\r\n",
        "coefficients = [4.]\r\n",
        "rand_seeds = [66]\r\n",
        "widths = [64]\r\n",
        "\r\n",
        "epochs = 100\r\n",
        "net.train()\r\n",
        "retdict = {}\r\n",
        "edge_drop_p = 0.0\r\n",
        "edge_dropout_decay = 0.90\r\n",
        "penalty_coeff = 9.00\r\n",
        "penalty_increase = -0.00\r\n",
        "validation_timeout = 75\r\n",
        "\r\n",
        "# b_sizes = [32]\r\n",
        "# l_rates = [0.001]\r\n",
        "# depths = [3]\r\n",
        "# coefficients = [3.5]\r\n",
        "# rand_seeds = [68]\r\n",
        "# widths = [64]\r\n",
        "\r\n",
        "#THEBEST\r\n",
        "# epochs = 100\r\n",
        "# net.train()\r\n",
        "# retdict = {}\r\n",
        "# edge_drop_p = 0.0\r\n",
        "# edge_dropout_decay = 0.90\r\n",
        "# penalty_coeff = 9.00\r\n",
        "# penalty_increase = -0.00\r\n",
        "# validation_timeout = 75\r\n",
        "\r\n",
        "\r\n",
        "\r\n",
        "for batch_size, learning_rate, numlayers, penalty_coeff, r_seed, hidden_1 in product(b_sizes, l_rates, depths, coefficients, rand_seeds, widths):\r\n",
        "   \r\n",
        "    torch.manual_seed(r_seed)\r\n",
        "\r\n",
        "\r\n",
        "    train_loader = DataLoader(traindata, batch_size, shuffle=True)\r\n",
        "    test_loader = DataLoader(testdata, batch_size, shuffle=False)\r\n",
        "    val_loader =  DataLoader(valdata, batch_size, shuffle=False)\r\n",
        "\r\n",
        "    receptive_field= numlayers + 1\r\n",
        "    val_losses = []\r\n",
        "    cliq_dists = []\r\n",
        "\r\n",
        "    #hidden_1 = 128\r\n",
        "    hidden_2 = 1\r\n",
        "\r\n",
        "    net =  cliqueMPNN_hindsight_earlyGAT(dataset,numlayers, hidden_1, hidden_2 ,1, elasticity = elasticity)\r\n",
        "    #net =  cutTMPNN(dataset,numlayers, 64,1)\r\n",
        "\r\n",
        "    #net =  DataParallel(net)\r\n",
        "\r\n",
        "    net.to(device).reset_parameters()\r\n",
        "    #net = net.to(device)\r\n",
        "    optimizer = Adam(net.parameters(), lr=learning_rate, weight_decay=0.00000)\r\n",
        "\r\n",
        "    envname = \"August\" + str(net)+ 'PROTOTYPING_' + dataset_name + '_seed: '+ str(r_seed) +\"_width1: \"+ str(hidden_1) + \"_batch size : \" + str(batch_size) + \"Finalize_Samples_new_code_GCAT\" + \"_LR: \" +str(learning_rate) + \"_PenaltyCoeff:  \"+ str(penalty_coeff)+ \"_Layers: \"+ str(numlayers) \r\n",
        "    \r\n",
        "    # plotter = VisdomLinePlotter(env_name=envname) #----------------------------------------------\r\n",
        "    for epoch in range(epochs):\r\n",
        "        totalretdict = {}\r\n",
        "        count=0\r\n",
        "        if epoch % 5 == 0:\r\n",
        "            edge_drop_p = edge_drop_p*edge_dropout_decay\r\n",
        "            print(\"Edge_dropout: \", edge_drop_p)\r\n",
        "\r\n",
        "        if epoch % 10 == 0:\r\n",
        "            penalty_coeff = penalty_coeff + 0.\r\n",
        "            print(\"Penalty_coefficient: \", penalty_coeff)\r\n",
        "\r\n",
        "        # if epoch % 15 == 0:\r\n",
        "        #     val_l, cliq_dist, val_cardinalities= predict(net, val_loader, receptive_field)\r\n",
        "        #     #val_cardinalities = torch.tensor(val_cardinalities.detach().cpu())\r\n",
        "        #     #print(val_cardinalities)\r\n",
        "        #     val_losses += [val_l]\r\n",
        "        #     cliq_dists += [cliq_dist]\r\n",
        "            # if epoch>30:\r\n",
        "            #     plotter.plot(\"validation loss\", \"validation loss\", \"validation loss\", epoch, val_losses[-1])\r\n",
        "            #     plotter.plot(\"validation clique dist\", \"validation clique dist\", \"validation clique dist\", epoch, cliq_dists[-1])\r\n",
        "            #     #plotter.histog(\"validation expected cardinalities\",val_cardinalities[0])\r\n",
        "\r\n",
        "            #     if (val_losses[-1] > val_losses[-2]) and (val_losses[-1] > val_losses[-3]) and (epoch>validation_timeout):\r\n",
        "            #         print(\"Converged!\")\r\n",
        "            #         if val_losses[-2] < val_losses[-3]:\r\n",
        "            #             print(\"Best model epoch: \", epoch-15)\r\n",
        "            #             file_name = '/home/karalias/myrepos/CliqueMPNN/cliqueMPNN_randomround_samples/Models/'+ str(dataset_name)+ '/' + str(net)+ '_'+ str(epoch-15)+'_samples.pt'\r\n",
        "            #             net.load_state_dict(torch.load(file_name), strict=False)\r\n",
        "            #         else:\r\n",
        "            #             print(\"Best model epoch: \", epoch-30)\r\n",
        "            #             file_name = '/home/karalias/myrepos/CliqueMPNN/cliqueMPNN_randomround_samples/Models/'+ str(dataset_name)+ '/' + str(net)+ '_'+ str(epoch-30)+'_samples.pt'\r\n",
        "            #             net.load_state_dict(torch.load(file_name), strict=False)\r\n",
        "            #         break\r\n",
        "            #     if epoch%15==0:\r\n",
        "            #         file_name = '/home/karalias/myrepos/CliqueMPNN/cliqueMPNN_randomround_samples/Models/'+ str(dataset_name)+ '/' + str(net)+ '_'+ str(epoch)+'_samples.pt'\r\n",
        "            #         print(\"file_name: \", file_name)\r\n",
        "            #         torch.save({file_name : net.state_dict()},  file_name)\r\n",
        "\r\n",
        "        print(\"here2\")\r\n",
        "        #learning rate schedule\r\n",
        "        if epoch % lr_decay_step_size == 0:\r\n",
        "            for param_group in optimizer.param_groups:\r\n",
        "                        param_group['lr'] = lr_decay_factor * param_group['lr']\r\n",
        "\r\n",
        "        #show currrent epoch and GPU utilizationss\r\n",
        "        print('Epoch: ', epoch)\r\n",
        "        GPUtil.showUtilization()\r\n",
        "\r\n",
        "\r\n",
        "\r\n",
        "        #print(\"here3\")\r\n",
        "\r\n",
        "\r\n",
        "        net.train()\r\n",
        "        for data in train_loader:\r\n",
        "            count += 1 \r\n",
        "            optimizer.zero_grad(), \r\n",
        "            data = data.to(device)\r\n",
        "            data_prime = get_diracs(data, 1, sparse = True, effective_volume_range=0.15, receptive_field = receptive_field)\r\n",
        "\r\n",
        "            data = data.to('cpu')\r\n",
        "            data_prime = data_prime.to(device)\r\n",
        "\r\n",
        "\r\n",
        "            retdict = net(data_prime, edge_drop_p, penalty_coeff)\r\n",
        "            #print(retdict)\r\n",
        "\r\n",
        "            for key,val in retdict.items():\r\n",
        "                if \"sequence\" in val[1]:\r\n",
        "                    if key in totalretdict:\r\n",
        "                        totalretdict[key][0] += val[0].item()\r\n",
        "                    else:\r\n",
        "                        totalretdict[key] = [val[0].item(),val[1]]\r\n",
        "\r\n",
        "                elif count == 1 and \"hist\" in val[1]: \r\n",
        "                    try:\r\n",
        "                        # plotter.histog(key, val[0].reshape(-1)) #----------------------------\r\n",
        "                        pass\r\n",
        "                    except:    \r\n",
        "                        print(f\"Remember, you need more than 1 value for a histogram! Key: {key}\", val[0].shape)\r\n",
        "\r\n",
        "\r\n",
        "            #print(\"here4\")\r\n",
        "\r\n",
        "            if epoch > 2:\r\n",
        "#                     print(\"pre backward------------------------\")\r\n",
        "#                     #reporter.report()\r\n",
        "#                     print(\"after backward----------------------\")\r\n",
        "                    retdict[\"loss\"][0].backward()\r\n",
        "                    #reporter.report()\r\n",
        "\r\n",
        "                    torch.nn.utils.clip_grad_norm_(net.parameters(),1)\r\n",
        "                    optimizer.step()\r\n",
        "                    del(retdict)\r\n",
        "                    if count==1:\r\n",
        "                          # plotter.gradflow(net, \"Gradflow\") #------------\r\n",
        "                          pass\r\n",
        "\r\n",
        "        if epoch > -1:        \r\n",
        "            for key,val in totalretdict.items():\r\n",
        "                if \"sequence\" in val[1]:\r\n",
        "                    val[0] = val[0]/(len(train_loader.dataset)/batch_size)\r\n",
        "                    # plotter.plot(key, key, key, epoch, val[0]) #-----------------\r\n",
        "                    pass\r\n",
        "\r\n",
        "            del data_prime\r\n",
        "\r\n",
        "        "
      ],
      "execution_count": 81,
      "outputs": [
        {
          "output_type": "stream",
          "text": [
            "Edge_dropout:  0.0\n",
            "Penalty_coefficient:  4.0\n",
            "here2\n",
            "Epoch:  0\n",
            "| ID | GPU | MEM |\n",
            "------------------\n",
            "|  0 |  1% |  8% |\n"
          ],
          "name": "stdout"
        },
        {
          "output_type": "stream",
          "text": [
            "[Errno 99] Cannot assign requested address\n",
            "[Errno 99] Cannot assign requested address\n",
            "[Errno 99] Cannot assign requested address\n",
            "[Errno 99] Cannot assign requested address\n",
            "[Errno 99] Cannot assign requested address\n"
          ],
          "name": "stderr"
        },
        {
          "output_type": "stream",
          "text": [
            "here2\n",
            "Epoch:  1\n",
            "| ID | GPU | MEM |\n",
            "------------------\n",
            "|  0 | 11% |  8% |\n"
          ],
          "name": "stdout"
        },
        {
          "output_type": "stream",
          "text": [
            "[Errno 99] Cannot assign requested address\n",
            "[Errno 99] Cannot assign requested address\n",
            "[Errno 99] Cannot assign requested address\n",
            "[Errno 99] Cannot assign requested address\n",
            "[Errno 99] Cannot assign requested address\n",
            "[Errno 99] Cannot assign requested address\n"
          ],
          "name": "stderr"
        },
        {
          "output_type": "stream",
          "text": [
            "here2\n",
            "Epoch:  2\n",
            "| ID | GPU | MEM |\n",
            "------------------\n",
            "|  0 | 10% |  8% |\n"
          ],
          "name": "stdout"
        },
        {
          "output_type": "stream",
          "text": [
            "[Errno 99] Cannot assign requested address\n",
            "[Errno 99] Cannot assign requested address\n",
            "[Errno 99] Cannot assign requested address\n",
            "[Errno 99] Cannot assign requested address\n",
            "[Errno 99] Cannot assign requested address\n"
          ],
          "name": "stderr"
        },
        {
          "output_type": "stream",
          "text": [
            "here2\n",
            "Epoch:  3\n",
            "| ID | GPU | MEM |\n",
            "------------------\n",
            "|  0 | 11% |  8% |\n"
          ],
          "name": "stdout"
        },
        {
          "output_type": "stream",
          "text": [
            "[Errno 99] Cannot assign requested address\n",
            "[Errno 99] Cannot assign requested address\n",
            "[Errno 99] Cannot assign requested address\n",
            "[Errno 99] Cannot assign requested address\n",
            "[Errno 99] Cannot assign requested address\n",
            "[Errno 99] Cannot assign requested address\n",
            "[Errno 99] Cannot assign requested address\n"
          ],
          "name": "stderr"
        },
        {
          "output_type": "stream",
          "text": [
            "here2\n",
            "Epoch:  4\n",
            "| ID | GPU | MEM |\n",
            "------------------\n",
            "|  0 | 15% |  8% |\n"
          ],
          "name": "stdout"
        },
        {
          "output_type": "stream",
          "text": [
            "[Errno 99] Cannot assign requested address\n",
            "[Errno 99] Cannot assign requested address\n",
            "[Errno 99] Cannot assign requested address\n",
            "[Errno 99] Cannot assign requested address\n",
            "[Errno 99] Cannot assign requested address\n",
            "[Errno 99] Cannot assign requested address\n"
          ],
          "name": "stderr"
        },
        {
          "output_type": "stream",
          "text": [
            "Edge_dropout:  0.0\n",
            "here2\n",
            "Epoch:  5\n",
            "| ID | GPU | MEM |\n",
            "------------------\n",
            "|  0 | 17% |  8% |\n"
          ],
          "name": "stdout"
        },
        {
          "output_type": "stream",
          "text": [
            "[Errno 99] Cannot assign requested address\n",
            "[Errno 99] Cannot assign requested address\n",
            "[Errno 99] Cannot assign requested address\n",
            "[Errno 99] Cannot assign requested address\n",
            "[Errno 99] Cannot assign requested address\n",
            "[Errno 99] Cannot assign requested address\n"
          ],
          "name": "stderr"
        },
        {
          "output_type": "stream",
          "text": [
            "here2\n",
            "Epoch:  6\n",
            "| ID | GPU | MEM |\n",
            "------------------\n",
            "|  0 | 14% |  8% |\n"
          ],
          "name": "stdout"
        },
        {
          "output_type": "stream",
          "text": [
            "[Errno 99] Cannot assign requested address\n",
            "[Errno 99] Cannot assign requested address\n",
            "[Errno 99] Cannot assign requested address\n",
            "[Errno 99] Cannot assign requested address\n",
            "[Errno 99] Cannot assign requested address\n",
            "[Errno 99] Cannot assign requested address\n",
            "[Errno 99] Cannot assign requested address\n",
            "[Errno 99] Cannot assign requested address\n"
          ],
          "name": "stderr"
        },
        {
          "output_type": "stream",
          "text": [
            "here2\n",
            "Epoch:  7\n",
            "| ID | GPU | MEM |\n",
            "------------------\n",
            "|  0 | 17% |  8% |\n"
          ],
          "name": "stdout"
        },
        {
          "output_type": "stream",
          "text": [
            "[Errno 99] Cannot assign requested address\n",
            "[Errno 99] Cannot assign requested address\n",
            "[Errno 99] Cannot assign requested address\n",
            "[Errno 99] Cannot assign requested address\n",
            "[Errno 99] Cannot assign requested address\n"
          ],
          "name": "stderr"
        },
        {
          "output_type": "stream",
          "text": [
            "here2\n",
            "Epoch:  8\n",
            "| ID | GPU | MEM |\n",
            "------------------\n",
            "|  0 | 16% |  8% |\n"
          ],
          "name": "stdout"
        },
        {
          "output_type": "stream",
          "text": [
            "[Errno 99] Cannot assign requested address\n",
            "[Errno 99] Cannot assign requested address\n",
            "[Errno 99] Cannot assign requested address\n",
            "[Errno 99] Cannot assign requested address\n",
            "[Errno 99] Cannot assign requested address\n",
            "[Errno 99] Cannot assign requested address\n",
            "[Errno 99] Cannot assign requested address\n"
          ],
          "name": "stderr"
        },
        {
          "output_type": "stream",
          "text": [
            "here2\n",
            "Epoch:  9\n",
            "| ID | GPU | MEM |\n",
            "------------------\n",
            "|  0 | 15% |  8% |\n"
          ],
          "name": "stdout"
        },
        {
          "output_type": "stream",
          "text": [
            "[Errno 99] Cannot assign requested address\n",
            "[Errno 99] Cannot assign requested address\n",
            "[Errno 99] Cannot assign requested address\n",
            "[Errno 99] Cannot assign requested address\n",
            "[Errno 99] Cannot assign requested address\n",
            "[Errno 99] Cannot assign requested address\n",
            "[Errno 99] Cannot assign requested address\n",
            "[Errno 99] Cannot assign requested address\n"
          ],
          "name": "stderr"
        },
        {
          "output_type": "stream",
          "text": [
            "Edge_dropout:  0.0\n",
            "Penalty_coefficient:  4.0\n",
            "here2\n",
            "Epoch:  10\n",
            "| ID | GPU | MEM |\n",
            "------------------\n",
            "|  0 | 16% |  8% |\n"
          ],
          "name": "stdout"
        },
        {
          "output_type": "stream",
          "text": [
            "[Errno 99] Cannot assign requested address\n",
            "[Errno 99] Cannot assign requested address\n",
            "[Errno 99] Cannot assign requested address\n",
            "[Errno 99] Cannot assign requested address\n",
            "[Errno 99] Cannot assign requested address\n",
            "[Errno 99] Cannot assign requested address\n"
          ],
          "name": "stderr"
        },
        {
          "output_type": "stream",
          "text": [
            "here2\n",
            "Epoch:  11\n",
            "| ID | GPU | MEM |\n",
            "------------------\n",
            "|  0 | 13% |  8% |\n"
          ],
          "name": "stdout"
        },
        {
          "output_type": "stream",
          "text": [
            "[Errno 99] Cannot assign requested address\n",
            "[Errno 99] Cannot assign requested address\n",
            "[Errno 99] Cannot assign requested address\n",
            "[Errno 99] Cannot assign requested address\n",
            "[Errno 99] Cannot assign requested address\n",
            "[Errno 99] Cannot assign requested address\n"
          ],
          "name": "stderr"
        },
        {
          "output_type": "stream",
          "text": [
            "here2\n",
            "Epoch:  12\n",
            "| ID | GPU | MEM |\n",
            "------------------\n",
            "|  0 | 10% |  8% |\n"
          ],
          "name": "stdout"
        },
        {
          "output_type": "stream",
          "text": [
            "[Errno 99] Cannot assign requested address\n",
            "[Errno 99] Cannot assign requested address\n",
            "[Errno 99] Cannot assign requested address\n",
            "[Errno 99] Cannot assign requested address\n",
            "[Errno 99] Cannot assign requested address\n",
            "[Errno 99] Cannot assign requested address\n",
            "[Errno 99] Cannot assign requested address\n",
            "[Errno 99] Cannot assign requested address\n"
          ],
          "name": "stderr"
        },
        {
          "output_type": "stream",
          "text": [
            "here2\n",
            "Epoch:  13\n",
            "| ID | GPU | MEM |\n",
            "------------------\n",
            "|  0 | 17% |  8% |\n"
          ],
          "name": "stdout"
        },
        {
          "output_type": "stream",
          "text": [
            "[Errno 99] Cannot assign requested address\n",
            "[Errno 99] Cannot assign requested address\n",
            "[Errno 99] Cannot assign requested address\n",
            "[Errno 99] Cannot assign requested address\n",
            "[Errno 99] Cannot assign requested address\n"
          ],
          "name": "stderr"
        },
        {
          "output_type": "stream",
          "text": [
            "here2\n",
            "Epoch:  14\n",
            "| ID | GPU | MEM |\n",
            "------------------\n",
            "|  0 | 14% |  8% |\n"
          ],
          "name": "stdout"
        },
        {
          "output_type": "stream",
          "text": [
            "[Errno 99] Cannot assign requested address\n",
            "[Errno 99] Cannot assign requested address\n",
            "[Errno 99] Cannot assign requested address\n",
            "[Errno 99] Cannot assign requested address\n",
            "[Errno 99] Cannot assign requested address\n",
            "[Errno 99] Cannot assign requested address\n",
            "[Errno 99] Cannot assign requested address\n"
          ],
          "name": "stderr"
        },
        {
          "output_type": "stream",
          "text": [
            "Edge_dropout:  0.0\n",
            "here2\n",
            "Epoch:  15\n",
            "| ID | GPU | MEM |\n",
            "------------------\n",
            "|  0 | 18% |  8% |\n"
          ],
          "name": "stdout"
        },
        {
          "output_type": "stream",
          "text": [
            "[Errno 99] Cannot assign requested address\n",
            "[Errno 99] Cannot assign requested address\n",
            "[Errno 99] Cannot assign requested address\n",
            "[Errno 99] Cannot assign requested address\n",
            "[Errno 99] Cannot assign requested address\n",
            "[Errno 99] Cannot assign requested address\n"
          ],
          "name": "stderr"
        },
        {
          "output_type": "stream",
          "text": [
            "here2\n",
            "Epoch:  16\n",
            "| ID | GPU | MEM |\n",
            "------------------\n",
            "|  0 | 18% |  8% |\n"
          ],
          "name": "stdout"
        },
        {
          "output_type": "stream",
          "text": [
            "[Errno 99] Cannot assign requested address\n",
            "[Errno 99] Cannot assign requested address\n",
            "[Errno 99] Cannot assign requested address\n",
            "[Errno 99] Cannot assign requested address\n",
            "[Errno 99] Cannot assign requested address\n",
            "[Errno 99] Cannot assign requested address\n"
          ],
          "name": "stderr"
        },
        {
          "output_type": "stream",
          "text": [
            "here2\n",
            "Epoch:  17\n",
            "| ID | GPU | MEM |\n",
            "------------------\n",
            "|  0 | 16% |  8% |\n"
          ],
          "name": "stdout"
        },
        {
          "output_type": "stream",
          "text": [
            "[Errno 99] Cannot assign requested address\n",
            "[Errno 99] Cannot assign requested address\n",
            "[Errno 99] Cannot assign requested address\n",
            "[Errno 99] Cannot assign requested address\n",
            "[Errno 99] Cannot assign requested address\n",
            "[Errno 99] Cannot assign requested address\n",
            "[Errno 99] Cannot assign requested address\n",
            "[Errno 99] Cannot assign requested address\n"
          ],
          "name": "stderr"
        },
        {
          "output_type": "stream",
          "text": [
            "here2\n",
            "Epoch:  18\n",
            "| ID | GPU | MEM |\n",
            "------------------\n",
            "|  0 | 16% |  8% |\n"
          ],
          "name": "stdout"
        },
        {
          "output_type": "stream",
          "text": [
            "[Errno 99] Cannot assign requested address\n",
            "[Errno 99] Cannot assign requested address\n",
            "[Errno 99] Cannot assign requested address\n",
            "[Errno 99] Cannot assign requested address\n",
            "[Errno 99] Cannot assign requested address\n"
          ],
          "name": "stderr"
        },
        {
          "output_type": "stream",
          "text": [
            "here2\n",
            "Epoch:  19\n",
            "| ID | GPU | MEM |\n",
            "------------------\n",
            "|  0 | 14% |  8% |\n"
          ],
          "name": "stdout"
        },
        {
          "output_type": "stream",
          "text": [
            "[Errno 99] Cannot assign requested address\n",
            "[Errno 99] Cannot assign requested address\n",
            "[Errno 99] Cannot assign requested address\n",
            "[Errno 99] Cannot assign requested address\n",
            "[Errno 99] Cannot assign requested address\n",
            "[Errno 99] Cannot assign requested address\n",
            "[Errno 99] Cannot assign requested address\n",
            "[Errno 99] Cannot assign requested address\n"
          ],
          "name": "stderr"
        },
        {
          "output_type": "stream",
          "text": [
            "Edge_dropout:  0.0\n",
            "Penalty_coefficient:  4.0\n",
            "here2\n",
            "Epoch:  20\n",
            "| ID | GPU | MEM |\n",
            "------------------\n",
            "|  0 | 17% |  8% |\n"
          ],
          "name": "stdout"
        },
        {
          "output_type": "stream",
          "text": [
            "[Errno 99] Cannot assign requested address\n",
            "[Errno 99] Cannot assign requested address\n",
            "[Errno 99] Cannot assign requested address\n",
            "[Errno 99] Cannot assign requested address\n",
            "[Errno 99] Cannot assign requested address\n",
            "[Errno 99] Cannot assign requested address\n",
            "[Errno 99] Cannot assign requested address\n"
          ],
          "name": "stderr"
        },
        {
          "output_type": "stream",
          "text": [
            "here2\n",
            "Epoch:  21\n",
            "| ID | GPU | MEM |\n",
            "------------------\n",
            "|  0 | 15% |  8% |\n"
          ],
          "name": "stdout"
        },
        {
          "output_type": "stream",
          "text": [
            "[Errno 99] Cannot assign requested address\n",
            "[Errno 99] Cannot assign requested address\n",
            "[Errno 99] Cannot assign requested address\n",
            "[Errno 99] Cannot assign requested address\n",
            "[Errno 99] Cannot assign requested address\n",
            "[Errno 99] Cannot assign requested address\n"
          ],
          "name": "stderr"
        },
        {
          "output_type": "stream",
          "text": [
            "here2\n",
            "Epoch:  22\n",
            "| ID | GPU | MEM |\n",
            "------------------\n",
            "|  0 | 18% |  8% |\n"
          ],
          "name": "stdout"
        },
        {
          "output_type": "stream",
          "text": [
            "[Errno 99] Cannot assign requested address\n",
            "[Errno 99] Cannot assign requested address\n",
            "[Errno 99] Cannot assign requested address\n",
            "[Errno 99] Cannot assign requested address\n",
            "[Errno 99] Cannot assign requested address\n",
            "[Errno 99] Cannot assign requested address\n"
          ],
          "name": "stderr"
        },
        {
          "output_type": "stream",
          "text": [
            "here2\n",
            "Epoch:  23\n",
            "| ID | GPU | MEM |\n",
            "------------------\n",
            "|  0 | 19% |  8% |\n"
          ],
          "name": "stdout"
        },
        {
          "output_type": "stream",
          "text": [
            "[Errno 99] Cannot assign requested address\n",
            "[Errno 99] Cannot assign requested address\n",
            "[Errno 99] Cannot assign requested address\n",
            "[Errno 99] Cannot assign requested address\n",
            "[Errno 99] Cannot assign requested address\n",
            "[Errno 99] Cannot assign requested address\n",
            "[Errno 99] Cannot assign requested address\n",
            "[Errno 99] Cannot assign requested address\n"
          ],
          "name": "stderr"
        },
        {
          "output_type": "stream",
          "text": [
            "here2\n",
            "Epoch:  24\n",
            "| ID | GPU | MEM |\n",
            "------------------\n",
            "|  0 | 13% |  8% |\n"
          ],
          "name": "stdout"
        },
        {
          "output_type": "stream",
          "text": [
            "[Errno 99] Cannot assign requested address\n",
            "[Errno 99] Cannot assign requested address\n",
            "[Errno 99] Cannot assign requested address\n",
            "[Errno 99] Cannot assign requested address\n",
            "[Errno 99] Cannot assign requested address\n"
          ],
          "name": "stderr"
        },
        {
          "output_type": "stream",
          "text": [
            "Edge_dropout:  0.0\n",
            "here2\n",
            "Epoch:  25\n",
            "| ID | GPU | MEM |\n",
            "------------------\n",
            "|  0 | 17% |  8% |\n"
          ],
          "name": "stdout"
        },
        {
          "output_type": "stream",
          "text": [
            "[Errno 99] Cannot assign requested address\n",
            "[Errno 99] Cannot assign requested address\n",
            "[Errno 99] Cannot assign requested address\n",
            "[Errno 99] Cannot assign requested address\n",
            "[Errno 99] Cannot assign requested address\n",
            "[Errno 99] Cannot assign requested address\n",
            "[Errno 99] Cannot assign requested address\n"
          ],
          "name": "stderr"
        },
        {
          "output_type": "stream",
          "text": [
            "here2\n",
            "Epoch:  26\n",
            "| ID | GPU | MEM |\n",
            "------------------\n",
            "|  0 | 12% |  8% |\n"
          ],
          "name": "stdout"
        },
        {
          "output_type": "stream",
          "text": [
            "[Errno 99] Cannot assign requested address\n",
            "[Errno 99] Cannot assign requested address\n",
            "[Errno 99] Cannot assign requested address\n",
            "[Errno 99] Cannot assign requested address\n",
            "[Errno 99] Cannot assign requested address\n",
            "[Errno 99] Cannot assign requested address\n"
          ],
          "name": "stderr"
        },
        {
          "output_type": "stream",
          "text": [
            "here2\n",
            "Epoch:  27\n",
            "| ID | GPU | MEM |\n",
            "------------------\n",
            "|  0 | 19% |  8% |\n"
          ],
          "name": "stdout"
        },
        {
          "output_type": "stream",
          "text": [
            "[Errno 99] Cannot assign requested address\n",
            "[Errno 99] Cannot assign requested address\n",
            "[Errno 99] Cannot assign requested address\n",
            "[Errno 99] Cannot assign requested address\n",
            "[Errno 99] Cannot assign requested address\n",
            "[Errno 99] Cannot assign requested address\n"
          ],
          "name": "stderr"
        },
        {
          "output_type": "stream",
          "text": [
            "here2\n",
            "Epoch:  28\n",
            "| ID | GPU | MEM |\n",
            "------------------\n",
            "|  0 | 12% |  8% |\n"
          ],
          "name": "stdout"
        },
        {
          "output_type": "stream",
          "text": [
            "[Errno 99] Cannot assign requested address\n",
            "[Errno 99] Cannot assign requested address\n",
            "[Errno 99] Cannot assign requested address\n",
            "[Errno 99] Cannot assign requested address\n",
            "[Errno 99] Cannot assign requested address\n",
            "[Errno 99] Cannot assign requested address\n",
            "[Errno 99] Cannot assign requested address\n",
            "[Errno 99] Cannot assign requested address\n"
          ],
          "name": "stderr"
        },
        {
          "output_type": "stream",
          "text": [
            "here2\n",
            "Epoch:  29\n",
            "| ID | GPU | MEM |\n",
            "------------------\n",
            "|  0 | 12% |  8% |\n"
          ],
          "name": "stdout"
        },
        {
          "output_type": "stream",
          "text": [
            "[Errno 99] Cannot assign requested address\n",
            "[Errno 99] Cannot assign requested address\n",
            "[Errno 99] Cannot assign requested address\n",
            "[Errno 99] Cannot assign requested address\n",
            "[Errno 99] Cannot assign requested address\n"
          ],
          "name": "stderr"
        },
        {
          "output_type": "stream",
          "text": [
            "Edge_dropout:  0.0\n",
            "Penalty_coefficient:  4.0\n",
            "here2\n",
            "Epoch:  30\n",
            "| ID | GPU | MEM |\n",
            "------------------\n",
            "|  0 | 15% |  8% |\n"
          ],
          "name": "stdout"
        },
        {
          "output_type": "stream",
          "text": [
            "[Errno 99] Cannot assign requested address\n",
            "[Errno 99] Cannot assign requested address\n",
            "[Errno 99] Cannot assign requested address\n",
            "[Errno 99] Cannot assign requested address\n",
            "[Errno 99] Cannot assign requested address\n",
            "[Errno 99] Cannot assign requested address\n",
            "[Errno 99] Cannot assign requested address\n",
            "[Errno 99] Cannot assign requested address\n"
          ],
          "name": "stderr"
        },
        {
          "output_type": "stream",
          "text": [
            "here2\n",
            "Epoch:  31\n",
            "| ID | GPU | MEM |\n",
            "------------------\n",
            "|  0 | 18% |  8% |\n"
          ],
          "name": "stdout"
        },
        {
          "output_type": "stream",
          "text": [
            "[Errno 99] Cannot assign requested address\n",
            "[Errno 99] Cannot assign requested address\n",
            "[Errno 99] Cannot assign requested address\n",
            "[Errno 99] Cannot assign requested address\n",
            "[Errno 99] Cannot assign requested address\n",
            "[Errno 99] Cannot assign requested address\n",
            "[Errno 99] Cannot assign requested address\n"
          ],
          "name": "stderr"
        },
        {
          "output_type": "stream",
          "text": [
            "here2\n",
            "Epoch:  32\n",
            "| ID | GPU | MEM |\n",
            "------------------\n",
            "|  0 | 15% |  8% |\n"
          ],
          "name": "stdout"
        },
        {
          "output_type": "stream",
          "text": [
            "[Errno 99] Cannot assign requested address\n",
            "[Errno 99] Cannot assign requested address\n",
            "[Errno 99] Cannot assign requested address\n",
            "[Errno 99] Cannot assign requested address\n",
            "[Errno 99] Cannot assign requested address\n",
            "[Errno 99] Cannot assign requested address\n"
          ],
          "name": "stderr"
        },
        {
          "output_type": "stream",
          "text": [
            "here2\n",
            "Epoch:  33\n",
            "| ID | GPU | MEM |\n",
            "------------------\n",
            "|  0 | 18% |  8% |\n"
          ],
          "name": "stdout"
        },
        {
          "output_type": "stream",
          "text": [
            "[Errno 99] Cannot assign requested address\n",
            "[Errno 99] Cannot assign requested address\n",
            "[Errno 99] Cannot assign requested address\n",
            "[Errno 99] Cannot assign requested address\n",
            "[Errno 99] Cannot assign requested address\n",
            "[Errno 99] Cannot assign requested address\n"
          ],
          "name": "stderr"
        },
        {
          "output_type": "stream",
          "text": [
            "here2\n",
            "Epoch:  34\n",
            "| ID | GPU | MEM |\n",
            "------------------\n",
            "|  0 | 17% |  8% |\n"
          ],
          "name": "stdout"
        },
        {
          "output_type": "stream",
          "text": [
            "[Errno 99] Cannot assign requested address\n",
            "[Errno 99] Cannot assign requested address\n",
            "[Errno 99] Cannot assign requested address\n",
            "[Errno 99] Cannot assign requested address\n",
            "[Errno 99] Cannot assign requested address\n",
            "[Errno 99] Cannot assign requested address\n",
            "[Errno 99] Cannot assign requested address\n",
            "[Errno 99] Cannot assign requested address\n"
          ],
          "name": "stderr"
        },
        {
          "output_type": "stream",
          "text": [
            "Edge_dropout:  0.0\n",
            "here2\n",
            "Epoch:  35\n",
            "| ID | GPU | MEM |\n",
            "------------------\n",
            "|  0 | 13% |  8% |\n"
          ],
          "name": "stdout"
        },
        {
          "output_type": "stream",
          "text": [
            "[Errno 99] Cannot assign requested address\n",
            "[Errno 99] Cannot assign requested address\n",
            "[Errno 99] Cannot assign requested address\n",
            "[Errno 99] Cannot assign requested address\n",
            "[Errno 99] Cannot assign requested address\n"
          ],
          "name": "stderr"
        },
        {
          "output_type": "stream",
          "text": [
            "here2\n",
            "Epoch:  36\n",
            "| ID | GPU | MEM |\n",
            "------------------\n",
            "|  0 | 12% |  8% |\n"
          ],
          "name": "stdout"
        },
        {
          "output_type": "stream",
          "text": [
            "[Errno 99] Cannot assign requested address\n",
            "[Errno 99] Cannot assign requested address\n",
            "[Errno 99] Cannot assign requested address\n",
            "[Errno 99] Cannot assign requested address\n",
            "[Errno 99] Cannot assign requested address\n",
            "[Errno 99] Cannot assign requested address\n",
            "[Errno 99] Cannot assign requested address\n"
          ],
          "name": "stderr"
        },
        {
          "output_type": "stream",
          "text": [
            "here2\n",
            "Epoch:  37\n",
            "| ID | GPU | MEM |\n",
            "------------------\n",
            "|  0 | 17% |  8% |\n"
          ],
          "name": "stdout"
        },
        {
          "output_type": "stream",
          "text": [
            "[Errno 99] Cannot assign requested address\n",
            "[Errno 99] Cannot assign requested address\n",
            "[Errno 99] Cannot assign requested address\n",
            "[Errno 99] Cannot assign requested address\n",
            "[Errno 99] Cannot assign requested address\n",
            "[Errno 99] Cannot assign requested address\n",
            "[Errno 99] Cannot assign requested address\n",
            "[Errno 99] Cannot assign requested address\n"
          ],
          "name": "stderr"
        },
        {
          "output_type": "stream",
          "text": [
            "here2\n",
            "Epoch:  38\n",
            "| ID | GPU | MEM |\n",
            "------------------\n",
            "|  0 | 16% |  8% |\n"
          ],
          "name": "stdout"
        },
        {
          "output_type": "stream",
          "text": [
            "[Errno 99] Cannot assign requested address\n",
            "[Errno 99] Cannot assign requested address\n",
            "[Errno 99] Cannot assign requested address\n",
            "[Errno 99] Cannot assign requested address\n",
            "[Errno 99] Cannot assign requested address\n",
            "[Errno 99] Cannot assign requested address\n"
          ],
          "name": "stderr"
        },
        {
          "output_type": "stream",
          "text": [
            "here2\n",
            "Epoch:  39\n",
            "| ID | GPU | MEM |\n",
            "------------------\n",
            "|  0 | 17% |  8% |\n"
          ],
          "name": "stdout"
        },
        {
          "output_type": "stream",
          "text": [
            "[Errno 99] Cannot assign requested address\n",
            "[Errno 99] Cannot assign requested address\n",
            "[Errno 99] Cannot assign requested address\n",
            "[Errno 99] Cannot assign requested address\n",
            "[Errno 99] Cannot assign requested address\n",
            "[Errno 99] Cannot assign requested address\n"
          ],
          "name": "stderr"
        },
        {
          "output_type": "stream",
          "text": [
            "Edge_dropout:  0.0\n",
            "Penalty_coefficient:  4.0\n",
            "here2\n",
            "Epoch:  40\n",
            "| ID | GPU | MEM |\n",
            "------------------\n",
            "|  0 | 17% |  8% |\n"
          ],
          "name": "stdout"
        },
        {
          "output_type": "stream",
          "text": [
            "[Errno 99] Cannot assign requested address\n",
            "[Errno 99] Cannot assign requested address\n",
            "[Errno 99] Cannot assign requested address\n",
            "[Errno 99] Cannot assign requested address\n",
            "[Errno 99] Cannot assign requested address\n"
          ],
          "name": "stderr"
        },
        {
          "output_type": "stream",
          "text": [
            "here2\n",
            "Epoch:  41\n",
            "| ID | GPU | MEM |\n",
            "------------------\n",
            "|  0 | 12% |  8% |\n"
          ],
          "name": "stdout"
        },
        {
          "output_type": "stream",
          "text": [
            "[Errno 99] Cannot assign requested address\n",
            "[Errno 99] Cannot assign requested address\n",
            "[Errno 99] Cannot assign requested address\n",
            "[Errno 99] Cannot assign requested address\n",
            "[Errno 99] Cannot assign requested address\n",
            "[Errno 99] Cannot assign requested address\n",
            "[Errno 99] Cannot assign requested address\n",
            "[Errno 99] Cannot assign requested address\n"
          ],
          "name": "stderr"
        },
        {
          "output_type": "stream",
          "text": [
            "here2\n",
            "Epoch:  42\n",
            "| ID | GPU | MEM |\n",
            "------------------\n",
            "|  0 | 15% |  8% |\n"
          ],
          "name": "stdout"
        },
        {
          "output_type": "stream",
          "text": [
            "[Errno 99] Cannot assign requested address\n",
            "[Errno 99] Cannot assign requested address\n",
            "[Errno 99] Cannot assign requested address\n",
            "[Errno 99] Cannot assign requested address\n",
            "[Errno 99] Cannot assign requested address\n",
            "[Errno 99] Cannot assign requested address\n",
            "[Errno 99] Cannot assign requested address\n",
            "[Errno 99] Cannot assign requested address\n"
          ],
          "name": "stderr"
        },
        {
          "output_type": "stream",
          "text": [
            "here2\n",
            "Epoch:  43\n",
            "| ID | GPU | MEM |\n",
            "------------------\n",
            "|  0 | 17% |  8% |\n"
          ],
          "name": "stdout"
        },
        {
          "output_type": "stream",
          "text": [
            "[Errno 99] Cannot assign requested address\n",
            "[Errno 99] Cannot assign requested address\n",
            "[Errno 99] Cannot assign requested address\n",
            "[Errno 99] Cannot assign requested address\n",
            "[Errno 99] Cannot assign requested address\n",
            "[Errno 99] Cannot assign requested address\n",
            "[Errno 99] Cannot assign requested address\n"
          ],
          "name": "stderr"
        },
        {
          "output_type": "stream",
          "text": [
            "here2\n",
            "Epoch:  44\n",
            "| ID | GPU | MEM |\n",
            "------------------\n",
            "|  0 | 19% |  8% |\n"
          ],
          "name": "stdout"
        },
        {
          "output_type": "stream",
          "text": [
            "[Errno 99] Cannot assign requested address\n",
            "[Errno 99] Cannot assign requested address\n",
            "[Errno 99] Cannot assign requested address\n",
            "[Errno 99] Cannot assign requested address\n",
            "[Errno 99] Cannot assign requested address\n",
            "[Errno 99] Cannot assign requested address\n"
          ],
          "name": "stderr"
        },
        {
          "output_type": "stream",
          "text": [
            "Edge_dropout:  0.0\n",
            "here2\n",
            "Epoch:  45\n",
            "| ID | GPU | MEM |\n",
            "------------------\n",
            "|  0 | 12% |  8% |\n"
          ],
          "name": "stdout"
        },
        {
          "output_type": "stream",
          "text": [
            "[Errno 99] Cannot assign requested address\n",
            "[Errno 99] Cannot assign requested address\n",
            "[Errno 99] Cannot assign requested address\n",
            "[Errno 99] Cannot assign requested address\n",
            "[Errno 99] Cannot assign requested address\n",
            "[Errno 99] Cannot assign requested address\n"
          ],
          "name": "stderr"
        },
        {
          "output_type": "stream",
          "text": [
            "here2\n",
            "Epoch:  46\n",
            "| ID | GPU | MEM |\n",
            "------------------\n",
            "|  0 | 13% |  8% |\n"
          ],
          "name": "stdout"
        },
        {
          "output_type": "stream",
          "text": [
            "[Errno 99] Cannot assign requested address\n",
            "[Errno 99] Cannot assign requested address\n",
            "[Errno 99] Cannot assign requested address\n",
            "[Errno 99] Cannot assign requested address\n",
            "[Errno 99] Cannot assign requested address\n",
            "[Errno 99] Cannot assign requested address\n",
            "[Errno 99] Cannot assign requested address\n",
            "[Errno 99] Cannot assign requested address\n"
          ],
          "name": "stderr"
        },
        {
          "output_type": "stream",
          "text": [
            "here2\n",
            "Epoch:  47\n",
            "| ID | GPU | MEM |\n",
            "------------------\n",
            "|  0 | 14% |  8% |\n"
          ],
          "name": "stdout"
        },
        {
          "output_type": "stream",
          "text": [
            "[Errno 99] Cannot assign requested address\n",
            "[Errno 99] Cannot assign requested address\n",
            "[Errno 99] Cannot assign requested address\n",
            "[Errno 99] Cannot assign requested address\n",
            "[Errno 99] Cannot assign requested address\n"
          ],
          "name": "stderr"
        },
        {
          "output_type": "stream",
          "text": [
            "here2\n",
            "Epoch:  48\n",
            "| ID | GPU | MEM |\n",
            "------------------\n",
            "|  0 | 14% |  8% |\n"
          ],
          "name": "stdout"
        },
        {
          "output_type": "stream",
          "text": [
            "[Errno 99] Cannot assign requested address\n",
            "[Errno 99] Cannot assign requested address\n",
            "[Errno 99] Cannot assign requested address\n",
            "[Errno 99] Cannot assign requested address\n",
            "[Errno 99] Cannot assign requested address\n",
            "[Errno 99] Cannot assign requested address\n",
            "[Errno 99] Cannot assign requested address\n",
            "[Errno 99] Cannot assign requested address\n"
          ],
          "name": "stderr"
        },
        {
          "output_type": "stream",
          "text": [
            "here2\n",
            "Epoch:  49\n",
            "| ID | GPU | MEM |\n",
            "------------------\n",
            "|  0 | 11% |  8% |\n"
          ],
          "name": "stdout"
        },
        {
          "output_type": "stream",
          "text": [
            "[Errno 99] Cannot assign requested address\n",
            "[Errno 99] Cannot assign requested address\n",
            "[Errno 99] Cannot assign requested address\n",
            "[Errno 99] Cannot assign requested address\n",
            "[Errno 99] Cannot assign requested address\n",
            "[Errno 99] Cannot assign requested address\n",
            "[Errno 99] Cannot assign requested address\n",
            "[Errno 99] Cannot assign requested address\n"
          ],
          "name": "stderr"
        },
        {
          "output_type": "stream",
          "text": [
            "Edge_dropout:  0.0\n",
            "Penalty_coefficient:  4.0\n",
            "here2\n",
            "Epoch:  50\n",
            "| ID | GPU | MEM |\n",
            "------------------\n",
            "|  0 | 15% |  8% |\n"
          ],
          "name": "stdout"
        },
        {
          "output_type": "stream",
          "text": [
            "[Errno 99] Cannot assign requested address\n",
            "[Errno 99] Cannot assign requested address\n",
            "[Errno 99] Cannot assign requested address\n",
            "[Errno 99] Cannot assign requested address\n",
            "[Errno 99] Cannot assign requested address\n",
            "[Errno 99] Cannot assign requested address\n",
            "[Errno 99] Cannot assign requested address\n"
          ],
          "name": "stderr"
        },
        {
          "output_type": "stream",
          "text": [
            "here2\n",
            "Epoch:  51\n",
            "| ID | GPU | MEM |\n",
            "------------------\n",
            "|  0 | 13% |  8% |\n"
          ],
          "name": "stdout"
        },
        {
          "output_type": "stream",
          "text": [
            "[Errno 99] Cannot assign requested address\n",
            "[Errno 99] Cannot assign requested address\n",
            "[Errno 99] Cannot assign requested address\n",
            "[Errno 99] Cannot assign requested address\n",
            "[Errno 99] Cannot assign requested address\n",
            "[Errno 99] Cannot assign requested address\n"
          ],
          "name": "stderr"
        },
        {
          "output_type": "stream",
          "text": [
            "here2\n",
            "Epoch:  52\n",
            "| ID | GPU | MEM |\n",
            "------------------\n",
            "|  0 | 18% |  8% |\n"
          ],
          "name": "stdout"
        },
        {
          "output_type": "stream",
          "text": [
            "[Errno 99] Cannot assign requested address\n",
            "[Errno 99] Cannot assign requested address\n",
            "[Errno 99] Cannot assign requested address\n",
            "[Errno 99] Cannot assign requested address\n",
            "[Errno 99] Cannot assign requested address\n",
            "[Errno 99] Cannot assign requested address\n"
          ],
          "name": "stderr"
        },
        {
          "output_type": "stream",
          "text": [
            "here2\n",
            "Epoch:  53\n",
            "| ID | GPU | MEM |\n",
            "------------------\n",
            "|  0 | 14% |  8% |\n"
          ],
          "name": "stdout"
        },
        {
          "output_type": "stream",
          "text": [
            "[Errno 99] Cannot assign requested address\n",
            "[Errno 99] Cannot assign requested address\n",
            "[Errno 99] Cannot assign requested address\n",
            "[Errno 99] Cannot assign requested address\n",
            "[Errno 99] Cannot assign requested address\n",
            "[Errno 99] Cannot assign requested address\n",
            "[Errno 99] Cannot assign requested address\n",
            "[Errno 99] Cannot assign requested address\n"
          ],
          "name": "stderr"
        },
        {
          "output_type": "stream",
          "text": [
            "here2\n",
            "Epoch:  54\n",
            "| ID | GPU | MEM |\n",
            "------------------\n",
            "|  0 | 16% |  8% |\n"
          ],
          "name": "stdout"
        },
        {
          "output_type": "stream",
          "text": [
            "[Errno 99] Cannot assign requested address\n",
            "[Errno 99] Cannot assign requested address\n",
            "[Errno 99] Cannot assign requested address\n",
            "[Errno 99] Cannot assign requested address\n",
            "[Errno 99] Cannot assign requested address\n",
            "[Errno 99] Cannot assign requested address\n",
            "[Errno 99] Cannot assign requested address\n",
            "[Errno 99] Cannot assign requested address\n"
          ],
          "name": "stderr"
        },
        {
          "output_type": "stream",
          "text": [
            "Edge_dropout:  0.0\n",
            "here2\n",
            "Epoch:  55\n",
            "| ID | GPU | MEM |\n",
            "------------------\n",
            "|  0 | 15% |  8% |\n"
          ],
          "name": "stdout"
        },
        {
          "output_type": "stream",
          "text": [
            "[Errno 99] Cannot assign requested address\n",
            "[Errno 99] Cannot assign requested address\n",
            "[Errno 99] Cannot assign requested address\n",
            "[Errno 99] Cannot assign requested address\n",
            "[Errno 99] Cannot assign requested address\n"
          ],
          "name": "stderr"
        },
        {
          "output_type": "stream",
          "text": [
            "here2\n",
            "Epoch:  56\n",
            "| ID | GPU | MEM |\n",
            "------------------\n",
            "|  0 | 17% |  8% |\n"
          ],
          "name": "stdout"
        },
        {
          "output_type": "stream",
          "text": [
            "[Errno 99] Cannot assign requested address\n",
            "[Errno 99] Cannot assign requested address\n",
            "[Errno 99] Cannot assign requested address\n",
            "[Errno 99] Cannot assign requested address\n",
            "[Errno 99] Cannot assign requested address\n",
            "[Errno 99] Cannot assign requested address\n",
            "[Errno 99] Cannot assign requested address\n",
            "[Errno 99] Cannot assign requested address\n"
          ],
          "name": "stderr"
        },
        {
          "output_type": "stream",
          "text": [
            "here2\n",
            "Epoch:  57\n",
            "| ID | GPU | MEM |\n",
            "------------------\n",
            "|  0 | 16% |  8% |\n"
          ],
          "name": "stdout"
        },
        {
          "output_type": "stream",
          "text": [
            "[Errno 99] Cannot assign requested address\n",
            "[Errno 99] Cannot assign requested address\n",
            "[Errno 99] Cannot assign requested address\n",
            "[Errno 99] Cannot assign requested address\n",
            "[Errno 99] Cannot assign requested address\n",
            "[Errno 99] Cannot assign requested address\n",
            "[Errno 99] Cannot assign requested address\n"
          ],
          "name": "stderr"
        },
        {
          "output_type": "stream",
          "text": [
            "here2\n",
            "Epoch:  58\n",
            "| ID | GPU | MEM |\n",
            "------------------\n",
            "|  0 | 16% |  8% |\n"
          ],
          "name": "stdout"
        },
        {
          "output_type": "stream",
          "text": [
            "[Errno 99] Cannot assign requested address\n",
            "[Errno 99] Cannot assign requested address\n",
            "[Errno 99] Cannot assign requested address\n",
            "[Errno 99] Cannot assign requested address\n",
            "[Errno 99] Cannot assign requested address\n",
            "[Errno 99] Cannot assign requested address\n"
          ],
          "name": "stderr"
        },
        {
          "output_type": "stream",
          "text": [
            "here2\n",
            "Epoch:  59\n",
            "| ID | GPU | MEM |\n",
            "------------------\n",
            "|  0 | 18% |  8% |\n"
          ],
          "name": "stdout"
        },
        {
          "output_type": "stream",
          "text": [
            "[Errno 99] Cannot assign requested address\n",
            "[Errno 99] Cannot assign requested address\n",
            "[Errno 99] Cannot assign requested address\n",
            "[Errno 99] Cannot assign requested address\n",
            "[Errno 99] Cannot assign requested address\n",
            "[Errno 99] Cannot assign requested address\n"
          ],
          "name": "stderr"
        },
        {
          "output_type": "stream",
          "text": [
            "Edge_dropout:  0.0\n",
            "Penalty_coefficient:  4.0\n",
            "here2\n",
            "Epoch:  60\n",
            "| ID | GPU | MEM |\n",
            "------------------\n",
            "|  0 | 15% |  8% |\n"
          ],
          "name": "stdout"
        },
        {
          "output_type": "stream",
          "text": [
            "[Errno 99] Cannot assign requested address\n",
            "[Errno 99] Cannot assign requested address\n",
            "[Errno 99] Cannot assign requested address\n",
            "[Errno 99] Cannot assign requested address\n",
            "[Errno 99] Cannot assign requested address\n",
            "[Errno 99] Cannot assign requested address\n",
            "[Errno 99] Cannot assign requested address\n",
            "[Errno 99] Cannot assign requested address\n"
          ],
          "name": "stderr"
        },
        {
          "output_type": "stream",
          "text": [
            "here2\n",
            "Epoch:  61\n",
            "| ID | GPU | MEM |\n",
            "------------------\n",
            "|  0 | 17% |  8% |\n"
          ],
          "name": "stdout"
        },
        {
          "output_type": "stream",
          "text": [
            "[Errno 99] Cannot assign requested address\n",
            "[Errno 99] Cannot assign requested address\n",
            "[Errno 99] Cannot assign requested address\n",
            "[Errno 99] Cannot assign requested address\n",
            "[Errno 99] Cannot assign requested address\n"
          ],
          "name": "stderr"
        },
        {
          "output_type": "stream",
          "text": [
            "here2\n",
            "Epoch:  62\n",
            "| ID | GPU | MEM |\n",
            "------------------\n",
            "|  0 | 16% |  8% |\n"
          ],
          "name": "stdout"
        },
        {
          "output_type": "stream",
          "text": [
            "[Errno 99] Cannot assign requested address\n",
            "[Errno 99] Cannot assign requested address\n",
            "[Errno 99] Cannot assign requested address\n",
            "[Errno 99] Cannot assign requested address\n",
            "[Errno 99] Cannot assign requested address\n",
            "[Errno 99] Cannot assign requested address\n",
            "[Errno 99] Cannot assign requested address\n",
            "[Errno 99] Cannot assign requested address\n"
          ],
          "name": "stderr"
        },
        {
          "output_type": "stream",
          "text": [
            "here2\n",
            "Epoch:  63\n",
            "| ID | GPU | MEM |\n",
            "------------------\n",
            "|  0 | 19% |  8% |\n"
          ],
          "name": "stdout"
        },
        {
          "output_type": "stream",
          "text": [
            "[Errno 99] Cannot assign requested address\n",
            "[Errno 99] Cannot assign requested address\n",
            "[Errno 99] Cannot assign requested address\n",
            "[Errno 99] Cannot assign requested address\n",
            "[Errno 99] Cannot assign requested address\n",
            "[Errno 99] Cannot assign requested address\n",
            "[Errno 99] Cannot assign requested address\n"
          ],
          "name": "stderr"
        },
        {
          "output_type": "stream",
          "text": [
            "here2\n",
            "Epoch:  64\n",
            "| ID | GPU | MEM |\n",
            "------------------\n",
            "|  0 | 12% |  8% |\n"
          ],
          "name": "stdout"
        },
        {
          "output_type": "stream",
          "text": [
            "[Errno 99] Cannot assign requested address\n",
            "[Errno 99] Cannot assign requested address\n",
            "[Errno 99] Cannot assign requested address\n",
            "[Errno 99] Cannot assign requested address\n",
            "[Errno 99] Cannot assign requested address\n",
            "[Errno 99] Cannot assign requested address\n"
          ],
          "name": "stderr"
        },
        {
          "output_type": "stream",
          "text": [
            "Edge_dropout:  0.0\n",
            "here2\n",
            "Epoch:  65\n",
            "| ID | GPU | MEM |\n",
            "------------------\n",
            "|  0 | 16% |  8% |\n"
          ],
          "name": "stdout"
        },
        {
          "output_type": "stream",
          "text": [
            "[Errno 99] Cannot assign requested address\n",
            "[Errno 99] Cannot assign requested address\n",
            "[Errno 99] Cannot assign requested address\n",
            "[Errno 99] Cannot assign requested address\n",
            "[Errno 99] Cannot assign requested address\n",
            "[Errno 99] Cannot assign requested address\n"
          ],
          "name": "stderr"
        },
        {
          "output_type": "stream",
          "text": [
            "here2\n",
            "Epoch:  66\n",
            "| ID | GPU | MEM |\n",
            "------------------\n",
            "|  0 | 17% |  8% |\n"
          ],
          "name": "stdout"
        },
        {
          "output_type": "stream",
          "text": [
            "[Errno 99] Cannot assign requested address\n",
            "[Errno 99] Cannot assign requested address\n",
            "[Errno 99] Cannot assign requested address\n",
            "[Errno 99] Cannot assign requested address\n",
            "[Errno 99] Cannot assign requested address\n",
            "[Errno 99] Cannot assign requested address\n",
            "[Errno 99] Cannot assign requested address\n",
            "[Errno 99] Cannot assign requested address\n"
          ],
          "name": "stderr"
        },
        {
          "output_type": "stream",
          "text": [
            "here2\n",
            "Epoch:  67\n",
            "| ID | GPU | MEM |\n",
            "------------------\n",
            "|  0 | 14% |  8% |\n"
          ],
          "name": "stdout"
        },
        {
          "output_type": "stream",
          "text": [
            "[Errno 99] Cannot assign requested address\n",
            "[Errno 99] Cannot assign requested address\n",
            "[Errno 99] Cannot assign requested address\n",
            "[Errno 99] Cannot assign requested address\n",
            "[Errno 99] Cannot assign requested address\n",
            "[Errno 99] Cannot assign requested address\n",
            "[Errno 99] Cannot assign requested address\n",
            "[Errno 99] Cannot assign requested address\n"
          ],
          "name": "stderr"
        },
        {
          "output_type": "stream",
          "text": [
            "here2\n",
            "Epoch:  68\n",
            "| ID | GPU | MEM |\n",
            "------------------\n",
            "|  0 | 17% |  8% |\n"
          ],
          "name": "stdout"
        },
        {
          "output_type": "stream",
          "text": [
            "[Errno 99] Cannot assign requested address\n",
            "[Errno 99] Cannot assign requested address\n",
            "[Errno 99] Cannot assign requested address\n",
            "[Errno 99] Cannot assign requested address\n",
            "[Errno 99] Cannot assign requested address\n"
          ],
          "name": "stderr"
        },
        {
          "output_type": "stream",
          "text": [
            "here2\n",
            "Epoch:  69\n",
            "| ID | GPU | MEM |\n",
            "------------------\n",
            "|  0 | 15% |  8% |\n"
          ],
          "name": "stdout"
        },
        {
          "output_type": "stream",
          "text": [
            "[Errno 99] Cannot assign requested address\n",
            "[Errno 99] Cannot assign requested address\n",
            "[Errno 99] Cannot assign requested address\n",
            "[Errno 99] Cannot assign requested address\n",
            "[Errno 99] Cannot assign requested address\n",
            "[Errno 99] Cannot assign requested address\n",
            "[Errno 99] Cannot assign requested address\n",
            "[Errno 99] Cannot assign requested address\n"
          ],
          "name": "stderr"
        },
        {
          "output_type": "stream",
          "text": [
            "Edge_dropout:  0.0\n",
            "Penalty_coefficient:  4.0\n",
            "here2\n",
            "Epoch:  70\n",
            "| ID | GPU | MEM |\n",
            "------------------\n",
            "|  0 | 19% |  8% |\n"
          ],
          "name": "stdout"
        },
        {
          "output_type": "stream",
          "text": [
            "[Errno 99] Cannot assign requested address\n",
            "[Errno 99] Cannot assign requested address\n",
            "[Errno 99] Cannot assign requested address\n",
            "[Errno 99] Cannot assign requested address\n",
            "[Errno 99] Cannot assign requested address\n",
            "[Errno 99] Cannot assign requested address\n",
            "[Errno 99] Cannot assign requested address\n"
          ],
          "name": "stderr"
        },
        {
          "output_type": "stream",
          "text": [
            "here2\n",
            "Epoch:  71\n",
            "| ID | GPU | MEM |\n",
            "------------------\n",
            "|  0 | 17% |  8% |\n"
          ],
          "name": "stdout"
        },
        {
          "output_type": "stream",
          "text": [
            "[Errno 99] Cannot assign requested address\n",
            "[Errno 99] Cannot assign requested address\n",
            "[Errno 99] Cannot assign requested address\n",
            "[Errno 99] Cannot assign requested address\n",
            "[Errno 99] Cannot assign requested address\n",
            "[Errno 99] Cannot assign requested address\n"
          ],
          "name": "stderr"
        },
        {
          "output_type": "stream",
          "text": [
            "here2\n",
            "Epoch:  72\n",
            "| ID | GPU | MEM |\n",
            "------------------\n",
            "|  0 | 15% |  8% |\n"
          ],
          "name": "stdout"
        },
        {
          "output_type": "stream",
          "text": [
            "[Errno 99] Cannot assign requested address\n",
            "[Errno 99] Cannot assign requested address\n",
            "[Errno 99] Cannot assign requested address\n",
            "[Errno 99] Cannot assign requested address\n",
            "[Errno 99] Cannot assign requested address\n",
            "[Errno 99] Cannot assign requested address\n"
          ],
          "name": "stderr"
        },
        {
          "output_type": "stream",
          "text": [
            "here2\n",
            "Epoch:  73\n",
            "| ID | GPU | MEM |\n",
            "------------------\n",
            "|  0 | 15% |  8% |\n"
          ],
          "name": "stdout"
        },
        {
          "output_type": "stream",
          "text": [
            "[Errno 99] Cannot assign requested address\n",
            "[Errno 99] Cannot assign requested address\n",
            "[Errno 99] Cannot assign requested address\n",
            "[Errno 99] Cannot assign requested address\n",
            "[Errno 99] Cannot assign requested address\n",
            "[Errno 99] Cannot assign requested address\n",
            "[Errno 99] Cannot assign requested address\n",
            "[Errno 99] Cannot assign requested address\n"
          ],
          "name": "stderr"
        },
        {
          "output_type": "stream",
          "text": [
            "here2\n",
            "Epoch:  74\n",
            "| ID | GPU | MEM |\n",
            "------------------\n",
            "|  0 | 16% |  8% |\n"
          ],
          "name": "stdout"
        },
        {
          "output_type": "stream",
          "text": [
            "[Errno 99] Cannot assign requested address\n",
            "[Errno 99] Cannot assign requested address\n",
            "[Errno 99] Cannot assign requested address\n",
            "[Errno 99] Cannot assign requested address\n",
            "[Errno 99] Cannot assign requested address\n"
          ],
          "name": "stderr"
        },
        {
          "output_type": "stream",
          "text": [
            "Edge_dropout:  0.0\n",
            "here2\n",
            "Epoch:  75\n",
            "| ID | GPU | MEM |\n",
            "------------------\n",
            "|  0 | 12% |  8% |\n"
          ],
          "name": "stdout"
        },
        {
          "output_type": "stream",
          "text": [
            "[Errno 99] Cannot assign requested address\n",
            "[Errno 99] Cannot assign requested address\n",
            "[Errno 99] Cannot assign requested address\n",
            "[Errno 99] Cannot assign requested address\n",
            "[Errno 99] Cannot assign requested address\n",
            "[Errno 99] Cannot assign requested address\n",
            "[Errno 99] Cannot assign requested address\n",
            "[Errno 99] Cannot assign requested address\n"
          ],
          "name": "stderr"
        },
        {
          "output_type": "stream",
          "text": [
            "here2\n",
            "Epoch:  76\n",
            "| ID | GPU | MEM |\n",
            "------------------\n",
            "|  0 | 18% |  8% |\n"
          ],
          "name": "stdout"
        },
        {
          "output_type": "stream",
          "text": [
            "[Errno 99] Cannot assign requested address\n",
            "[Errno 99] Cannot assign requested address\n",
            "[Errno 99] Cannot assign requested address\n",
            "[Errno 99] Cannot assign requested address\n",
            "[Errno 99] Cannot assign requested address\n",
            "[Errno 99] Cannot assign requested address\n",
            "[Errno 99] Cannot assign requested address\n",
            "[Errno 99] Cannot assign requested address\n"
          ],
          "name": "stderr"
        },
        {
          "output_type": "stream",
          "text": [
            "here2\n",
            "Epoch:  77\n",
            "| ID | GPU | MEM |\n",
            "------------------\n",
            "|  0 | 17% |  8% |\n"
          ],
          "name": "stdout"
        },
        {
          "output_type": "stream",
          "text": [
            "[Errno 99] Cannot assign requested address\n",
            "[Errno 99] Cannot assign requested address\n",
            "[Errno 99] Cannot assign requested address\n",
            "[Errno 99] Cannot assign requested address\n",
            "[Errno 99] Cannot assign requested address\n"
          ],
          "name": "stderr"
        },
        {
          "output_type": "stream",
          "text": [
            "here2\n",
            "Epoch:  78\n",
            "| ID | GPU | MEM |\n",
            "------------------\n",
            "|  0 | 15% |  8% |\n"
          ],
          "name": "stdout"
        },
        {
          "output_type": "stream",
          "text": [
            "[Errno 99] Cannot assign requested address\n",
            "[Errno 99] Cannot assign requested address\n",
            "[Errno 99] Cannot assign requested address\n",
            "[Errno 99] Cannot assign requested address\n",
            "[Errno 99] Cannot assign requested address\n",
            "[Errno 99] Cannot assign requested address\n",
            "[Errno 99] Cannot assign requested address\n",
            "[Errno 99] Cannot assign requested address\n"
          ],
          "name": "stderr"
        },
        {
          "output_type": "stream",
          "text": [
            "here2\n",
            "Epoch:  79\n",
            "| ID | GPU | MEM |\n",
            "------------------\n",
            "|  0 | 17% |  8% |\n"
          ],
          "name": "stdout"
        },
        {
          "output_type": "stream",
          "text": [
            "[Errno 99] Cannot assign requested address\n",
            "[Errno 99] Cannot assign requested address\n",
            "[Errno 99] Cannot assign requested address\n",
            "[Errno 99] Cannot assign requested address\n",
            "[Errno 99] Cannot assign requested address\n",
            "[Errno 99] Cannot assign requested address\n"
          ],
          "name": "stderr"
        },
        {
          "output_type": "stream",
          "text": [
            "Edge_dropout:  0.0\n",
            "Penalty_coefficient:  4.0\n",
            "here2\n",
            "Epoch:  80\n",
            "| ID | GPU | MEM |\n",
            "------------------\n",
            "|  0 | 15% |  8% |\n"
          ],
          "name": "stdout"
        },
        {
          "output_type": "stream",
          "text": [
            "[Errno 99] Cannot assign requested address\n",
            "[Errno 99] Cannot assign requested address\n",
            "[Errno 99] Cannot assign requested address\n",
            "[Errno 99] Cannot assign requested address\n",
            "[Errno 99] Cannot assign requested address\n",
            "[Errno 99] Cannot assign requested address\n",
            "[Errno 99] Cannot assign requested address\n",
            "[Errno 99] Cannot assign requested address\n"
          ],
          "name": "stderr"
        },
        {
          "output_type": "stream",
          "text": [
            "here2\n",
            "Epoch:  81\n",
            "| ID | GPU | MEM |\n",
            "------------------\n",
            "|  0 | 17% |  8% |\n"
          ],
          "name": "stdout"
        },
        {
          "output_type": "stream",
          "text": [
            "[Errno 99] Cannot assign requested address\n",
            "[Errno 99] Cannot assign requested address\n",
            "[Errno 99] Cannot assign requested address\n",
            "[Errno 99] Cannot assign requested address\n",
            "[Errno 99] Cannot assign requested address\n"
          ],
          "name": "stderr"
        },
        {
          "output_type": "stream",
          "text": [
            "here2\n",
            "Epoch:  82\n",
            "| ID | GPU | MEM |\n",
            "------------------\n",
            "|  0 | 16% |  8% |\n"
          ],
          "name": "stdout"
        },
        {
          "output_type": "stream",
          "text": [
            "[Errno 99] Cannot assign requested address\n",
            "[Errno 99] Cannot assign requested address\n",
            "[Errno 99] Cannot assign requested address\n",
            "[Errno 99] Cannot assign requested address\n",
            "[Errno 99] Cannot assign requested address\n",
            "[Errno 99] Cannot assign requested address\n",
            "[Errno 99] Cannot assign requested address\n",
            "[Errno 99] Cannot assign requested address\n"
          ],
          "name": "stderr"
        },
        {
          "output_type": "stream",
          "text": [
            "here2\n",
            "Epoch:  83\n",
            "| ID | GPU | MEM |\n",
            "------------------\n",
            "|  0 | 18% |  8% |\n"
          ],
          "name": "stdout"
        },
        {
          "output_type": "stream",
          "text": [
            "[Errno 99] Cannot assign requested address\n",
            "[Errno 99] Cannot assign requested address\n",
            "[Errno 99] Cannot assign requested address\n",
            "[Errno 99] Cannot assign requested address\n",
            "[Errno 99] Cannot assign requested address\n",
            "[Errno 99] Cannot assign requested address\n",
            "[Errno 99] Cannot assign requested address\n"
          ],
          "name": "stderr"
        },
        {
          "output_type": "stream",
          "text": [
            "here2\n",
            "Epoch:  84\n",
            "| ID | GPU | MEM |\n",
            "------------------\n",
            "|  0 | 17% |  8% |\n"
          ],
          "name": "stdout"
        },
        {
          "output_type": "stream",
          "text": [
            "[Errno 99] Cannot assign requested address\n",
            "[Errno 99] Cannot assign requested address\n",
            "[Errno 99] Cannot assign requested address\n",
            "[Errno 99] Cannot assign requested address\n",
            "[Errno 99] Cannot assign requested address\n",
            "[Errno 99] Cannot assign requested address\n"
          ],
          "name": "stderr"
        },
        {
          "output_type": "stream",
          "text": [
            "Edge_dropout:  0.0\n",
            "here2\n",
            "Epoch:  85\n",
            "| ID | GPU | MEM |\n",
            "------------------\n",
            "|  0 | 13% |  8% |\n"
          ],
          "name": "stdout"
        },
        {
          "output_type": "stream",
          "text": [
            "[Errno 99] Cannot assign requested address\n",
            "[Errno 99] Cannot assign requested address\n",
            "[Errno 99] Cannot assign requested address\n",
            "[Errno 99] Cannot assign requested address\n",
            "[Errno 99] Cannot assign requested address\n",
            "[Errno 99] Cannot assign requested address\n"
          ],
          "name": "stderr"
        },
        {
          "output_type": "stream",
          "text": [
            "here2\n",
            "Epoch:  86\n",
            "| ID | GPU | MEM |\n",
            "------------------\n",
            "|  0 | 15% |  8% |\n"
          ],
          "name": "stdout"
        },
        {
          "output_type": "stream",
          "text": [
            "[Errno 99] Cannot assign requested address\n",
            "[Errno 99] Cannot assign requested address\n",
            "[Errno 99] Cannot assign requested address\n",
            "[Errno 99] Cannot assign requested address\n",
            "[Errno 99] Cannot assign requested address\n",
            "[Errno 99] Cannot assign requested address\n",
            "[Errno 99] Cannot assign requested address\n",
            "[Errno 99] Cannot assign requested address\n"
          ],
          "name": "stderr"
        },
        {
          "output_type": "stream",
          "text": [
            "here2\n",
            "Epoch:  87\n",
            "| ID | GPU | MEM |\n",
            "------------------\n",
            "|  0 | 15% |  8% |\n"
          ],
          "name": "stdout"
        },
        {
          "output_type": "stream",
          "text": [
            "[Errno 99] Cannot assign requested address\n",
            "[Errno 99] Cannot assign requested address\n",
            "[Errno 99] Cannot assign requested address\n",
            "[Errno 99] Cannot assign requested address\n",
            "[Errno 99] Cannot assign requested address\n",
            "[Errno 99] Cannot assign requested address\n",
            "[Errno 99] Cannot assign requested address\n",
            "[Errno 99] Cannot assign requested address\n"
          ],
          "name": "stderr"
        },
        {
          "output_type": "stream",
          "text": [
            "here2\n",
            "Epoch:  88\n",
            "| ID | GPU | MEM |\n",
            "------------------\n",
            "|  0 | 12% |  8% |\n"
          ],
          "name": "stdout"
        },
        {
          "output_type": "stream",
          "text": [
            "[Errno 99] Cannot assign requested address\n",
            "[Errno 99] Cannot assign requested address\n",
            "[Errno 99] Cannot assign requested address\n",
            "[Errno 99] Cannot assign requested address\n",
            "[Errno 99] Cannot assign requested address\n"
          ],
          "name": "stderr"
        },
        {
          "output_type": "stream",
          "text": [
            "here2\n",
            "Epoch:  89\n",
            "| ID | GPU | MEM |\n",
            "------------------\n",
            "|  0 | 14% |  8% |\n"
          ],
          "name": "stdout"
        },
        {
          "output_type": "stream",
          "text": [
            "[Errno 99] Cannot assign requested address\n",
            "[Errno 99] Cannot assign requested address\n",
            "[Errno 99] Cannot assign requested address\n",
            "[Errno 99] Cannot assign requested address\n",
            "[Errno 99] Cannot assign requested address\n",
            "[Errno 99] Cannot assign requested address\n",
            "[Errno 99] Cannot assign requested address\n",
            "[Errno 99] Cannot assign requested address\n"
          ],
          "name": "stderr"
        },
        {
          "output_type": "stream",
          "text": [
            "Edge_dropout:  0.0\n",
            "Penalty_coefficient:  4.0\n",
            "here2\n",
            "Epoch:  90\n",
            "| ID | GPU | MEM |\n",
            "------------------\n",
            "|  0 | 17% |  8% |\n"
          ],
          "name": "stdout"
        },
        {
          "output_type": "stream",
          "text": [
            "[Errno 99] Cannot assign requested address\n",
            "[Errno 99] Cannot assign requested address\n",
            "[Errno 99] Cannot assign requested address\n",
            "[Errno 99] Cannot assign requested address\n",
            "[Errno 99] Cannot assign requested address\n"
          ],
          "name": "stderr"
        },
        {
          "output_type": "stream",
          "text": [
            "here2\n",
            "Epoch:  91\n",
            "| ID | GPU | MEM |\n",
            "------------------\n",
            "|  0 | 13% |  8% |\n"
          ],
          "name": "stdout"
        },
        {
          "output_type": "stream",
          "text": [
            "[Errno 99] Cannot assign requested address\n",
            "[Errno 99] Cannot assign requested address\n",
            "[Errno 99] Cannot assign requested address\n",
            "[Errno 99] Cannot assign requested address\n",
            "[Errno 99] Cannot assign requested address\n",
            "[Errno 99] Cannot assign requested address\n"
          ],
          "name": "stderr"
        },
        {
          "output_type": "stream",
          "text": [
            "here2\n",
            "Epoch:  92\n",
            "| ID | GPU | MEM |\n",
            "------------------\n",
            "|  0 | 16% |  8% |\n"
          ],
          "name": "stdout"
        },
        {
          "output_type": "stream",
          "text": [
            "[Errno 99] Cannot assign requested address\n",
            "[Errno 99] Cannot assign requested address\n",
            "[Errno 99] Cannot assign requested address\n",
            "[Errno 99] Cannot assign requested address\n",
            "[Errno 99] Cannot assign requested address\n",
            "[Errno 99] Cannot assign requested address\n",
            "[Errno 99] Cannot assign requested address\n",
            "[Errno 99] Cannot assign requested address\n"
          ],
          "name": "stderr"
        },
        {
          "output_type": "stream",
          "text": [
            "here2\n",
            "Epoch:  93\n",
            "| ID | GPU | MEM |\n",
            "------------------\n",
            "|  0 | 11% |  8% |\n"
          ],
          "name": "stdout"
        },
        {
          "output_type": "stream",
          "text": [
            "[Errno 99] Cannot assign requested address\n",
            "[Errno 99] Cannot assign requested address\n",
            "[Errno 99] Cannot assign requested address\n",
            "[Errno 99] Cannot assign requested address\n",
            "[Errno 99] Cannot assign requested address\n"
          ],
          "name": "stderr"
        },
        {
          "output_type": "stream",
          "text": [
            "here2\n",
            "Epoch:  94\n",
            "| ID | GPU | MEM |\n",
            "------------------\n",
            "|  0 | 14% |  8% |\n"
          ],
          "name": "stdout"
        },
        {
          "output_type": "stream",
          "text": [
            "[Errno 99] Cannot assign requested address\n",
            "[Errno 99] Cannot assign requested address\n",
            "[Errno 99] Cannot assign requested address\n",
            "[Errno 99] Cannot assign requested address\n",
            "[Errno 99] Cannot assign requested address\n",
            "[Errno 99] Cannot assign requested address\n",
            "[Errno 99] Cannot assign requested address\n",
            "[Errno 99] Cannot assign requested address\n"
          ],
          "name": "stderr"
        },
        {
          "output_type": "stream",
          "text": [
            "Edge_dropout:  0.0\n",
            "here2\n",
            "Epoch:  95\n",
            "| ID | GPU | MEM |\n",
            "------------------\n",
            "|  0 | 17% |  8% |\n"
          ],
          "name": "stdout"
        },
        {
          "output_type": "stream",
          "text": [
            "[Errno 99] Cannot assign requested address\n",
            "[Errno 99] Cannot assign requested address\n",
            "[Errno 99] Cannot assign requested address\n",
            "[Errno 99] Cannot assign requested address\n",
            "[Errno 99] Cannot assign requested address\n",
            "[Errno 99] Cannot assign requested address\n",
            "[Errno 99] Cannot assign requested address\n"
          ],
          "name": "stderr"
        },
        {
          "output_type": "stream",
          "text": [
            "here2\n",
            "Epoch:  96\n",
            "| ID | GPU | MEM |\n",
            "------------------\n",
            "|  0 | 17% |  8% |\n"
          ],
          "name": "stdout"
        },
        {
          "output_type": "stream",
          "text": [
            "[Errno 99] Cannot assign requested address\n",
            "[Errno 99] Cannot assign requested address\n",
            "[Errno 99] Cannot assign requested address\n",
            "[Errno 99] Cannot assign requested address\n",
            "[Errno 99] Cannot assign requested address\n",
            "[Errno 99] Cannot assign requested address\n"
          ],
          "name": "stderr"
        },
        {
          "output_type": "stream",
          "text": [
            "here2\n",
            "Epoch:  97\n",
            "| ID | GPU | MEM |\n",
            "------------------\n",
            "|  0 | 16% |  8% |\n"
          ],
          "name": "stdout"
        },
        {
          "output_type": "stream",
          "text": [
            "[Errno 99] Cannot assign requested address\n",
            "[Errno 99] Cannot assign requested address\n",
            "[Errno 99] Cannot assign requested address\n",
            "[Errno 99] Cannot assign requested address\n",
            "[Errno 99] Cannot assign requested address\n",
            "[Errno 99] Cannot assign requested address\n"
          ],
          "name": "stderr"
        },
        {
          "output_type": "stream",
          "text": [
            "here2\n",
            "Epoch:  98\n",
            "| ID | GPU | MEM |\n",
            "------------------\n",
            "|  0 | 12% |  8% |\n"
          ],
          "name": "stdout"
        },
        {
          "output_type": "stream",
          "text": [
            "[Errno 99] Cannot assign requested address\n",
            "[Errno 99] Cannot assign requested address\n",
            "[Errno 99] Cannot assign requested address\n",
            "[Errno 99] Cannot assign requested address\n",
            "[Errno 99] Cannot assign requested address\n",
            "[Errno 99] Cannot assign requested address\n",
            "[Errno 99] Cannot assign requested address\n",
            "[Errno 99] Cannot assign requested address\n"
          ],
          "name": "stderr"
        },
        {
          "output_type": "stream",
          "text": [
            "here2\n",
            "Epoch:  99\n",
            "| ID | GPU | MEM |\n",
            "------------------\n",
            "|  0 | 18% |  8% |\n"
          ],
          "name": "stdout"
        },
        {
          "output_type": "stream",
          "text": [
            "[Errno 99] Cannot assign requested address\n",
            "[Errno 99] Cannot assign requested address\n",
            "[Errno 99] Cannot assign requested address\n",
            "[Errno 99] Cannot assign requested address\n",
            "[Errno 99] Cannot assign requested address\n"
          ],
          "name": "stderr"
        }
      ]
    },
    {
      "cell_type": "code",
      "metadata": {
        "id": "p7zT1jQaOz9S"
      },
      "source": [
        "def get_diracs_2(data, N , sparse = False, flat = False, replace = True, receptive_field = 7, effective_volume_range = 0.1, max_iterations=20):\r\n",
        "    device = torch.device('cpu' if torch.cuda.is_available() else 'cpu')\r\n",
        "\r\n",
        "    if not sparse:\r\n",
        "        graphcount =data.num_nodes #number of graphs in data/batch object\r\n",
        "        totalnodecount = data.x.shape[1] #number of total nodes for each graph \r\n",
        "        actualnodecount = 0 #cumulative number of nodes\r\n",
        "        diracmatrix= torch.zeros((graphcount,totalnodecount,N),device=device) #matrix with dirac pulses\r\n",
        "\r\n",
        "\r\n",
        "        for k in range(graphcount):\r\n",
        "            graph_nodes = data.mask[k].sum() #number of nodes in the graph\r\n",
        "            actualnodecount += graph_nodes #might not need this, we'll see\r\n",
        "            probabilities= torch.ones((graph_nodes.item(),1),device=device)/graph_nodes #uniform probs\r\n",
        "            node_distribution=OneHotCategorical(probs=probabilities.squeeze())\r\n",
        "            node_sample= node_distribution.sample(sample_shape=(N,))\r\n",
        "            node_sample= torch.cat((node_sample,torch.zeros((N,totalnodecount-node_sample.shape[1]),device=device)),-1) #concat zeros to fit dataset shape\r\n",
        "            diracmatrix[k,:]= torch.transpose(node_sample,dim0=-1,dim1=-2) #add everything to the final matrix\r\n",
        "            \r\n",
        "        return diracmatrix\r\n",
        "    \r\n",
        "    else:\r\n",
        "            if not is_undirected(data.edge_index):\r\n",
        "                data.edge_index = to_undirected(data.edge_index)\r\n",
        "                \r\n",
        "            original_batch_index = data.batch\r\n",
        "            original_edge_index = add_remaining_self_loops(data.edge_index, num_nodes = data.batch.shape[0])[0]\r\n",
        "            #original_edge_index, _, node_mask = remove_isolated_nodes(original_edge_index)\r\n",
        "            #batch_index = original_batch_index[node_mask]\r\n",
        "            batch_index = original_batch_index\r\n",
        "            \r\n",
        "            graphcount = data.num_graphs #number of graphs in data/batch object\r\n",
        "            diracmatrix = torch.zeros(0,device=device)\r\n",
        "            batch_prime = torch.zeros(0,device=device).long()\r\n",
        "            locationmatrix = torch.zeros(0,device=device).long()\r\n",
        "            \r\n",
        "            r,c = original_edge_index\r\n",
        "            \r\n",
        "            \r\n",
        "            global_offset = 0\r\n",
        "            all_nodecounts = scatter_(\"add\", torch.ones_like(batch_index,device='cpu'), batch_index)\r\n",
        "            recfield_vols = torch.zeros(graphcount,device=device)\r\n",
        "            total_vols = torch.zeros(graphcount,device=device)\r\n",
        "            \r\n",
        "\r\n",
        "            for k in range(graphcount):\r\n",
        "                #get edges of current graph, remember to subtract offset\r\n",
        "                graph_nodes = all_nodecounts[k]\r\n",
        "                if graph_nodes==0:\r\n",
        "                    print(\"all nodecounts: \", all_nodecounts)\r\n",
        "                graph_edges = (batch_index[r]==k)\r\n",
        "                graph_edge_index = original_edge_index[:,graph_edges]-global_offset           \r\n",
        "                gr, gc = graph_edge_index\r\n",
        "                \r\n",
        "#                 print(\"Gr: \", gr)\r\n",
        "#                 print(\"Graph edge index: \", graph_edge_index)\r\n",
        "#                 print(\"gr max: \", gr.max())\r\n",
        "                \r\n",
        "                \r\n",
        "                \r\n",
        "                #get dirac\r\n",
        "                randInt = np.random.choice(range(graph_nodes), N, replace = replace)\r\n",
        "                node_sample = torch.zeros(N*graph_nodes,device='cpu')\r\n",
        "                offs  = torch.arange(N, device=device)*graph_nodes\r\n",
        "                dirac_locations = (offs + torch.from_numpy(randInt).to(device))\r\n",
        "                node_sample[dirac_locations] = 1\r\n",
        "                \r\n",
        "                                \r\n",
        "                #calculate receptive field volume and compare to total volume\r\n",
        "                mask = get_mask(node_sample, graph_edge_index.detach(), receptive_field).float()\r\n",
        "\r\n",
        "                deg_graph = degree(gr, (graph_nodes.item()))\r\n",
        "                \r\n",
        "                \r\n",
        "                total_volume = deg_graph.sum()\r\n",
        "                recfield_volume = (mask*deg_graph).sum()\r\n",
        "                volume_range = recfield_volume/total_volume\r\n",
        "                total_vols[k] = total_volume\r\n",
        "                recfield_vols[k] = recfield_volume\r\n",
        "                \r\n",
        "                \r\n",
        "                #if receptive field volume is less than x% of total volume, resample\r\n",
        "                for iteration in range(max_iterations):  \r\n",
        "                    randInt = np.random.choice(range(graph_nodes), N, replace = replace)\r\n",
        "                    node_sample = torch.zeros(N*graph_nodes,device=device)\r\n",
        "                    offs  = torch.arange(N, device=device)*graph_nodes\r\n",
        "                    dirac_locations = (offs + torch.from_numpy(randInt).to(device))\r\n",
        "                    node_sample[dirac_locations] = 1\r\n",
        "                    \r\n",
        "                    mask = get_mask(node_sample, graph_edge_index, receptive_field).float()\r\n",
        "                    recfield_volume = (mask*deg_graph).sum()\r\n",
        "                    volume_range = recfield_volume/total_volume\r\n",
        "\r\n",
        "                    if volume_range > effective_volume_range:\r\n",
        "                        recfield_vols[k] = recfield_volume\r\n",
        "                        total_vols[k] = total_volume\r\n",
        "                        break;\r\n",
        "                \r\n",
        "                \r\n",
        "                dirac_locations2 = torch.from_numpy(randInt).to(device) + global_offset\r\n",
        "                global_offset += graph_nodes\r\n",
        "                \r\n",
        "                diracmatrix = torch.cat((diracmatrix, node_sample),0)\r\n",
        "                locationmatrix = torch.cat((locationmatrix, dirac_locations2),0)\r\n",
        "             \r\n",
        "                \r\n",
        "            \r\n",
        "                #for batch prime\r\n",
        "#                 dirac_indices = torch.arange(N, device=device).unsqueeze(-1).expand(-1, graph_nodes).contiguous().view(-1)\r\n",
        "#                 dirac_indices = dirac_indices.long()\r\n",
        "#                 dirac_indices += k*N\r\n",
        "#                 batch_prime = torch.cat((batch_prime, dirac_indices))\r\n",
        "\r\n",
        "\r\n",
        "\r\n",
        "            locationmatrix = diracmatrix.nonzero()\r\n",
        "\r\n",
        "\r\n",
        "            return Batch(batch = batch_index, x = diracmatrix, edge_index = original_edge_index,\r\n",
        "                         y = data.y, locations = locationmatrix, volume_range = volume_range, recfield_vol = recfield_vols, total_vol = total_vols)"
      ],
      "execution_count": 83,
      "outputs": []
    },
    {
      "cell_type": "code",
      "metadata": {
        "id": "8i1ATwFxeyEX"
      },
      "source": [
        "def derandomize_clique_final(data, probabilities, draw=False, weight_factor = 0.35, clique_number_bounds = None ,fig = None, device = 'cpu'):\r\n",
        "       \r\n",
        "    row, col = data.edge_index\r\n",
        "    sets = probabilities.detach().unsqueeze(-1)\r\n",
        "    batch = data.batch\r\n",
        "    \r\n",
        "    no_loop_index,_ = remove_self_loops(data.edge_index)        \r\n",
        "    no_loop_row, no_loop_col = no_loop_index\r\n",
        "    num_graphs = batch.max().item() + 1\r\n",
        "    \r\n",
        "    \r\n",
        "\r\n",
        "    total_index = 0\r\n",
        "\r\n",
        "    for graph in range(num_graphs):\r\n",
        "       #  print(\"NEW GRAPH-----------------------------------\")\r\n",
        "            #select subset of nodes and edges corresponding to graph\r\n",
        "        mark_edges = batch[no_loop_row] == graph\r\n",
        "        nlr_graph, nlc_graph = no_loop_index[:,mark_edges]\r\n",
        "        nlr_graph = nlr_graph - total_index\r\n",
        "        nlc_graph = nlc_graph - total_index\r\n",
        "        batch_graph = (batch==graph)\r\n",
        "        graph_probs = sets[batch_graph].detach()\r\n",
        "        sorted_inds = torch.argsort(graph_probs.squeeze(-1), descending=True)\r\n",
        "        \r\n",
        "         #print(batch_graph)\r\n",
        "        \r\n",
        "        pairwise_prodsums = torch.zeros(1, device = device)\r\n",
        "        pairwise_prodsums = (torch.conv1d(graph_probs.unsqueeze(-1), graph_probs.unsqueeze(-1))).sum()/2\r\n",
        "        \r\n",
        "        self_sums = (graph_probs*graph_probs).sum()\r\n",
        "\r\n",
        "\r\n",
        "            \r\n",
        "        num_nodes = batch_graph.float().sum().item()\r\n",
        "        \r\n",
        "        current_set_cardinality = 0\r\n",
        "        \r\n",
        "        for node in range(int(num_nodes)):\r\n",
        "        #while current_set_cardinality <= 0:\r\n",
        "            #print(\"Current node: \", node)\r\n",
        "            ind_i = total_index + sorted_inds[node]\r\n",
        "            graph_probs_0 = sets[batch_graph].detach()\r\n",
        "            graph_probs_1 = sets[batch_graph].detach()\r\n",
        "            \r\n",
        "            graph_probs_0[sorted_inds[node]] = 0\r\n",
        "            graph_probs_1[sorted_inds[node]] = 1\r\n",
        "\r\n",
        "            pairwise_prodsums_0 = torch.zeros(1, device = device)\r\n",
        "            pairwise_prodsums_0 = (torch.conv1d(graph_probs_0.unsqueeze(-1),graph_probs_0.unsqueeze(-1))).sum()/2\r\n",
        "\r\n",
        "            self_sums_0 = (graph_probs_0*graph_probs_0).sum()\r\n",
        "\r\n",
        "            expected_weight_G_0 = (graph_probs_0[nlr_graph]*graph_probs_0[nlc_graph]).sum()/2\r\n",
        "            expected_clique_weight_0 = (pairwise_prodsums_0 - self_sums_0)\r\n",
        "            clique_dist_0 = weight_factor*0.5*(expected_clique_weight_0 - expected_weight_G_0)-expected_weight_G_0\r\n",
        "\r\n",
        "\r\n",
        "            pairwise_prodsums_1 = torch.zeros(1, device = device)\r\n",
        "            pairwise_prodsums_1 = (torch.conv1d(graph_probs_1.unsqueeze(-1),graph_probs_1.unsqueeze(-1))).sum()/2\r\n",
        "\r\n",
        "            self_sums_1 = (graph_probs_1*graph_probs_1).sum()\r\n",
        "\r\n",
        "            expected_weight_G_1 = (graph_probs_1[nlr_graph]*graph_probs_1[nlc_graph]).sum()/2\r\n",
        "            expected_clique_weight_1 = (pairwise_prodsums_1 - self_sums_1)\r\n",
        "            clique_dist_1 = weight_factor* 0.5*(expected_clique_weight_1 - expected_weight_G_1)-expected_weight_G_1\r\n",
        "\r\n",
        "\r\n",
        "#              #CALCULATE NUMBER OF EDGES AND CONFIRM IF CLIQUE\r\n",
        "#             print(\"clique_dist_0: \", clique_dist_0)\r\n",
        "#             print(\"clique_dist_1: \", clique_dist_1)\r\n",
        "\r\n",
        "            if clique_dist_0 >= clique_dist_1: \r\n",
        "                decided = (graph_probs_1==1).float()\r\n",
        "                current_set_cardinality = decided.sum().item()\r\n",
        "                current_set_max_edges = (current_set_cardinality*(current_set_cardinality-1))/2\r\n",
        "                current_set_edges = (decided[nlr_graph]*decided[nlc_graph]).sum()/2\r\n",
        "\r\n",
        "                if (current_set_edges != current_set_max_edges):\r\n",
        "                    sets[ind_i] = 0 #IF NOT A CLIQUE\r\n",
        "                else:\r\n",
        "                    sets[ind_i] = 1 #IF A CLIQUE\r\n",
        "                    \r\n",
        "\r\n",
        "            else:\r\n",
        "                   sets[ind_i] = 0\r\n",
        "\r\n",
        "\r\n",
        "        if draw: \r\n",
        "            dirac = data.locations[graph].item() - total_index\r\n",
        "            if fig is None:\r\n",
        "                 f1 = plt.figure(graph,figsize=(16,9)) \r\n",
        "            else:\r\n",
        "                 f1 = fig\r\n",
        "            ax1 = f1.add_subplot(121)\r\n",
        "            g1,g2 = drawGraphFromData(data.to('cpu'), graph, vals=sets.squeeze(-1).detach().cpu(), dense=False,seed=dirac, nodecolor=True,edgecolor=False,seedhops=True,hoplabels=True,binarycut=False)\r\n",
        "            ax2 = f1.add_subplot(122)\r\n",
        "            g1,g2 = drawGraphFromData(data.to('cpu'), graph, vals=probabilities.detach().cpu(), dense=False,seed=dirac, nodecolor=True,edgecolor=False,seedhops=True,hoplabels=True,binarycut=False, clique = True)\r\n",
        "\r\n",
        "            clique_size = len(list(max_clique(g1)))\r\n",
        "#              print(\"NX Clique size is: \", clique_size)\r\n",
        "#              print(\"True clique number: \", graph_clique_number(g1))\r\n",
        "        \r\n",
        "        \r\n",
        "        total_index += num_nodes\r\n",
        "        \r\n",
        "\r\n",
        "    expected_weight_G = scatter_add(sets[no_loop_col]*sets[no_loop_row], batch[no_loop_row], 0, dim_size = num_graphs)\r\n",
        "    set_cardinality = scatter_add(sets, batch, 0 , dim_size = num_graphs)\r\n",
        "    return sets, expected_weight_G.detach(), set_cardinality"
      ],
      "execution_count": 85,
      "outputs": []
    },
    {
      "cell_type": "code",
      "metadata": {
        "id": "_78Y1ioxe-Yk"
      },
      "source": [
        "#Fast derandomizer\r\n",
        "def derandomize_clique_final_speed(data, probabilities, draw=False, weight_factor = 0.35, clique_number_bounds = None ,fig = None, device = 'cpu', beam = 40):\r\n",
        "       \r\n",
        "    row, col = data.edge_index\r\n",
        "    sets = probabilities.detach().unsqueeze(-1)\r\n",
        "    blank_sets = torch.zeros_like(probabilities)\r\n",
        "    batch = data.batch\r\n",
        "    \r\n",
        "    no_loop_index,_ = remove_self_loops(data.edge_index)        \r\n",
        "    no_loop_row, no_loop_col = no_loop_index\r\n",
        "    num_graphs = batch.max().item() + 1\r\n",
        "    \r\n",
        "    max_cardinalities = torch.zeros(num_graphs)\r\n",
        "\r\n",
        "    total_index = 0\r\n",
        "\r\n",
        "    for graph in range(num_graphs):\r\n",
        "        #torch.cuda.memory_summary()\r\n",
        "        #print(\"NEW GRAPH-----------------------------------\")\r\n",
        "            #select subset of nodes and edges corresponding to graph\r\n",
        "        mark_edges = batch[no_loop_row] == graph\r\n",
        "        nlr_graph, nlc_graph = no_loop_index[:,mark_edges]\r\n",
        "        nlr_graph = nlr_graph - total_index\r\n",
        "        nlc_graph = nlc_graph - total_index\r\n",
        "        batch_graph = (batch==graph)\r\n",
        "        graph_probs = sets[batch_graph].detach()\r\n",
        "        sorted_inds = torch.argsort(graph_probs.squeeze(-1), descending=True)\r\n",
        "\r\n",
        "        \r\n",
        "         #print(batch_graph)\r\n",
        "#         pairwise_prodsums = torch.zeros(1, device = device)\r\n",
        "#         pairwise_prodsums = (torch.conv1d(graph_probs.unsqueeze(-1), graph_probs.unsqueeze(-1))).sum()/2\r\n",
        "#         self_sums = (graph_probs*graph_probs).sum()\r\n",
        "        num_nodes = batch_graph.long().sum()\r\n",
        "        #print(num_nodes)\r\n",
        "        \r\n",
        "        current_set_cardinality = 0\r\n",
        "        target_neighborhood = torch.tensor([])\r\n",
        "        #final_set = []\r\n",
        "        node = 0\r\n",
        "        max_width = beam\r\n",
        "        if num_nodes>max_width:\r\n",
        "            beam_width = max_width \r\n",
        "        else:\r\n",
        "            beam_width = num_nodes\r\n",
        "            \r\n",
        "        max_beam_weight = 0\r\n",
        "        max_weight_node = 0\r\n",
        "        graph_probs_1 = sets[batch_graph].detach()\r\n",
        "        max_cardinality = 0\r\n",
        "        \r\n",
        "        for node in range(beam_width):\r\n",
        "            blank_sets[batch_graph] = 0\r\n",
        "            current_set_cardinality = 0\r\n",
        "\r\n",
        "        #for node in range(int(num_nodes)):\r\n",
        "        #while current_set_cardinality <= 0:\r\n",
        "            #print(\"Current node here: \", current_set_cardinality)\r\n",
        "            ind_i = total_index + sorted_inds[node]\r\n",
        "\r\n",
        "            ind_i = total_index + sorted_inds[node]\r\n",
        "            blank_sets[ind_i] = 1\r\n",
        "            sets[ind_i] = 1 #IF A CLIQUE=\r\n",
        "            #final_set += [ind_i]\r\n",
        "            target_neighborhood = torch.unique(nlc_graph[nlr_graph == sorted_inds[node]])\r\n",
        "            decided = blank_sets[batch_graph]\r\n",
        "            #current_set_cardinality = decided.sum()\r\n",
        "            #print(\"current card: \", current_set_cardinality)\r\n",
        "            current_set_max_edges = (current_set_cardinality*(current_set_cardinality-1))/2\r\n",
        "            current_set_edges = (decided[nlr_graph]*decided[nlc_graph]).sum()/2\r\n",
        "            current_set_cardinality += 1\r\n",
        "\r\n",
        "            neighborhood_probs =  graph_probs[target_neighborhood]\r\n",
        "            #print(neighborhood_probs.shape)\r\n",
        "            neigh_inds = torch.argsort(neighborhood_probs.squeeze(-1), descending=True)\r\n",
        "            #if not neigh_inds:\r\n",
        "            sorted_target_neighborhood = target_neighborhood[neigh_inds]\r\n",
        "\r\n",
        "\r\n",
        "            for node_2 in sorted_target_neighborhood:\r\n",
        "            #    print(\"here\")\r\n",
        "                ind_i  = total_index + node_2\r\n",
        "                #graph_probs_0 = sets[batch_graph].detach()\r\n",
        "                #graph_probs_1 = sets[batch_graph].detach()\r\n",
        "\r\n",
        "    #             graph_probs_0[node] = 0\r\n",
        "    #             #graph_probs_1[node] = 1\r\n",
        "\r\n",
        "    #             pairwise_prodsums_0 = torch.zeros(1, device = device)\r\n",
        "\r\n",
        "                blank_sets[ind_i] = 1\r\n",
        "                sets[ind_i] = 1 #IF A CLIQUE\r\n",
        "                current_set_cardinality += 1\r\n",
        "                decided = blank_sets[batch_graph]\r\n",
        "                #current_set_cardinality = decided.sum()\r\n",
        "                current_set_max_edges = (current_set_cardinality*(current_set_cardinality-1))/2\r\n",
        "                current_set_edges = (decided[nlr_graph]*decided[nlc_graph]).sum()/2\r\n",
        "\r\n",
        "                if (current_set_edges != current_set_max_edges):\r\n",
        "    #                 print(\"current edges: \", current_set_edges)\r\n",
        "    #                 print(\"current max edges: \", current_set_max_edges)\r\n",
        "\r\n",
        "                    sets[ind_i] = 0 #IF NOT A CLIQUE\r\n",
        "                    blank_sets[ind_i] = 0  \r\n",
        "                    current_set_cardinality =  current_set_cardinality - 1\r\n",
        "\r\n",
        "            if current_set_cardinality > max_cardinality:\r\n",
        "                max_cardinality = current_set_cardinality\r\n",
        "            #blank_sets[ind_i] = 0\r\n",
        "\r\n",
        "        max_cardinalities[graph] = max_cardinality\r\n",
        "    #             else:\r\n",
        "    #                 sets[ind_i] = 1 #IF A CLIQUE\r\n",
        "    #                 blank_sets[ind_i] = 1\r\n",
        "    #                 #final_set += [ind_i]\r\n",
        "    #                 #target_neighborhood = torch.unique(nlc_graph[nlr_graph == ind_i])\r\n",
        "    #                 #print(target_neighborhood)\r\n",
        "\r\n",
        "    #             else:\r\n",
        "    #                    sets[ind_i] = 0\r\n",
        "\r\n",
        " \r\n",
        "    \r\n",
        "    \r\n",
        "        if draw: \r\n",
        "            dirac = data.locations[graph].item() - total_index\r\n",
        "            if fig is None:\r\n",
        "                 f1 = plt.figure(graph,figsize=(16,9)) \r\n",
        "            else:\r\n",
        "                 f1 = fig\r\n",
        "            ax1 = f1.add_subplot(121)\r\n",
        "            g1,g2 = drawGraphFromData(data.to('cpu'), graph, vals=sets.squeeze(-1).detach().cpu(), dense=False,seed=dirac, nodecolor=True,edgecolor=False,seedhops=True,hoplabels=True,binarycut=False)\r\n",
        "            ax2 = f1.add_subplot(122)\r\n",
        "            g1,g2 = drawGraphFromData(data.to('cpu'), graph, vals=probabilities.detach().cpu(), dense=False,seed=dirac, nodecolor=True,edgecolor=False,seedhops=True,hoplabels=True,binarycut=False, clique = True)\r\n",
        "\r\n",
        "            clique_size = len(list(max_clique(g1)))\r\n",
        "#              print(\"NX Clique size is: \", clique_size)\r\n",
        "#              print(\"True clique number: \", graph_clique_number(g1))\r\n",
        "        \r\n",
        "        \r\n",
        "        total_index += num_nodes\r\n",
        "        \r\n",
        "\r\n",
        "    expected_weight_G = scatter_add(blank_sets[no_loop_col]*blank_sets[no_loop_row], batch[no_loop_row], 0, dim_size = num_graphs)\r\n",
        "    set_cardinality = scatter_add(blank_sets, batch, 0 , dim_size = num_graphs)\r\n",
        "    #print(set_cardinality)\r\n",
        "    return blank_sets, expected_weight_G.detach(), max_cardinalities"
      ],
      "execution_count": 86,
      "outputs": []
    },
    {
      "cell_type": "code",
      "metadata": {
        "id": "lig_eqtRfMnK"
      },
      "source": [
        "# #GET GUROBI GROUND TRUTHS\r\n",
        "# from  cut_utils import solve_gurobi_maxclique\r\n",
        "\r\n",
        "# import gurobipy as gp\r\n",
        "# from gurobipy import GRB\r\n",
        "\r\n",
        "# test_data_clique = []\r\n",
        "# for data in testdata:\r\n",
        "#     my_graph = to_networkx(Data(x=data.x, edge_index = data.edge_index)).to_undirected()\r\n",
        "#     print(my_graph)\r\n",
        "#     cliqno, _ = solve_gurobi_maxclique(my_graph, 500)\r\n",
        "#     data.clique_number = cliqno\r\n",
        "#     test_data_clique += [data]"
      ],
      "execution_count": 89,
      "outputs": []
    },
    {
      "cell_type": "code",
      "metadata": {
        "colab": {
          "base_uri": "https://localhost:8080/"
        },
        "id": "LOd28WcUfbaY",
        "outputId": "36863e86-04a1-4782-c8b2-a9cfc0fec293"
      },
      "source": [
        "batch_size = 32\r\n",
        "#test_data = traindata\r\n",
        "test_data = testdata\r\n",
        "#shuffle(test_data)\r\n",
        "test_loader = DataLoader(test_data, batch_size, shuffle=False)\r\n",
        "net.to(device)\r\n",
        "count = 1\r\n",
        "#Evaluation\r\n",
        "net.eval()\r\n",
        "\r\n",
        "gnn_nodes = []\r\n",
        "gnn_edges = []\r\n",
        "gnn_sets = {}\r\n",
        "max_samples = 1\r\n",
        "gnn_times = []\r\n",
        "num_samples = max_samples\r\n",
        "t_start = time.time()\r\n",
        "\r\n",
        "\r\n",
        "for data in test_loader:\r\n",
        "\r\n",
        "    num_graphs = data.batch.max().item()+1\r\n",
        "    bestset = {}\r\n",
        "    bestedges = np.zeros((num_graphs))\r\n",
        "    maxset = np.zeros((num_graphs))\r\n",
        "\r\n",
        "    total_samples = []\r\n",
        "    for graph in range(num_graphs):\r\n",
        "        curr_inds = (data.batch==graph)\r\n",
        "        g_size = curr_inds.sum().item()\r\n",
        "        if max_samples <= g_size: \r\n",
        "            samples = np.random.choice(curr_inds.sum().item(),max_samples, replace=False)\r\n",
        "        else:\r\n",
        "            samples = np.random.choice(curr_inds.sum().item(),max_samples, replace=True)\r\n",
        "\r\n",
        "        total_samples +=[samples]\r\n",
        "\r\n",
        "    data = data.to(device)\r\n",
        "\r\n",
        "    t_0 = time.time()\r\n",
        "    \r\n",
        "#     max_size = data.x.shape[0]\r\n",
        "#     #print(max_size)\r\n",
        "#     if (max_size <= max_samples):\r\n",
        "#             num_samples = max_size\r\n",
        "#     else:\r\n",
        "#             num_samples = max_samples\r\n",
        "#     sample_locations = np.random.choice(max_size,max_samples, replace=False)\r\n",
        "\r\n",
        "    for k in range(num_samples):\r\n",
        "        t_datanet_0 = time.time()\r\n",
        "        data_prime = get_diracs(data.to(device), 1, sparse = True, effective_volume_range=0.15, receptive_field = 7)\r\n",
        "  \r\n",
        "        initial_values = data_prime.x.detach()\r\n",
        "        data_prime.x = torch.zeros_like(data_prime.x)\r\n",
        "        g_offset = 0\r\n",
        "        for graph in range(num_graphs):\r\n",
        "            curr_inds = (data_prime.batch==graph)\r\n",
        "            g_size = curr_inds.sum().item()\r\n",
        "            graph_x = data_prime.x[curr_inds]\r\n",
        "            data_prime.x[total_samples[graph][k] + g_offset]=1.\r\n",
        "            g_offset += g_size\r\n",
        "            \r\n",
        "        retdz = net(data_prime)\r\n",
        "        \r\n",
        "        t_datanet_1 = time.time() - t_datanet_0\r\n",
        "        print(\"data prep and fp: \", t_datanet_1)\r\n",
        "        t_derand_0 = time.time()\r\n",
        "\r\n",
        "\r\n",
        "        sets, set_edges, set_cardinality = derandomize_clique_final_speed(data_prime,(retdz[\"output\"][0]), weight_factor =0.,draw=False, beam = 1)\r\n",
        "\r\n",
        "        t_derand_1 = time.time() - t_derand_0\r\n",
        "        print(\"Derandomization time: \", t_derand_1)\r\n",
        "\r\n",
        "\r\n",
        "        for j in range(num_graphs):\r\n",
        "            indices = (data.batch == j)\r\n",
        "            if (set_cardinality[j]>maxset[j]):\r\n",
        "                    maxset[j] = set_cardinality[j].item()\r\n",
        "                    bestset[str(j)] = sets[indices].cpu()\r\n",
        "                    bestedges[j] = set_edges[j].item()\r\n",
        "\r\n",
        "        #del retdz\r\n",
        "       # del data_prime\r\n",
        "    t_1 = time.time()-t_0\r\n",
        "    print(\"Current batch: \", count)\r\n",
        "    print(\"Time so far: \", time.time()-t_0)\r\n",
        "    gnn_sets[str(count)] = bestset\r\n",
        "    \r\n",
        "    gnn_nodes += [maxset]\r\n",
        "    gnn_edges += [bestedges]\r\n",
        "    gnn_times += [t_1]\r\n",
        "    #del sets\r\n",
        "\r\n",
        "\r\n",
        "\r\n",
        "\r\n",
        "    count += 1\r\n",
        "    #if count > 200:\r\n",
        "        #break\r\n",
        "t_1 = time.time()\r\n",
        "total_time = t_1 - t_start\r\n",
        "print(\"Average time per graph: \", total_time/(len(test_data)))\r\n",
        "#print(prof.key_averages().table(sort_by=\"self_cpu_time_total\"))"
      ],
      "execution_count": 91,
      "outputs": [
        {
          "output_type": "stream",
          "text": [
            "[Errno 99] Cannot assign requested address\n",
            "[Errno 99] Cannot assign requested address\n"
          ],
          "name": "stderr"
        },
        {
          "output_type": "stream",
          "text": [
            "data prep and fp:  0.1798396110534668\n",
            "Derandomization time:  0.12833499908447266\n",
            "Current batch:  1\n",
            "Time so far:  0.3188016414642334\n",
            "data prep and fp:  0.22015142440795898\n",
            "Derandomization time:  0.12447118759155273\n",
            "Current batch:  2\n",
            "Time so far:  0.35829925537109375\n"
          ],
          "name": "stdout"
        },
        {
          "output_type": "stream",
          "text": [
            "[Errno 99] Cannot assign requested address\n",
            "[Errno 99] Cannot assign requested address\n"
          ],
          "name": "stderr"
        },
        {
          "output_type": "stream",
          "text": [
            "data prep and fp:  0.2341926097869873\n",
            "Derandomization time:  0.14180803298950195\n",
            "Current batch:  3\n",
            "Time so far:  0.38840413093566895\n"
          ],
          "name": "stdout"
        },
        {
          "output_type": "stream",
          "text": [
            "[Errno 99] Cannot assign requested address\n"
          ],
          "name": "stderr"
        },
        {
          "output_type": "stream",
          "text": [
            "data prep and fp:  0.1823117733001709\n",
            "Derandomization time:  0.09239029884338379\n",
            "Current batch:  4\n",
            "Time so far:  0.2827723026275635\n",
            "Average time per graph:  0.011470250288645427\n"
          ],
          "name": "stdout"
        }
      ]
    },
    {
      "cell_type": "code",
      "metadata": {
        "id": "65QOvZRkfk3x"
      },
      "source": [
        "#FLATTEN\r\n",
        "flat_list = [item for sublist in gnn_edges for item in sublist]\r\n",
        "for k in range(len(flat_list)):\r\n",
        "    flat_list[k] = flat_list[k].item()\r\n",
        "gnn_edges = (flat_list)\r\n",
        "\r\n",
        "flat_list = [item for sublist in gnn_nodes for item in sublist]\r\n",
        "for k in range(len(flat_list)):\r\n",
        "    flat_list[k] = flat_list[k].item()\r\n",
        "gnn_nodes = (flat_list)"
      ],
      "execution_count": 92,
      "outputs": []
    },
    {
      "cell_type": "code",
      "metadata": {
        "colab": {
          "base_uri": "https://localhost:8080/"
        },
        "id": "O5NdetcWfpOf",
        "outputId": "dfef4685-b3e5-4f64-ad34-9c897f99b667"
      },
      "source": [
        "tests = test_data_clique\r\n",
        "ratios = [gnn_nodes[i]/tests[i].clique_number for i in range(len(tests))]\r\n",
        "print(f\"Mean ratio: {(np.array(ratios)).mean()} +/-  {(np.array(ratios)).std()}\")"
      ],
      "execution_count": 94,
      "outputs": [
        {
          "output_type": "stream",
          "text": [
            "Mean ratio: nan +/-  nan\n"
          ],
          "name": "stdout"
        },
        {
          "output_type": "stream",
          "text": [
            "/usr/local/lib/python3.7/dist-packages/ipykernel_launcher.py:3: RuntimeWarning: Mean of empty slice.\n",
            "  This is separate from the ipykernel package so we can avoid doing imports until\n",
            "/usr/local/lib/python3.7/dist-packages/numpy/core/_methods.py:170: RuntimeWarning: invalid value encountered in double_scalars\n",
            "  ret = ret.dtype.type(ret / rcount)\n",
            "/usr/local/lib/python3.7/dist-packages/numpy/core/_methods.py:234: RuntimeWarning: Degrees of freedom <= 0 for slice\n",
            "  keepdims=keepdims)\n",
            "/usr/local/lib/python3.7/dist-packages/numpy/core/_methods.py:195: RuntimeWarning: invalid value encountered in true_divide\n",
            "  arrmean, rcount, out=arrmean, casting='unsafe', subok=False)\n",
            "/usr/local/lib/python3.7/dist-packages/numpy/core/_methods.py:226: RuntimeWarning: invalid value encountered in double_scalars\n",
            "  ret = ret.dtype.type(ret / rcount)\n",
            "[Errno 99] Cannot assign requested address\n",
            "[Errno 99] Cannot assign requested address\n",
            "[Errno 99] Cannot assign requested address\n"
          ],
          "name": "stderr"
        }
      ]
    }
  ]
}