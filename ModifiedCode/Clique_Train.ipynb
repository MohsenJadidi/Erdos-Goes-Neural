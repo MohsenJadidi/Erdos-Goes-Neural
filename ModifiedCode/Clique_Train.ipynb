{
  "nbformat": 4,
  "nbformat_minor": 0,
  "metadata": {
    "colab": {
      "name": "Clique-Train.ipynb",
      "provenance": [],
      "authorship_tag": "ABX9TyP+WCVpTPg5L2zSj4NdtfdC",
      "include_colab_link": true
    },
    "kernelspec": {
      "name": "python3",
      "display_name": "Python 3"
    }
  },
  "cells": [
    {
      "cell_type": "markdown",
      "metadata": {
        "id": "view-in-github",
        "colab_type": "text"
      },
      "source": [
        "<a href=\"https://colab.research.google.com/github/MohsenJadidi/Erdos-Goes-Neural/blob/main/ModifiedCode/Clique_Train.ipynb\" target=\"_parent\"><img src=\"https://colab.research.google.com/assets/colab-badge.svg\" alt=\"Open In Colab\"/></a>"
      ]
    },
    {
      "cell_type": "code",
      "metadata": {
        "id": "mHCQ9nhQVnat"
      },
      "source": [
        "Clique-Train"
      ],
      "execution_count": null,
      "outputs": []
    }
  ]
}