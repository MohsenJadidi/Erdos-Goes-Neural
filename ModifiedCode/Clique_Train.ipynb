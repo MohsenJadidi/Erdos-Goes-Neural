{
  "nbformat": 4,
  "nbformat_minor": 0,
  "metadata": {
    "colab": {
      "name": "Clique-Train.ipynb",
      "provenance": [],
      "collapsed_sections": [],
      "authorship_tag": "ABX9TyOHtc+BVLccaD83hSY2DZnf",
      "include_colab_link": true
    },
    "kernelspec": {
      "name": "python3",
      "display_name": "Python 3"
    }
  },
  "cells": [
    {
      "cell_type": "markdown",
      "metadata": {
        "id": "view-in-github",
        "colab_type": "text"
      },
      "source": [
        "<a href=\"https://colab.research.google.com/github/MohsenJadidi/Erdos-Goes-Neural/blob/main/ModifiedCode/Clique_Train.ipynb\" target=\"_parent\"><img src=\"https://colab.research.google.com/assets/colab-badge.svg\" alt=\"Open In Colab\"/></a>"
      ]
    },
    {
      "cell_type": "markdown",
      "metadata": {
        "id": "P1WuZ8bybLIi"
      },
      "source": [
        "# Install package"
      ]
    },
    {
      "cell_type": "code",
      "metadata": {
        "id": "tG0B8THCYorU"
      },
      "source": [
        "#!pip install torch_scatter==latest+cu101 torch_sparse==latest+cu101\r\n",
        "#!pip install torch_geometric\r\n"
      ],
      "execution_count": null,
      "outputs": []
    },
    {
      "cell_type": "code",
      "metadata": {
        "colab": {
          "base_uri": "https://localhost:8080/"
        },
        "id": "sWhfRgbIaTqh",
        "outputId": "ca3a79af-5eea-4b7b-95d4-3bb28013bf58"
      },
      "source": [
        "!pip install torch_scatter\r\n",
        "!pip install torch_sparse\r\n",
        "!pip install torch_geometric\r\n"
      ],
      "execution_count": 1,
      "outputs": [
        {
          "output_type": "stream",
          "text": [
            "Requirement already satisfied: torch_scatter in /usr/local/lib/python3.6/dist-packages (2.0.5)\n",
            "Requirement already satisfied: torch_sparse in /usr/local/lib/python3.6/dist-packages (0.6.8)\n",
            "Requirement already satisfied: scipy in /usr/local/lib/python3.6/dist-packages (from torch_sparse) (1.4.1)\n",
            "Requirement already satisfied: numpy>=1.13.3 in /usr/local/lib/python3.6/dist-packages (from scipy->torch_sparse) (1.19.5)\n",
            "Requirement already satisfied: torch_geometric in /usr/local/lib/python3.6/dist-packages (1.6.3)\n",
            "Requirement already satisfied: python-louvain in /usr/local/lib/python3.6/dist-packages (from torch_geometric) (0.15)\n",
            "Requirement already satisfied: numpy in /usr/local/lib/python3.6/dist-packages (from torch_geometric) (1.19.5)\n",
            "Requirement already satisfied: rdflib in /usr/local/lib/python3.6/dist-packages (from torch_geometric) (5.0.0)\n",
            "Requirement already satisfied: ase in /usr/local/lib/python3.6/dist-packages (from torch_geometric) (3.21.1)\n",
            "Requirement already satisfied: torch in /usr/local/lib/python3.6/dist-packages (from torch_geometric) (1.7.0+cu101)\n",
            "Requirement already satisfied: scipy in /usr/local/lib/python3.6/dist-packages (from torch_geometric) (1.4.1)\n",
            "Requirement already satisfied: tqdm in /usr/local/lib/python3.6/dist-packages (from torch_geometric) (4.41.1)\n",
            "Requirement already satisfied: requests in /usr/local/lib/python3.6/dist-packages (from torch_geometric) (2.23.0)\n",
            "Requirement already satisfied: googledrivedownloader in /usr/local/lib/python3.6/dist-packages (from torch_geometric) (0.4)\n",
            "Requirement already satisfied: networkx in /usr/local/lib/python3.6/dist-packages (from torch_geometric) (2.5)\n",
            "Requirement already satisfied: pandas in /usr/local/lib/python3.6/dist-packages (from torch_geometric) (1.1.5)\n",
            "Requirement already satisfied: numba in /usr/local/lib/python3.6/dist-packages (from torch_geometric) (0.51.2)\n",
            "Requirement already satisfied: h5py in /usr/local/lib/python3.6/dist-packages (from torch_geometric) (2.10.0)\n",
            "Requirement already satisfied: jinja2 in /usr/local/lib/python3.6/dist-packages (from torch_geometric) (2.11.3)\n",
            "Requirement already satisfied: scikit-learn in /usr/local/lib/python3.6/dist-packages (from torch_geometric) (0.22.2.post1)\n",
            "Requirement already satisfied: isodate in /usr/local/lib/python3.6/dist-packages (from rdflib->torch_geometric) (0.6.0)\n",
            "Requirement already satisfied: six in /usr/local/lib/python3.6/dist-packages (from rdflib->torch_geometric) (1.15.0)\n",
            "Requirement already satisfied: pyparsing in /usr/local/lib/python3.6/dist-packages (from rdflib->torch_geometric) (2.4.7)\n",
            "Requirement already satisfied: matplotlib>=2.0.0 in /usr/local/lib/python3.6/dist-packages (from ase->torch_geometric) (3.2.2)\n",
            "Requirement already satisfied: typing-extensions in /usr/local/lib/python3.6/dist-packages (from torch->torch_geometric) (3.7.4.3)\n",
            "Requirement already satisfied: future in /usr/local/lib/python3.6/dist-packages (from torch->torch_geometric) (0.16.0)\n",
            "Requirement already satisfied: dataclasses in /usr/local/lib/python3.6/dist-packages (from torch->torch_geometric) (0.8)\n",
            "Requirement already satisfied: chardet<4,>=3.0.2 in /usr/local/lib/python3.6/dist-packages (from requests->torch_geometric) (3.0.4)\n",
            "Requirement already satisfied: certifi>=2017.4.17 in /usr/local/lib/python3.6/dist-packages (from requests->torch_geometric) (2020.12.5)\n",
            "Requirement already satisfied: urllib3!=1.25.0,!=1.25.1,<1.26,>=1.21.1 in /usr/local/lib/python3.6/dist-packages (from requests->torch_geometric) (1.24.3)\n",
            "Requirement already satisfied: idna<3,>=2.5 in /usr/local/lib/python3.6/dist-packages (from requests->torch_geometric) (2.10)\n",
            "Requirement already satisfied: decorator>=4.3.0 in /usr/local/lib/python3.6/dist-packages (from networkx->torch_geometric) (4.4.2)\n",
            "Requirement already satisfied: pytz>=2017.2 in /usr/local/lib/python3.6/dist-packages (from pandas->torch_geometric) (2018.9)\n",
            "Requirement already satisfied: python-dateutil>=2.7.3 in /usr/local/lib/python3.6/dist-packages (from pandas->torch_geometric) (2.8.1)\n",
            "Requirement already satisfied: llvmlite<0.35,>=0.34.0.dev0 in /usr/local/lib/python3.6/dist-packages (from numba->torch_geometric) (0.34.0)\n",
            "Requirement already satisfied: setuptools in /usr/local/lib/python3.6/dist-packages (from numba->torch_geometric) (53.0.0)\n",
            "Requirement already satisfied: MarkupSafe>=0.23 in /usr/local/lib/python3.6/dist-packages (from jinja2->torch_geometric) (1.1.1)\n",
            "Requirement already satisfied: joblib>=0.11 in /usr/local/lib/python3.6/dist-packages (from scikit-learn->torch_geometric) (1.0.0)\n",
            "Requirement already satisfied: kiwisolver>=1.0.1 in /usr/local/lib/python3.6/dist-packages (from matplotlib>=2.0.0->ase->torch_geometric) (1.3.1)\n",
            "Requirement already satisfied: cycler>=0.10 in /usr/local/lib/python3.6/dist-packages (from matplotlib>=2.0.0->ase->torch_geometric) (0.10.0)\n"
          ],
          "name": "stdout"
        }
      ]
    },
    {
      "cell_type": "code",
      "metadata": {
        "colab": {
          "base_uri": "https://localhost:8080/"
        },
        "id": "euKC3DRAh9pk",
        "outputId": "d8f6a792-6d70-4675-eea4-3ac76e5e01a8"
      },
      "source": [
        "!pip install graphviz\r\n",
        "!pip install pygraphviz"
      ],
      "execution_count": 2,
      "outputs": [
        {
          "output_type": "stream",
          "text": [
            "Requirement already satisfied: graphviz in /usr/local/lib/python3.6/dist-packages (0.10.1)\n",
            "Requirement already satisfied: pygraphviz in /usr/local/lib/python3.6/dist-packages (1.6)\n"
          ],
          "name": "stdout"
        }
      ]
    },
    {
      "cell_type": "code",
      "metadata": {
        "colab": {
          "base_uri": "https://localhost:8080/"
        },
        "id": "Pi5Fqh6IyO7p",
        "outputId": "c5a420f4-594c-4e74-f36f-f61845fa9668"
      },
      "source": [
        "!pip install visdom\r\n",
        "!pip install GPUtil"
      ],
      "execution_count": 3,
      "outputs": [
        {
          "output_type": "stream",
          "text": [
            "Requirement already satisfied: visdom in /usr/local/lib/python3.6/dist-packages (0.1.8.9)\n",
            "Requirement already satisfied: pyzmq in /usr/local/lib/python3.6/dist-packages (from visdom) (22.0.2)\n",
            "Requirement already satisfied: numpy>=1.8 in /usr/local/lib/python3.6/dist-packages (from visdom) (1.19.5)\n",
            "Requirement already satisfied: pillow in /usr/local/lib/python3.6/dist-packages (from visdom) (7.0.0)\n",
            "Requirement already satisfied: six in /usr/local/lib/python3.6/dist-packages (from visdom) (1.15.0)\n",
            "Requirement already satisfied: requests in /usr/local/lib/python3.6/dist-packages (from visdom) (2.23.0)\n",
            "Requirement already satisfied: torchfile in /usr/local/lib/python3.6/dist-packages (from visdom) (0.1.0)\n",
            "Requirement already satisfied: websocket-client in /usr/local/lib/python3.6/dist-packages (from visdom) (0.57.0)\n",
            "Requirement already satisfied: tornado in /usr/local/lib/python3.6/dist-packages (from visdom) (5.1.1)\n",
            "Requirement already satisfied: scipy in /usr/local/lib/python3.6/dist-packages (from visdom) (1.4.1)\n",
            "Requirement already satisfied: jsonpatch in /usr/local/lib/python3.6/dist-packages (from visdom) (1.28)\n",
            "Requirement already satisfied: certifi>=2017.4.17 in /usr/local/lib/python3.6/dist-packages (from requests->visdom) (2020.12.5)\n",
            "Requirement already satisfied: idna<3,>=2.5 in /usr/local/lib/python3.6/dist-packages (from requests->visdom) (2.10)\n",
            "Requirement already satisfied: urllib3!=1.25.0,!=1.25.1,<1.26,>=1.21.1 in /usr/local/lib/python3.6/dist-packages (from requests->visdom) (1.24.3)\n",
            "Requirement already satisfied: chardet<4,>=3.0.2 in /usr/local/lib/python3.6/dist-packages (from requests->visdom) (3.0.4)\n",
            "Requirement already satisfied: jsonpointer>=1.9 in /usr/local/lib/python3.6/dist-packages (from jsonpatch->visdom) (2.0)\n"
          ],
          "name": "stdout"
        }
      ]
    },
    {
      "cell_type": "code",
      "metadata": {
        "colab": {
          "base_uri": "https://localhost:8080/"
        },
        "id": "lcu4U6yTlQpu",
        "outputId": "35beb547-92eb-4998-c968-05f98d8cb369"
      },
      "source": [
        "from google.colab import drive\r\n",
        "drive.mount('/content/drive/')\r\n",
        "\r\n",
        "import sys\r\n",
        "sys.path.append('/content/drive/My Drive/ISLR Course - Fall 2020/Project')\r\n"
      ],
      "execution_count": 4,
      "outputs": [
        {
          "output_type": "stream",
          "text": [
            "Drive already mounted at /content/drive/; to attempt to forcibly remount, call drive.mount(\"/content/drive/\", force_remount=True).\n"
          ],
          "name": "stdout"
        }
      ]
    },
    {
      "cell_type": "markdown",
      "metadata": {
        "id": "VZM6-St1bSGH"
      },
      "source": [
        "# Import"
      ]
    },
    {
      "cell_type": "code",
      "metadata": {
        "id": "mHCQ9nhQVnat"
      },
      "source": [
        "import os\r\n",
        "import pickle\r\n",
        "import torch\r\n",
        "import torch.nn.functional as F\r\n",
        "from torch.nn import Linear\r\n",
        "#from kernel.datasets import get_dataset\r\n",
        "import time\r\n",
        "from torch import tensor\r\n",
        "from torch.optim import Adam\r\n",
        "from torch.optim import SGD\r\n",
        "from torch_geometric.data import DataLoader, DenseDataLoader as DenseLoader\r\n",
        "from math import ceil\r\n",
        "from torch.nn import Linear\r\n",
        "from torch.distributions import categorical\r\n",
        "from torch.distributions import Bernoulli\r\n",
        "import torch.nn\r\n",
        "%matplotlib inline\r\n",
        "from matplotlib import pyplot as plt\r\n",
        "import pygraphviz as pgv\r\n",
        "from torch_geometric.utils import convert as cnv\r\n",
        "from torch_geometric.utils import sparse as sp\r\n",
        "from torch_geometric.data import Data\r\n",
        "import pygraphviz as pgv\r\n",
        "from networkx.drawing.nx_agraph import graphviz_layout\r\n",
        "import networkx as nx\r\n",
        "from torch.utils.data.sampler import RandomSampler\r\n",
        "from torch.nn.functional import gumbel_softmax\r\n",
        "from torch.distributions import relaxed_categorical\r\n",
        "from torch_geometric.nn.inits import uniform\r\n",
        "from torch_geometric.nn.inits import glorot, zeros\r\n",
        "from torch.nn import Parameter\r\n",
        "from torch.nn import Sequential as Seq, Linear, ReLU\r\n",
        "from torch_geometric.nn import MessagePassing\r\n",
        "from torch_geometric.utils import degree\r\n",
        "from torch_geometric.nn import GINConv, GATConv\r\n",
        "from torch.nn import Parameter\r\n",
        "from torch.nn import Sequential as Seq, Linear, ReLU, LeakyReLU\r\n",
        "from torch_geometric.nn import MessagePassing\r\n",
        "from torch.nn import Linear, Sequential, ReLU, BatchNorm1d as BN\r\n",
        "#from torch_geometric.utils import scatter_\r\n",
        "from torch_geometric.data import Batch \r\n",
        "from torch_scatter import scatter_min, scatter_max, scatter_add, scatter_mean\r\n",
        "from torch import autograd\r\n",
        "from torch_geometric.utils import softmax, add_self_loops, remove_self_loops, segregate_self_loops, remove_isolated_nodes, contains_isolated_nodes, add_remaining_self_loops\r\n",
        "from models import cut_MPNN\r\n",
        "from modules_and_utils import derandomize_cut, GATAConv,get_diracs, derandomize_clique_final, derandomize_clique_final_speed, solve_gurobi_maxclique\r\n",
        "import scipy\r\n",
        "import scipy.io\r\n",
        "import GPUtil\r\n",
        "from networkx.algorithms.approximation import max_clique\r\n",
        "from torch_geometric.data import DataListLoader\r\n",
        "from random import shuffle\r\n",
        "from networkx.algorithms.approximation import max_clique\r\n",
        "from networkx.algorithms import graph_clique_number\r\n",
        "from networkx.algorithms import find_cliques"
      ],
      "execution_count": 9,
      "outputs": []
    },
    {
      "cell_type": "markdown",
      "metadata": {
        "id": "08HOKOpyYFFQ"
      },
      "source": [
        "# Read Dataset"
      ]
    },
    {
      "cell_type": "code",
      "metadata": {
        "id": "tsrzcyBkYHz8",
        "colab": {
          "base_uri": "https://localhost:8080/",
          "height": 229
        },
        "outputId": "3776b82d-3319-4aef-9ed3-b8d882ae91ac"
      },
      "source": [
        "datasets = [\"TWITTER_SNAP\", \"COLLAB\", \"IMDB-BINARY\"]\r\n",
        "dataset_name = datasets[2]\r\n",
        "path_to_dataset =\"%PATH\"\r\n",
        "if dataset_name == \"TWITTER_SNAP\":\r\n",
        "    stored_dataset = open(path_to_dataset, 'rb')        \r\n",
        "elif dataset_name == \"COLLAB\":\r\n",
        "    stored_dataset = open(path_to_dataset, 'rb')\r\n",
        "elif dataset_name == \"IMDB-BINARY\":\r\n",
        "    stored_dataset = open(path_to_dataset, 'rb')\r\n",
        "\r\n",
        "address = '/content/drive/My Drive/ISLR Course - Fall 2020/Project/IMDB_BINARY.p'\r\n",
        "stored_dataset = open(address, 'rb')\r\n",
        "\r\n",
        "dataset = pickle.load(stored_dataset)\r\n",
        "dataset_scale = 1\r\n",
        "total_samples = int(np.floor(len(dataset)*dataset_scale))\r\n",
        "dataset = dataset[:total_samples]\r\n",
        "\r\n",
        "num_trainpoints = int(np.floor(0.6*len(dataset)))\r\n",
        "num_valpoints = int(np.floor(num_trainpoints/3))\r\n",
        "num_testpoints = len(dataset) - (num_trainpoints + num_valpoints)\r\n",
        "traindata= dataset[0:num_trainpoints]\r\n",
        "valdata = dataset[num_trainpoints:num_trainpoints + num_valpoints]\r\n",
        "testdata = dataset[num_trainpoints + num_valpoints:]\r\n",
        "batch_size = 32\r\n",
        "train_loader = DataLoader(traindata, batch_size, shuffle=True)\r\n",
        "test_loader = DataLoader(testdata, batch_size, shuffle=False)\r\n",
        "val_loader =  DataLoader(valdata, batch_size, shuffle=False)\r\n",
        "\r\n",
        "#set up random seeds \r\n",
        "torch.manual_seed(1)\r\n",
        "np.random.seed(2)   \r\n",
        "torch.backends.cudnn.deterministic = True\r\n",
        "torch.backends.cudnn.benchmark = False"
      ],
      "execution_count": 10,
      "outputs": [
        {
          "output_type": "error",
          "ename": "FileNotFoundError",
          "evalue": "ignored",
          "traceback": [
            "\u001b[0;31m---------------------------------------------------------------------------\u001b[0m",
            "\u001b[0;31mFileNotFoundError\u001b[0m                         Traceback (most recent call last)",
            "\u001b[0;32m<ipython-input-10-5c67449de66e>\u001b[0m in \u001b[0;36m<module>\u001b[0;34m()\u001b[0m\n\u001b[1;32m      7\u001b[0m     \u001b[0mstored_dataset\u001b[0m \u001b[0;34m=\u001b[0m \u001b[0mopen\u001b[0m\u001b[0;34m(\u001b[0m\u001b[0mpath_to_dataset\u001b[0m\u001b[0;34m,\u001b[0m \u001b[0;34m'rb'\u001b[0m\u001b[0;34m)\u001b[0m\u001b[0;34m\u001b[0m\u001b[0;34m\u001b[0m\u001b[0m\n\u001b[1;32m      8\u001b[0m \u001b[0;32melif\u001b[0m \u001b[0mdataset_name\u001b[0m \u001b[0;34m==\u001b[0m \u001b[0;34m\"IMDB-BINARY\"\u001b[0m\u001b[0;34m:\u001b[0m\u001b[0;34m\u001b[0m\u001b[0;34m\u001b[0m\u001b[0m\n\u001b[0;32m----> 9\u001b[0;31m     \u001b[0mstored_dataset\u001b[0m \u001b[0;34m=\u001b[0m \u001b[0mopen\u001b[0m\u001b[0;34m(\u001b[0m\u001b[0mpath_to_dataset\u001b[0m\u001b[0;34m,\u001b[0m \u001b[0;34m'rb'\u001b[0m\u001b[0;34m)\u001b[0m\u001b[0;34m\u001b[0m\u001b[0;34m\u001b[0m\u001b[0m\n\u001b[0m\u001b[1;32m     10\u001b[0m \u001b[0;34m\u001b[0m\u001b[0m\n\u001b[1;32m     11\u001b[0m \u001b[0mdataset\u001b[0m \u001b[0;34m=\u001b[0m \u001b[0mpickle\u001b[0m\u001b[0;34m.\u001b[0m\u001b[0mload\u001b[0m\u001b[0;34m(\u001b[0m\u001b[0mstored_dataset\u001b[0m\u001b[0;34m)\u001b[0m\u001b[0;34m\u001b[0m\u001b[0;34m\u001b[0m\u001b[0m\n",
            "\u001b[0;31mFileNotFoundError\u001b[0m: [Errno 2] No such file or directory: '%PATH'"
          ]
        }
      ]
    }
  ]
}