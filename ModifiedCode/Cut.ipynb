{
  "nbformat": 4,
  "nbformat_minor": 0,
  "metadata": {
    "colab": {
      "name": "Cut-Train.ipynb",
      "provenance": [],
      "collapsed_sections": [],
      "authorship_tag": "ABX9TyMnPFEVdobXKVcnlotgFwCs",
      "include_colab_link": true
    },
    "kernelspec": {
      "name": "python3",
      "display_name": "Python 3"
    },
    "accelerator": "GPU"
  },
  "cells": [
    {
      "cell_type": "markdown",
      "metadata": {
        "id": "view-in-github",
        "colab_type": "text"
      },
      "source": [
        "<a href=\"https://colab.research.google.com/github/MohsenJadidi/Erdos-Goes-Neural/blob/main/ModifiedCode/Cut_Train.ipynb\" target=\"_parent\"><img src=\"https://colab.research.google.com/assets/colab-badge.svg\" alt=\"Open In Colab\"/></a>"
      ]
    },
    {
      "cell_type": "code",
      "metadata": {
        "colab": {
          "base_uri": "https://localhost:8080/"
        },
        "id": "sWhfRgbIaTqh",
        "outputId": "04d398bf-bf1e-4c32-efa7-222bf2fa4163"
      },
      "source": [
        "!pip install torch_scatter\r\n",
        "!pip install torch_sparse\r\n",
        "!pip install torch_geometric\r\n"
      ],
      "execution_count": 1,
      "outputs": [
        {
          "output_type": "stream",
          "text": [
            "Requirement already satisfied: torch_scatter in /usr/local/lib/python3.7/dist-packages (2.0.5)\n",
            "Requirement already satisfied: torch_sparse in /usr/local/lib/python3.7/dist-packages (0.6.8)\n",
            "Requirement already satisfied: scipy in /usr/local/lib/python3.7/dist-packages (from torch_sparse) (1.4.1)\n",
            "Requirement already satisfied: numpy>=1.13.3 in /usr/local/lib/python3.7/dist-packages (from scipy->torch_sparse) (1.19.5)\n",
            "Requirement already satisfied: torch_geometric in /usr/local/lib/python3.7/dist-packages (1.6.3)\n",
            "Requirement already satisfied: ase in /usr/local/lib/python3.7/dist-packages (from torch_geometric) (3.21.1)\n",
            "Requirement already satisfied: numpy in /usr/local/lib/python3.7/dist-packages (from torch_geometric) (1.19.5)\n",
            "Requirement already satisfied: rdflib in /usr/local/lib/python3.7/dist-packages (from torch_geometric) (5.0.0)\n",
            "Requirement already satisfied: pandas in /usr/local/lib/python3.7/dist-packages (from torch_geometric) (1.1.5)\n",
            "Requirement already satisfied: numba in /usr/local/lib/python3.7/dist-packages (from torch_geometric) (0.51.2)\n",
            "Requirement already satisfied: tqdm in /usr/local/lib/python3.7/dist-packages (from torch_geometric) (4.41.1)\n",
            "Requirement already satisfied: h5py in /usr/local/lib/python3.7/dist-packages (from torch_geometric) (2.10.0)\n",
            "Requirement already satisfied: torch in /usr/local/lib/python3.7/dist-packages (from torch_geometric) (1.7.1+cu101)\n",
            "Requirement already satisfied: jinja2 in /usr/local/lib/python3.7/dist-packages (from torch_geometric) (2.11.3)\n",
            "Requirement already satisfied: googledrivedownloader in /usr/local/lib/python3.7/dist-packages (from torch_geometric) (0.4)\n",
            "Requirement already satisfied: networkx in /usr/local/lib/python3.7/dist-packages (from torch_geometric) (2.5)\n",
            "Requirement already satisfied: requests in /usr/local/lib/python3.7/dist-packages (from torch_geometric) (2.23.0)\n",
            "Requirement already satisfied: python-louvain in /usr/local/lib/python3.7/dist-packages (from torch_geometric) (0.15)\n",
            "Requirement already satisfied: scikit-learn in /usr/local/lib/python3.7/dist-packages (from torch_geometric) (0.22.2.post1)\n",
            "Requirement already satisfied: scipy in /usr/local/lib/python3.7/dist-packages (from torch_geometric) (1.4.1)\n",
            "Requirement already satisfied: matplotlib>=2.0.0 in /usr/local/lib/python3.7/dist-packages (from ase->torch_geometric) (3.2.2)\n",
            "Requirement already satisfied: six in /usr/local/lib/python3.7/dist-packages (from rdflib->torch_geometric) (1.15.0)\n",
            "Requirement already satisfied: pyparsing in /usr/local/lib/python3.7/dist-packages (from rdflib->torch_geometric) (2.4.7)\n",
            "Requirement already satisfied: isodate in /usr/local/lib/python3.7/dist-packages (from rdflib->torch_geometric) (0.6.0)\n",
            "Requirement already satisfied: python-dateutil>=2.7.3 in /usr/local/lib/python3.7/dist-packages (from pandas->torch_geometric) (2.8.1)\n",
            "Requirement already satisfied: pytz>=2017.2 in /usr/local/lib/python3.7/dist-packages (from pandas->torch_geometric) (2018.9)\n",
            "Requirement already satisfied: setuptools in /usr/local/lib/python3.7/dist-packages (from numba->torch_geometric) (53.0.0)\n",
            "Requirement already satisfied: llvmlite<0.35,>=0.34.0.dev0 in /usr/local/lib/python3.7/dist-packages (from numba->torch_geometric) (0.34.0)\n",
            "Requirement already satisfied: typing-extensions in /usr/local/lib/python3.7/dist-packages (from torch->torch_geometric) (3.7.4.3)\n",
            "Requirement already satisfied: MarkupSafe>=0.23 in /usr/local/lib/python3.7/dist-packages (from jinja2->torch_geometric) (1.1.1)\n",
            "Requirement already satisfied: decorator>=4.3.0 in /usr/local/lib/python3.7/dist-packages (from networkx->torch_geometric) (4.4.2)\n",
            "Requirement already satisfied: idna<3,>=2.5 in /usr/local/lib/python3.7/dist-packages (from requests->torch_geometric) (2.10)\n",
            "Requirement already satisfied: urllib3!=1.25.0,!=1.25.1,<1.26,>=1.21.1 in /usr/local/lib/python3.7/dist-packages (from requests->torch_geometric) (1.24.3)\n",
            "Requirement already satisfied: certifi>=2017.4.17 in /usr/local/lib/python3.7/dist-packages (from requests->torch_geometric) (2020.12.5)\n",
            "Requirement already satisfied: chardet<4,>=3.0.2 in /usr/local/lib/python3.7/dist-packages (from requests->torch_geometric) (3.0.4)\n",
            "Requirement already satisfied: joblib>=0.11 in /usr/local/lib/python3.7/dist-packages (from scikit-learn->torch_geometric) (1.0.1)\n",
            "Requirement already satisfied: cycler>=0.10 in /usr/local/lib/python3.7/dist-packages (from matplotlib>=2.0.0->ase->torch_geometric) (0.10.0)\n",
            "Requirement already satisfied: kiwisolver>=1.0.1 in /usr/local/lib/python3.7/dist-packages (from matplotlib>=2.0.0->ase->torch_geometric) (1.3.1)\n"
          ],
          "name": "stdout"
        }
      ]
    },
    {
      "cell_type": "code",
      "metadata": {
        "colab": {
          "base_uri": "https://localhost:8080/"
        },
        "id": "euKC3DRAh9pk",
        "outputId": "f29ee27f-306a-4685-b8ef-6cb2c2282d9b"
      },
      "source": [
        "!apt-get install python3-dev graphviz libgraphviz-dev pkg-config\r\n",
        "!pip install graphviz\r\n",
        "!pip install pygraphviz"
      ],
      "execution_count": 2,
      "outputs": [
        {
          "output_type": "stream",
          "text": [
            "Reading package lists... Done\n",
            "Building dependency tree       \n",
            "Reading state information... Done\n",
            "pkg-config is already the newest version (0.29.1-0ubuntu2).\n",
            "graphviz is already the newest version (2.40.1-2).\n",
            "libgraphviz-dev is already the newest version (2.40.1-2).\n",
            "python3-dev is already the newest version (3.6.7-1~18.04).\n",
            "0 upgraded, 0 newly installed, 0 to remove and 13 not upgraded.\n",
            "Requirement already satisfied: graphviz in /usr/local/lib/python3.7/dist-packages (0.10.1)\n",
            "Requirement already satisfied: pygraphviz in /usr/local/lib/python3.7/dist-packages (1.7)\n"
          ],
          "name": "stdout"
        }
      ]
    },
    {
      "cell_type": "code",
      "metadata": {
        "colab": {
          "base_uri": "https://localhost:8080/"
        },
        "id": "YkFWPpsW1UHh",
        "outputId": "7e77bf68-eae4-4561-8e64-279c2b9657ec"
      },
      "source": [
        "!pip install visdom\r\n",
        "!pip install GPUtil"
      ],
      "execution_count": 3,
      "outputs": [
        {
          "output_type": "stream",
          "text": [
            "Requirement already satisfied: visdom in /usr/local/lib/python3.7/dist-packages (0.1.8.9)\n",
            "Requirement already satisfied: requests in /usr/local/lib/python3.7/dist-packages (from visdom) (2.23.0)\n",
            "Requirement already satisfied: pillow in /usr/local/lib/python3.7/dist-packages (from visdom) (7.0.0)\n",
            "Requirement already satisfied: numpy>=1.8 in /usr/local/lib/python3.7/dist-packages (from visdom) (1.19.5)\n",
            "Requirement already satisfied: six in /usr/local/lib/python3.7/dist-packages (from visdom) (1.15.0)\n",
            "Requirement already satisfied: pyzmq in /usr/local/lib/python3.7/dist-packages (from visdom) (22.0.3)\n",
            "Requirement already satisfied: jsonpatch in /usr/local/lib/python3.7/dist-packages (from visdom) (1.28)\n",
            "Requirement already satisfied: websocket-client in /usr/local/lib/python3.7/dist-packages (from visdom) (0.57.0)\n",
            "Requirement already satisfied: torchfile in /usr/local/lib/python3.7/dist-packages (from visdom) (0.1.0)\n",
            "Requirement already satisfied: scipy in /usr/local/lib/python3.7/dist-packages (from visdom) (1.4.1)\n",
            "Requirement already satisfied: tornado in /usr/local/lib/python3.7/dist-packages (from visdom) (5.1.1)\n",
            "Requirement already satisfied: idna<3,>=2.5 in /usr/local/lib/python3.7/dist-packages (from requests->visdom) (2.10)\n",
            "Requirement already satisfied: certifi>=2017.4.17 in /usr/local/lib/python3.7/dist-packages (from requests->visdom) (2020.12.5)\n",
            "Requirement already satisfied: chardet<4,>=3.0.2 in /usr/local/lib/python3.7/dist-packages (from requests->visdom) (3.0.4)\n",
            "Requirement already satisfied: urllib3!=1.25.0,!=1.25.1,<1.26,>=1.21.1 in /usr/local/lib/python3.7/dist-packages (from requests->visdom) (1.24.3)\n",
            "Requirement already satisfied: jsonpointer>=1.9 in /usr/local/lib/python3.7/dist-packages (from jsonpatch->visdom) (2.0)\n",
            "Requirement already satisfied: GPUtil in /usr/local/lib/python3.7/dist-packages (1.4.0)\n"
          ],
          "name": "stdout"
        }
      ]
    },
    {
      "cell_type": "code",
      "metadata": {
        "colab": {
          "base_uri": "https://localhost:8080/"
        },
        "id": "n5B1kn471W5P",
        "outputId": "44c35483-16cf-4171-ee08-d321280e846e"
      },
      "source": [
        "from google.colab import drive\r\n",
        "drive.mount('/content/drive/')\r\n",
        "\r\n",
        "import sys\r\n",
        "sys.path.append('/content/drive/My Drive/ISLR Course - Fall 2020/Project')\r\n"
      ],
      "execution_count": 4,
      "outputs": [
        {
          "output_type": "stream",
          "text": [
            "Drive already mounted at /content/drive/; to attempt to forcibly remount, call drive.mount(\"/content/drive/\", force_remount=True).\n"
          ],
          "name": "stdout"
        }
      ]
    },
    {
      "cell_type": "code",
      "metadata": {
        "id": "Sk7clZuus2nm"
      },
      "source": [
        "import os\r\n",
        "import pickle\r\n",
        "import torch\r\n",
        "import torch.nn.functional as F\r\n",
        "from torch.nn import Linear\r\n",
        "# from kernel.datasets import get_dataset\r\n",
        "import time\r\n",
        "from torch import tensor\r\n",
        "from torch.optim import Adam\r\n",
        "from torch.optim import SGD\r\n",
        "from torch_geometric.data import DataLoader, DenseDataLoader as DenseLoader\r\n",
        "from math import ceil\r\n",
        "from torch.nn import Linear\r\n",
        "from torch.distributions import categorical\r\n",
        "from torch.distributions import Bernoulli\r\n",
        "import torch.nn\r\n",
        "%matplotlib inline\r\n",
        "from matplotlib import pyplot as plt\r\n",
        "import pygraphviz as pgv\r\n",
        "from torch_geometric.utils import convert as cnv\r\n",
        "from torch_geometric.utils import sparse as sp\r\n",
        "from torch_geometric.data import Data\r\n",
        "import pygraphviz as pgv\r\n",
        "from networkx.drawing.nx_agraph import graphviz_layout\r\n",
        "import networkx as nx\r\n",
        "from torch.utils.data.sampler import RandomSampler\r\n",
        "from torch.nn.functional import gumbel_softmax\r\n",
        "from torch.distributions import relaxed_categorical\r\n",
        "from torch_geometric.nn.inits import uniform\r\n",
        "from torch_geometric.nn.inits import glorot, zeros\r\n",
        "from torch.nn import Parameter\r\n",
        "from torch.nn import Sequential as Seq, Linear, ReLU\r\n",
        "from torch_geometric.nn import MessagePassing\r\n",
        "from torch_geometric.utils import degree\r\n",
        "from torch_geometric.nn import GINConv, GATConv\r\n",
        "from torch.nn import Parameter\r\n",
        "from torch.nn import Sequential as Seq, Linear, ReLU, LeakyReLU\r\n",
        "from torch_geometric.nn import MessagePassing\r\n",
        "from torch.nn import Linear, Sequential, ReLU, BatchNorm1d as BN\r\n",
        "# from torch_geometric.utils import scatter_\r\n",
        "from torch_geometric.data import Batch \r\n",
        "from torch_scatter import scatter_min, scatter_max, scatter_add, scatter_mean\r\n",
        "from torch import autograd\r\n",
        "from torch_geometric.utils import softmax, add_self_loops, remove_self_loops, segregate_self_loops, remove_isolated_nodes, contains_isolated_nodes, add_remaining_self_loops\r\n",
        "from models import cut_MPNN\r\n",
        "from modules_and_utils import derandomize_cut, GATAConv,get_diracs\r\n",
        "import scipy\r\n",
        "import scipy.io\r\n",
        "import GPUtil"
      ],
      "execution_count": 5,
      "outputs": []
    },
    {
      "cell_type": "code",
      "metadata": {
        "id": "gYEIOef37GYZ"
      },
      "source": [
        "datasets = [\"facebook\", \"sf\",\"twitter\"]\r\n",
        "curr_dataset= datasets[0] \r\n",
        "#set random seed\r\n",
        "rseed = 201\r\n",
        "\r\n",
        "if curr_dataset==\"facebook\":\r\n",
        "    datasetname = \"facebook_graphs\"\r\n",
        "    dataset = []\r\n",
        "    device = torch.device('cuda' if torch.cuda.is_available() else 'cpu')\r\n",
        "    #set up facebook data \r\n",
        "    upper_limit = 15000\r\n",
        "    lower_limit = 0\r\n",
        "    path_to_facebook_dataset= \"%PATH\"\r\n",
        "        for file in os.listdir(path_to_facebook_dataset):\r\n",
        "            if file.endswith(\".mat\"):\r\n",
        "                adj_matrix = scipy.io.loadmat(path_to_facebook_dataset+str(file))\r\n",
        "                edge_index = from_scipy_sparse_matrix(adj_matrix['A'])[0]\r\n",
        "                x = torch.ones(adj_matrix['local_info'].shape[0])\r\n",
        "                if (adj_matrix['local_info'].shape[0] < lower_limit) or (adj_matrix['local_info'].shape[0] > upper_limit):\r\n",
        "                    continue\r\n",
        "                data_temp = Batch(x = x, edge_index = edge_index.long(), batch = torch.zeros_like(x).long())\r\n",
        "                data_proper = get_diracs(data_temp.to('cuda'), 1, sparse = True)\r\n",
        "                r,c = data_proper.edge_index\r\n",
        "                data = Batch(x = data_temp.x, edge_index = data_temp.edge_index)\r\n",
        "                degrees = degree(r, adj_matrix['local_info'].shape[0])\r\n",
        "                print(\"Graph specs: \")\r\n",
        "                print(\"number of nodes: \", adj_matrix['A'].shape[0])\r\n",
        "                print(\"average degree: \", degrees.mean(0))\r\n",
        "                print(\"total volume: \", data_proper.total_vol)\r\n",
        "                print(\"-------------\")\r\n",
        "                dataset += [data]\r\n",
        "\r\n",
        "else if curr_dataset==\"sf\":\r\n",
        "    datasetname = \"SF-295\"\r\n",
        "    dataset = get_dataset(datasetname,sparse=1)\r\n",
        "\r\n",
        "else if curr_dataset==\"twitter\"\r\n",
        "    path_to_twitter_dataset = \"%PATH\"\r\n",
        "    stored_dataset = open(path_to_twitter_dataset, 'rb')        \r\n",
        "    dataset = pickle.load(stored_dataset)    \r\n",
        "\r\n",
        "dataset_scale = 1.\r\n",
        "total_samples = int(np.floor(len(dataset)*dataset_scale))\r\n",
        "dataset = dataset[:total_samples]\r\n",
        "\r\n",
        "num_trainpoints = int(np.floor(0.6*len(dataset)))\r\n",
        "num_valpoints = int(np.floor(num_trainpoints/3))\r\n",
        "num_testpoints = len(dataset) - (num_trainpoints + num_valpoints)\r\n",
        "\r\n",
        "\r\n",
        "traindata= dataset[0:num_trainpoints]\r\n",
        "valdata = dataset[num_trainpoints:num_trainpoints + num_valpoints]\r\n",
        "\r\n",
        "testdata = dataset[num_trainpoints + num_valpoints:]\r\n",
        "\r\n",
        "batch_size = 32\r\n",
        "train_loader = DataLoader(traindata, batch_size, shuffle=True)\r\n",
        "test_loader = DataLoader(testdata, batch_size, shuffle=False)\r\n",
        "val_loader =  DataLoader(valdata, batch_size, shuffle=False)\r\n",
        "\r\n",
        "\r\n",
        "#set up random seed \r\n",
        "torch.manual_seed(rseed)\r\n",
        "np.random.seed(2)   \r\n",
        "torch.backends.cudnn.deterministic = True\r\n",
        "torch.backends.cudnn.benchmark = False"
      ],
      "execution_count": null,
      "outputs": []
    },
    {
      "cell_type": "markdown",
      "metadata": {
        "id": "tAAxHKxRuqpm"
      },
      "source": [
        "## Another dataset"
      ]
    },
    {
      "cell_type": "code",
      "metadata": {
        "id": "pkv1V8Thuv-L"
      },
      "source": [
        "from torch_geometric.datasets import TUDataset\r\n",
        "import numpy as np\r\n",
        "\r\n",
        "dataset = TUDataset(root='/tmp/ENZYMES', name='ENZYMES')\r\n",
        "dataset_name = \"ENZYMES\"\r\n",
        "\r\n",
        "dataset_scale = 1\r\n",
        "total_samples = int(np.floor(len(dataset)*dataset_scale))\r\n",
        "dataset = dataset[:total_samples]\r\n",
        "\r\n",
        "num_trainpoints = int(np.floor(0.6*len(dataset)))\r\n",
        "num_valpoints = int(np.floor(num_trainpoints/3))\r\n",
        "num_testpoints = len(dataset) - (num_trainpoints + num_valpoints)\r\n",
        "\r\n",
        "traindata= dataset[0:num_trainpoints]\r\n",
        "valdata = dataset[num_trainpoints:num_trainpoints + num_valpoints]\r\n",
        "testdata = dataset[num_trainpoints + num_valpoints:]\r\n",
        "\r\n",
        "batch_size = 32\r\n",
        "\r\n",
        "train_loader = DataLoader(traindata, batch_size, shuffle=True)\r\n",
        "test_loader = DataLoader(testdata, batch_size, shuffle=False)\r\n",
        "val_loader =  DataLoader(valdata, batch_size, shuffle=False)\r\n",
        "\r\n",
        "\r\n",
        "#set up random seeds \r\n",
        "torch.manual_seed(1)\r\n",
        "np.random.seed(2)   \r\n",
        "torch.backends.cudnn.deterministic = True\r\n",
        "torch.backends.cudnn.benchmark = False"
      ],
      "execution_count": 7,
      "outputs": []
    },
    {
      "cell_type": "markdown",
      "metadata": {
        "id": "42NNmvmVHFoZ"
      },
      "source": [
        "# Train"
      ]
    },
    {
      "cell_type": "code",
      "metadata": {
        "id": "CHhthBEH7zkg"
      },
      "source": [
        "def predict(model, data_loader, recfield):\r\n",
        "    net.eval()\r\n",
        "    avg_loss = 0\r\n",
        "    for data in data_loader:\r\n",
        "        optimizer.zero_grad()\r\n",
        "        data = data.to(device)\r\n",
        "        data = get_diracs(data, 1, sparse = True, effective_volume_range=0.15, receptive_field = recfield)\r\n",
        "        data = data.to(device)\r\n",
        "        retdict = net(data)\r\n",
        "        avg_loss += retdict['loss'][0].item()/len(data_loader)\r\n",
        "\r\n",
        "    return avg_loss"
      ],
      "execution_count": 8,
      "outputs": []
    },
    {
      "cell_type": "code",
      "metadata": {
        "colab": {
          "base_uri": "https://localhost:8080/",
          "height": 488
        },
        "id": "NfbKUcJE74Xf",
        "outputId": "ea0b7eed-86be-4ab4-ee88-5edd205a8131"
      },
      "source": [
        "epochs=150\r\n",
        "numlayers=6\r\n",
        "elasticity = 0.25\r\n",
        "receptive_field= numlayers + 1\r\n",
        "val_losses = []\r\n",
        "\r\n",
        "#for sf/twitter\r\n",
        "#net =  cut_MPNN(dataset,numlayers, 64, 64,1, elasticity = elasticity)\r\n",
        "\r\n",
        "#for faceboook\r\n",
        "net =  cut_MPNN(dataset,6, 64, 1,1, elasticity = 0.25)\r\n",
        "device = torch.device('cuda' if torch.cuda.is_available() else 'cpu')\r\n",
        "lr_decay_step_size = 5\r\n",
        "lr_decay_factor = 0.95\r\n",
        "\r\n",
        "net.to(device).reset_parameters()\r\n",
        "optimizer = Adam(net.parameters(), lr=0.0001, weight_decay=0.00)\r\n",
        "net.train()\r\n",
        "retdict = {}\r\n",
        "path_to_save = \"%PATH\"\r\n",
        "for epoch in range(epochs):\r\n",
        "    totalretdict = {}\r\n",
        "    count=0\r\n",
        "\r\n",
        "#-----------------------------------\r\n",
        "    # if epoch % 15 == 0:\r\n",
        "    #     val_losses += [predict(net, val_loader, receptive_field)]\r\n",
        "    #     if epoch>20:\r\n",
        "    #         if (val_losses[-1] > val_losses[-2]) and (val_losses[-1] > val_losses[-3]) and (epoch>100):\r\n",
        "    #             print(\"Converged!\")\r\n",
        "    #             if val_losses[-2] < val_losses[-3]:\r\n",
        "    #                 file_name = path_to_save+ str(datasetname)+ '/' + str(net)+ '_'+ str(epoch-15)+'_samples2'\r\n",
        "    #                 net.load_state_dict(torch.load(file_name), strict=False)\r\n",
        "    #             else:\r\n",
        "    #                 file_name = path_to_save+ str(datasetname)+ '/' + str(net)+ '_'+ str(epoch-30)+'_samples2'\r\n",
        "    #                 net.load_state_dict(torch.load(file_name), strict=False)\r\n",
        "    #             break\r\n",
        "    #         file_name = path_to_save + str(datasetname)+ '/' + str(net)+ '_'+ str(epoch)+'_samples2'\r\n",
        "    #         print(\"file_name: \", file_name)\r\n",
        "    #         torch.save({file_name : net.state_dict()},  file_name)\r\n",
        "    \r\n",
        "    #learning rate schedule\r\n",
        "    if epoch % lr_decay_step_size == 0:\r\n",
        "        for param_group in optimizer.param_groups:\r\n",
        "                    param_group['lr'] = lr_decay_factor * param_group['lr']\r\n",
        "\r\n",
        "    #show currrent epoch and GPU utilizationss\r\n",
        "    print('Epoch: ', epoch)\r\n",
        "    GPUtil.showUtilization()\r\n",
        "\r\n",
        "    net.train()\r\n",
        "\r\n",
        "    for data in train_loader:\r\n",
        "        count += 1 \r\n",
        "        optimizer.zero_grad(), \r\n",
        "        data = data.to(device)\r\n",
        "        data_prime = get_diracs(data, 1, sparse = True, effective_volume_range=0.15, receptive_field = receptive_field)\r\n",
        "\r\n",
        "        data = data.to('cpu')\r\n",
        "        data_prime = data_prime.to(device)  \r\n",
        "\r\n",
        "        retdict = net(data_prime)\r\n",
        "\r\n",
        "        for key,val in retdict.items():\r\n",
        "            if \"sequence\" in val[1]:\r\n",
        "                if key in totalretdict:\r\n",
        "                    totalretdict[key][0] += val[0].item()\r\n",
        "                else:\r\n",
        "                    totalretdict[key] = [val[0].item(),val[1]]\r\n",
        "        \r\n",
        "        if epoch > 0:\r\n",
        "                retdict[\"loss\"][0].backward()\r\n",
        "                torch.nn.utils.clip_grad_norm_(net.parameters(),1)\r\n",
        "                optimizer.step()                   \r\n",
        "\r\n",
        "        del data_prime"
      ],
      "execution_count": 10,
      "outputs": [
        {
          "output_type": "stream",
          "text": [
            "Epoch:  0\n",
            "| ID | GPU | MEM |\n",
            "------------------\n",
            "|  0 |  0% |  7% |\n",
            "111111111\n",
            "22222222\n"
          ],
          "name": "stdout"
        },
        {
          "output_type": "error",
          "ename": "IndexError",
          "evalue": "ignored",
          "traceback": [
            "\u001b[0;31m---------------------------------------------------------------------------\u001b[0m",
            "\u001b[0;31mIndexError\u001b[0m                                Traceback (most recent call last)",
            "\u001b[0;32m<ipython-input-10-b63836b24cdc>\u001b[0m in \u001b[0;36m<module>\u001b[0;34m()\u001b[0m\n\u001b[1;32m     60\u001b[0m         \u001b[0mdata_prime\u001b[0m \u001b[0;34m=\u001b[0m \u001b[0mdata_prime\u001b[0m\u001b[0;34m.\u001b[0m\u001b[0mto\u001b[0m\u001b[0;34m(\u001b[0m\u001b[0mdevice\u001b[0m\u001b[0;34m)\u001b[0m\u001b[0;34m\u001b[0m\u001b[0;34m\u001b[0m\u001b[0m\n\u001b[1;32m     61\u001b[0m \u001b[0;34m\u001b[0m\u001b[0m\n\u001b[0;32m---> 62\u001b[0;31m         \u001b[0mretdict\u001b[0m \u001b[0;34m=\u001b[0m \u001b[0mnet\u001b[0m\u001b[0;34m(\u001b[0m\u001b[0mdata_prime\u001b[0m\u001b[0;34m)\u001b[0m\u001b[0;34m\u001b[0m\u001b[0;34m\u001b[0m\u001b[0m\n\u001b[0m\u001b[1;32m     63\u001b[0m \u001b[0;34m\u001b[0m\u001b[0m\n\u001b[1;32m     64\u001b[0m         \u001b[0;32mfor\u001b[0m \u001b[0mkey\u001b[0m\u001b[0;34m,\u001b[0m\u001b[0mval\u001b[0m \u001b[0;32min\u001b[0m \u001b[0mretdict\u001b[0m\u001b[0;34m.\u001b[0m\u001b[0mitems\u001b[0m\u001b[0;34m(\u001b[0m\u001b[0;34m)\u001b[0m\u001b[0;34m:\u001b[0m\u001b[0;34m\u001b[0m\u001b[0;34m\u001b[0m\u001b[0m\n",
            "\u001b[0;32m/usr/local/lib/python3.7/dist-packages/torch/nn/modules/module.py\u001b[0m in \u001b[0;36m_call_impl\u001b[0;34m(self, *input, **kwargs)\u001b[0m\n\u001b[1;32m    725\u001b[0m             \u001b[0mresult\u001b[0m \u001b[0;34m=\u001b[0m \u001b[0mself\u001b[0m\u001b[0;34m.\u001b[0m\u001b[0m_slow_forward\u001b[0m\u001b[0;34m(\u001b[0m\u001b[0;34m*\u001b[0m\u001b[0minput\u001b[0m\u001b[0;34m,\u001b[0m \u001b[0;34m**\u001b[0m\u001b[0mkwargs\u001b[0m\u001b[0;34m)\u001b[0m\u001b[0;34m\u001b[0m\u001b[0;34m\u001b[0m\u001b[0m\n\u001b[1;32m    726\u001b[0m         \u001b[0;32melse\u001b[0m\u001b[0;34m:\u001b[0m\u001b[0;34m\u001b[0m\u001b[0;34m\u001b[0m\u001b[0m\n\u001b[0;32m--> 727\u001b[0;31m             \u001b[0mresult\u001b[0m \u001b[0;34m=\u001b[0m \u001b[0mself\u001b[0m\u001b[0;34m.\u001b[0m\u001b[0mforward\u001b[0m\u001b[0;34m(\u001b[0m\u001b[0;34m*\u001b[0m\u001b[0minput\u001b[0m\u001b[0;34m,\u001b[0m \u001b[0;34m**\u001b[0m\u001b[0mkwargs\u001b[0m\u001b[0;34m)\u001b[0m\u001b[0;34m\u001b[0m\u001b[0;34m\u001b[0m\u001b[0m\n\u001b[0m\u001b[1;32m    728\u001b[0m         for hook in itertools.chain(\n\u001b[1;32m    729\u001b[0m                 \u001b[0m_global_forward_hooks\u001b[0m\u001b[0;34m.\u001b[0m\u001b[0mvalues\u001b[0m\u001b[0;34m(\u001b[0m\u001b[0;34m)\u001b[0m\u001b[0;34m,\u001b[0m\u001b[0;34m\u001b[0m\u001b[0;34m\u001b[0m\u001b[0m\n",
            "\u001b[0;32m/content/drive/My Drive/ISLR Course - Fall 2020/Project/models.py\u001b[0m in \u001b[0;36mforward\u001b[0;34m(self, data, tvol)\u001b[0m\n\u001b[1;32m    107\u001b[0m         \u001b[0mmask\u001b[0m \u001b[0;34m=\u001b[0m \u001b[0mget_mask\u001b[0m\u001b[0;34m(\u001b[0m\u001b[0mx\u001b[0m\u001b[0;34m,\u001b[0m\u001b[0medge_index\u001b[0m\u001b[0;34m,\u001b[0m\u001b[0;36m1\u001b[0m\u001b[0;34m)\u001b[0m\u001b[0;34m.\u001b[0m\u001b[0mto\u001b[0m\u001b[0;34m(\u001b[0m\u001b[0mx\u001b[0m\u001b[0;34m.\u001b[0m\u001b[0mdtype\u001b[0m\u001b[0;34m)\u001b[0m\u001b[0;34m.\u001b[0m\u001b[0munsqueeze\u001b[0m\u001b[0;34m(\u001b[0m\u001b[0;34m-\u001b[0m\u001b[0;36m1\u001b[0m\u001b[0;34m)\u001b[0m\u001b[0;34m\u001b[0m\u001b[0;34m\u001b[0m\u001b[0m\n\u001b[1;32m    108\u001b[0m         \u001b[0mprint\u001b[0m\u001b[0;34m(\u001b[0m\u001b[0;34m'22222222'\u001b[0m\u001b[0;34m)\u001b[0m\u001b[0;34m\u001b[0m\u001b[0;34m\u001b[0m\u001b[0m\n\u001b[0;32m--> 109\u001b[0;31m         \u001b[0mx\u001b[0m \u001b[0;34m=\u001b[0m \u001b[0mself\u001b[0m\u001b[0;34m.\u001b[0m\u001b[0mconv1\u001b[0m\u001b[0;34m(\u001b[0m\u001b[0mx\u001b[0m\u001b[0;34m,\u001b[0m \u001b[0medge_index\u001b[0m\u001b[0;34m)\u001b[0m\u001b[0;34m\u001b[0m\u001b[0;34m\u001b[0m\u001b[0m\n\u001b[0m\u001b[1;32m    110\u001b[0m         \u001b[0mprint\u001b[0m\u001b[0;34m(\u001b[0m\u001b[0;34m'333333333'\u001b[0m\u001b[0;34m)\u001b[0m\u001b[0;34m\u001b[0m\u001b[0;34m\u001b[0m\u001b[0m\n\u001b[1;32m    111\u001b[0m         \u001b[0mxpostconv1\u001b[0m \u001b[0;34m=\u001b[0m \u001b[0mx\u001b[0m\u001b[0;34m.\u001b[0m\u001b[0mdetach\u001b[0m\u001b[0;34m(\u001b[0m\u001b[0;34m)\u001b[0m\u001b[0;34m\u001b[0m\u001b[0;34m\u001b[0m\u001b[0m\n",
            "\u001b[0;32m/usr/local/lib/python3.7/dist-packages/torch/nn/modules/module.py\u001b[0m in \u001b[0;36m_call_impl\u001b[0;34m(self, *input, **kwargs)\u001b[0m\n\u001b[1;32m    725\u001b[0m             \u001b[0mresult\u001b[0m \u001b[0;34m=\u001b[0m \u001b[0mself\u001b[0m\u001b[0;34m.\u001b[0m\u001b[0m_slow_forward\u001b[0m\u001b[0;34m(\u001b[0m\u001b[0;34m*\u001b[0m\u001b[0minput\u001b[0m\u001b[0;34m,\u001b[0m \u001b[0;34m**\u001b[0m\u001b[0mkwargs\u001b[0m\u001b[0;34m)\u001b[0m\u001b[0;34m\u001b[0m\u001b[0;34m\u001b[0m\u001b[0m\n\u001b[1;32m    726\u001b[0m         \u001b[0;32melse\u001b[0m\u001b[0;34m:\u001b[0m\u001b[0;34m\u001b[0m\u001b[0;34m\u001b[0m\u001b[0m\n\u001b[0;32m--> 727\u001b[0;31m             \u001b[0mresult\u001b[0m \u001b[0;34m=\u001b[0m \u001b[0mself\u001b[0m\u001b[0;34m.\u001b[0m\u001b[0mforward\u001b[0m\u001b[0;34m(\u001b[0m\u001b[0;34m*\u001b[0m\u001b[0minput\u001b[0m\u001b[0;34m,\u001b[0m \u001b[0;34m**\u001b[0m\u001b[0mkwargs\u001b[0m\u001b[0;34m)\u001b[0m\u001b[0;34m\u001b[0m\u001b[0;34m\u001b[0m\u001b[0m\n\u001b[0m\u001b[1;32m    728\u001b[0m         for hook in itertools.chain(\n\u001b[1;32m    729\u001b[0m                 \u001b[0m_global_forward_hooks\u001b[0m\u001b[0;34m.\u001b[0m\u001b[0mvalues\u001b[0m\u001b[0;34m(\u001b[0m\u001b[0;34m)\u001b[0m\u001b[0;34m,\u001b[0m\u001b[0;34m\u001b[0m\u001b[0;34m\u001b[0m\u001b[0m\n",
            "\u001b[0;32m/usr/local/lib/python3.7/dist-packages/torch_geometric/nn/conv/gin_conv.py\u001b[0m in \u001b[0;36mforward\u001b[0;34m(self, x, edge_index, size)\u001b[0m\n\u001b[1;32m     62\u001b[0m \u001b[0;34m\u001b[0m\u001b[0m\n\u001b[1;32m     63\u001b[0m         \u001b[0;31m# propagate_type: (x: OptPairTensor)\u001b[0m\u001b[0;34m\u001b[0m\u001b[0;34m\u001b[0m\u001b[0;34m\u001b[0m\u001b[0m\n\u001b[0;32m---> 64\u001b[0;31m         \u001b[0mout\u001b[0m \u001b[0;34m=\u001b[0m \u001b[0mself\u001b[0m\u001b[0;34m.\u001b[0m\u001b[0mpropagate\u001b[0m\u001b[0;34m(\u001b[0m\u001b[0medge_index\u001b[0m\u001b[0;34m,\u001b[0m \u001b[0mx\u001b[0m\u001b[0;34m=\u001b[0m\u001b[0mx\u001b[0m\u001b[0;34m,\u001b[0m \u001b[0msize\u001b[0m\u001b[0;34m=\u001b[0m\u001b[0msize\u001b[0m\u001b[0;34m)\u001b[0m\u001b[0;34m\u001b[0m\u001b[0;34m\u001b[0m\u001b[0m\n\u001b[0m\u001b[1;32m     65\u001b[0m \u001b[0;34m\u001b[0m\u001b[0m\n\u001b[1;32m     66\u001b[0m         \u001b[0mx_r\u001b[0m \u001b[0;34m=\u001b[0m \u001b[0mx\u001b[0m\u001b[0;34m[\u001b[0m\u001b[0;36m1\u001b[0m\u001b[0;34m]\u001b[0m\u001b[0;34m\u001b[0m\u001b[0;34m\u001b[0m\u001b[0m\n",
            "\u001b[0;32m/usr/local/lib/python3.7/dist-packages/torch_geometric/nn/conv/message_passing.py\u001b[0m in \u001b[0;36mpropagate\u001b[0;34m(self, edge_index, size, **kwargs)\u001b[0m\n\u001b[1;32m    232\u001b[0m         \u001b[0;32melif\u001b[0m \u001b[0misinstance\u001b[0m\u001b[0;34m(\u001b[0m\u001b[0medge_index\u001b[0m\u001b[0;34m,\u001b[0m \u001b[0mTensor\u001b[0m\u001b[0;34m)\u001b[0m \u001b[0;32mor\u001b[0m \u001b[0;32mnot\u001b[0m \u001b[0mself\u001b[0m\u001b[0;34m.\u001b[0m\u001b[0mfuse\u001b[0m\u001b[0;34m:\u001b[0m\u001b[0;34m\u001b[0m\u001b[0;34m\u001b[0m\u001b[0m\n\u001b[1;32m    233\u001b[0m             coll_dict = self.__collect__(self.__user_args__, edge_index, size,\n\u001b[0;32m--> 234\u001b[0;31m                                          kwargs)\n\u001b[0m\u001b[1;32m    235\u001b[0m \u001b[0;34m\u001b[0m\u001b[0m\n\u001b[1;32m    236\u001b[0m             \u001b[0mmsg_kwargs\u001b[0m \u001b[0;34m=\u001b[0m \u001b[0mself\u001b[0m\u001b[0;34m.\u001b[0m\u001b[0minspector\u001b[0m\u001b[0;34m.\u001b[0m\u001b[0mdistribute\u001b[0m\u001b[0;34m(\u001b[0m\u001b[0;34m'message'\u001b[0m\u001b[0;34m,\u001b[0m \u001b[0mcoll_dict\u001b[0m\u001b[0;34m)\u001b[0m\u001b[0;34m\u001b[0m\u001b[0;34m\u001b[0m\u001b[0m\n",
            "\u001b[0;32m/usr/local/lib/python3.7/dist-packages/torch_geometric/nn/conv/message_passing.py\u001b[0m in \u001b[0;36m__collect__\u001b[0;34m(self, args, edge_index, size, kwargs)\u001b[0m\n\u001b[1;32m    150\u001b[0m                     \u001b[0;32massert\u001b[0m \u001b[0mlen\u001b[0m\u001b[0;34m(\u001b[0m\u001b[0mdata\u001b[0m\u001b[0;34m)\u001b[0m \u001b[0;34m==\u001b[0m \u001b[0;36m2\u001b[0m\u001b[0;34m\u001b[0m\u001b[0;34m\u001b[0m\u001b[0m\n\u001b[1;32m    151\u001b[0m                     \u001b[0;32mif\u001b[0m \u001b[0misinstance\u001b[0m\u001b[0;34m(\u001b[0m\u001b[0mdata\u001b[0m\u001b[0;34m[\u001b[0m\u001b[0;36m1\u001b[0m \u001b[0;34m-\u001b[0m \u001b[0mdim\u001b[0m\u001b[0;34m]\u001b[0m\u001b[0;34m,\u001b[0m \u001b[0mTensor\u001b[0m\u001b[0;34m)\u001b[0m\u001b[0;34m:\u001b[0m\u001b[0;34m\u001b[0m\u001b[0;34m\u001b[0m\u001b[0m\n\u001b[0;32m--> 152\u001b[0;31m                         \u001b[0mself\u001b[0m\u001b[0;34m.\u001b[0m\u001b[0m__set_size__\u001b[0m\u001b[0;34m(\u001b[0m\u001b[0msize\u001b[0m\u001b[0;34m,\u001b[0m \u001b[0;36m1\u001b[0m \u001b[0;34m-\u001b[0m \u001b[0mdim\u001b[0m\u001b[0;34m,\u001b[0m \u001b[0mdata\u001b[0m\u001b[0;34m[\u001b[0m\u001b[0;36m1\u001b[0m \u001b[0;34m-\u001b[0m \u001b[0mdim\u001b[0m\u001b[0;34m]\u001b[0m\u001b[0;34m)\u001b[0m\u001b[0;34m\u001b[0m\u001b[0;34m\u001b[0m\u001b[0m\n\u001b[0m\u001b[1;32m    153\u001b[0m                     \u001b[0mdata\u001b[0m \u001b[0;34m=\u001b[0m \u001b[0mdata\u001b[0m\u001b[0;34m[\u001b[0m\u001b[0mdim\u001b[0m\u001b[0;34m]\u001b[0m\u001b[0;34m\u001b[0m\u001b[0;34m\u001b[0m\u001b[0m\n\u001b[1;32m    154\u001b[0m \u001b[0;34m\u001b[0m\u001b[0m\n",
            "\u001b[0;32m/usr/local/lib/python3.7/dist-packages/torch_geometric/nn/conv/message_passing.py\u001b[0m in \u001b[0;36m__set_size__\u001b[0;34m(self, size, dim, src)\u001b[0m\n\u001b[1;32m    116\u001b[0m         \u001b[0mthe_size\u001b[0m \u001b[0;34m=\u001b[0m \u001b[0msize\u001b[0m\u001b[0;34m[\u001b[0m\u001b[0mdim\u001b[0m\u001b[0;34m]\u001b[0m\u001b[0;34m\u001b[0m\u001b[0;34m\u001b[0m\u001b[0m\n\u001b[1;32m    117\u001b[0m         \u001b[0;32mif\u001b[0m \u001b[0mthe_size\u001b[0m \u001b[0;32mis\u001b[0m \u001b[0;32mNone\u001b[0m\u001b[0;34m:\u001b[0m\u001b[0;34m\u001b[0m\u001b[0;34m\u001b[0m\u001b[0m\n\u001b[0;32m--> 118\u001b[0;31m             \u001b[0msize\u001b[0m\u001b[0;34m[\u001b[0m\u001b[0mdim\u001b[0m\u001b[0;34m]\u001b[0m \u001b[0;34m=\u001b[0m \u001b[0msrc\u001b[0m\u001b[0;34m.\u001b[0m\u001b[0msize\u001b[0m\u001b[0;34m(\u001b[0m\u001b[0mself\u001b[0m\u001b[0;34m.\u001b[0m\u001b[0mnode_dim\u001b[0m\u001b[0;34m)\u001b[0m\u001b[0;34m\u001b[0m\u001b[0;34m\u001b[0m\u001b[0m\n\u001b[0m\u001b[1;32m    119\u001b[0m         \u001b[0;32melif\u001b[0m \u001b[0mthe_size\u001b[0m \u001b[0;34m!=\u001b[0m \u001b[0msrc\u001b[0m\u001b[0;34m.\u001b[0m\u001b[0msize\u001b[0m\u001b[0;34m(\u001b[0m\u001b[0mself\u001b[0m\u001b[0;34m.\u001b[0m\u001b[0mnode_dim\u001b[0m\u001b[0;34m)\u001b[0m\u001b[0;34m:\u001b[0m\u001b[0;34m\u001b[0m\u001b[0;34m\u001b[0m\u001b[0m\n\u001b[1;32m    120\u001b[0m             raise ValueError(\n",
            "\u001b[0;31mIndexError\u001b[0m: Dimension out of range (expected to be in range of [-1, 0], but got -2)"
          ]
        }
      ]
    }
  ]
}
